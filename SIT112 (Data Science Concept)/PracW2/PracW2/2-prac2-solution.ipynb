{
 "cells": [
  {
   "cell_type": "markdown",
   "metadata": {},
   "source": [
    "# <span style=\"color:#0b486b\">SIT 112 - Data Science Concepts</span>\n",
    "\n",
    "---\n",
    "Lecturer: Sergiy Shelyag | sergiy.shelyag@deakin.edu.au<br />\n",
    "\n",
    "School of Information Technology, <br />\n",
    "Deakin University, VIC 3216, Australia.\n",
    "\n",
    "---\n",
    "\n",
    "## <span style=\"color:#0b486b\">Practical Session 2.2</span>\n",
    "\n",
    "**The purpose of this session** is to revise more advanced features of Python language, including loops and function declarations, and allow you the time to practice."
   ]
  },
  {
   "cell_type": "markdown",
   "metadata": {},
   "source": [
    "---\n",
    "### <span style=\"color:#0b486b\">1. Loops</span>"
   ]
  },
  {
   "cell_type": "markdown",
   "metadata": {},
   "source": [
    "In Python, loops can be programmed in a number of different ways. The most common is the `'for'` loop, which is used together with iterable objects like lists."
   ]
  },
  {
   "cell_type": "markdown",
   "metadata": {},
   "source": [
    "#### <span style=\"color:#0b486b\">1.1 For loops</span>"
   ]
  },
  {
   "cell_type": "markdown",
   "metadata": {},
   "source": [
    "The `for` loop has the ability to iterate over the items of any sequence, such as a list or a string, and repeat executing a statement or a group of statements"
   ]
  },
  {
   "cell_type": "code",
   "execution_count": 9,
   "metadata": {},
   "outputs": [
    {
     "name": "stdout",
     "output_type": "stream",
     "text": [
      "1\n",
      "2\n",
      "3\n",
      "4\n",
      "5\n"
     ]
    }
   ],
   "source": [
    "list1 = [1, 2, 3, 4, 5]\n",
    "for item in list1:   # iterate over the items of the list\n",
    "    print(item)  # do something "
   ]
  },
  {
   "cell_type": "code",
   "execution_count": 10,
   "metadata": {},
   "outputs": [
    {
     "name": "stdout",
     "output_type": "stream",
     "text": [
      "0\n",
      "0\n",
      "1\n",
      "1\n",
      "2\n",
      "4\n",
      "3\n",
      "9\n"
     ]
    }
   ],
   "source": [
    "# range(n) is a list of n elements [0, 1,..., n-1]\n",
    "for x in range(4): # by default range start at 0\n",
    "    # At each step, the statement or a group of statements is executed\n",
    "    print(x)\n",
    "    print(x**2)"
   ]
  },
  {
   "cell_type": "code",
   "execution_count": 11,
   "metadata": {},
   "outputs": [
    {
     "name": "stdout",
     "output_type": "stream",
     "text": [
      "an\n",
      "introduction\n",
      "to\n",
      "data\n",
      "science\n"
     ]
    }
   ],
   "source": [
    "course = [\"an\", \"introduction\", \"to\", \"data\", \"science\"]\n",
    "for word in course:\n",
    "    print(word)"
   ]
  },
  {
   "cell_type": "code",
   "execution_count": 12,
   "metadata": {},
   "outputs": [
    {
     "name": "stdout",
     "output_type": "stream",
     "text": [
      "0 an\n",
      "1 introduction\n",
      "2 to\n",
      "3 data\n",
      "4 science\n"
     ]
    }
   ],
   "source": [
    "# use enumerate to access a list items and their indices\n",
    "\n",
    "course = [\"an\", \"introduction\", \"to\", \"data\", \"science\"]\n",
    "for idx, x in enumerate(course):\n",
    "    print(idx, x)"
   ]
  },
  {
   "cell_type": "markdown",
   "metadata": {},
   "source": [
    "**Exercise**: Declare a variable named `my_var` and assign an integer to it. Print all even numbers that are smaller `my_var`"
   ]
  },
  {
   "cell_type": "code",
   "execution_count": 13,
   "metadata": {},
   "outputs": [
    {
     "name": "stdout",
     "output_type": "stream",
     "text": [
      "0\n",
      "2\n",
      "4\n",
      "6\n",
      "8\n",
      "10\n",
      "12\n",
      "14\n",
      "16\n",
      "18\n"
     ]
    }
   ],
   "source": [
    "# your code here\n",
    "my_var = 20\n",
    "for x in range(my_var):\n",
    "    if (x % 2 == 0):\n",
    "        print(x)"
   ]
  },
  {
   "cell_type": "markdown",
   "metadata": {},
   "source": [
    "#### <span style=\"color:#0b486b\">1.2 List comprehension</span>\n",
    "A convenient and compact way to initialize lists:"
   ]
  },
  {
   "cell_type": "code",
   "execution_count": 14,
   "metadata": {},
   "outputs": [
    {
     "name": "stdout",
     "output_type": "stream",
     "text": [
      "[4, 9, 16, 25]\n"
     ]
    }
   ],
   "source": [
    "# range(m, n) is a list: [m, m+1,...,n-1]\n",
    "list2 = [x**2 for x in range(2, 6)]\n",
    "\n",
    "print(list2)"
   ]
  },
  {
   "cell_type": "markdown",
   "metadata": {},
   "source": [
    "**Exercise:** Create a list and fill it with integers from 1 to 50. Now iterate over items of the list and if the item is divisible by 3 and not divisible by 2, print it on the screen."
   ]
  },
  {
   "cell_type": "code",
   "execution_count": 15,
   "metadata": {},
   "outputs": [
    {
     "name": "stdout",
     "output_type": "stream",
     "text": [
      "3\n",
      "9\n",
      "15\n",
      "21\n",
      "27\n",
      "33\n",
      "39\n",
      "45\n"
     ]
    }
   ],
   "source": [
    "# your code here\n",
    "new_list = [i for i in range(1, 51)]\n",
    "for x in new_list:\n",
    "    if x % 3 == 0 and (x % 2 != 0):\n",
    "        print(x)"
   ]
  },
  {
   "cell_type": "markdown",
   "metadata": {},
   "source": [
    "**Exercise:** Create a list of integers and print the sum of all elements."
   ]
  },
  {
   "cell_type": "code",
   "execution_count": 16,
   "metadata": {},
   "outputs": [
    {
     "name": "stdout",
     "output_type": "stream",
     "text": [
      "The sum of the list is: 45\n"
     ]
    }
   ],
   "source": [
    "# your code here\n",
    "int_list = [1, 5, 2, 10, 7, 20]\n",
    "sum_value = 0\n",
    "for x in int_list:\n",
    "    sum_value += x\n",
    "    \n",
    "print('The sum of the list is:', sum_value)"
   ]
  },
  {
   "cell_type": "markdown",
   "metadata": {},
   "source": [
    "#### <span style=\"color:#0b486b\">1.3 While loops</span>"
   ]
  },
  {
   "cell_type": "markdown",
   "metadata": {},
   "source": [
    "While loops repeat a statement or group of statements while a given condition is **True**. It tests the condition before executing the loop body."
   ]
  },
  {
   "cell_type": "code",
   "execution_count": 17,
   "metadata": {},
   "outputs": [
    {
     "name": "stdout",
     "output_type": "stream",
     "text": [
      "0 1 2 3 4 done\n"
     ]
    }
   ],
   "source": [
    "i = 0\n",
    "\n",
    "while i < 5: # First, the loop test if the condition \"i < 5\" is True. \n",
    "    # end=' ' means that a space will be printed \n",
    "    # ...after each number i instead of a line break\n",
    "    print(i, end=' ')\n",
    "    \n",
    "    i += 1\n",
    "    \n",
    "print(\"done\")"
   ]
  },
  {
   "cell_type": "markdown",
   "metadata": {},
   "source": [
    "Note that the `print(\"done\")` statement is a not part of the `while` loop body because of the difference in indentation."
   ]
  },
  {
   "cell_type": "markdown",
   "metadata": {},
   "source": [
    "**Exercise:** Define an integer variable named `limit`. Print the largest square number that is smaller than `limit`. For example, if `limit` is 40 then print `36`."
   ]
  },
  {
   "cell_type": "code",
   "execution_count": 18,
   "metadata": {},
   "outputs": [
    {
     "name": "stdout",
     "output_type": "stream",
     "text": [
      "The largest square number smaller than limit is: 36\n"
     ]
    }
   ],
   "source": [
    "# your code here\n",
    "\n",
    "limit = 40\n",
    "i = 0\n",
    "while i ** 2 < limit:\n",
    "    i += 1\n",
    "    \n",
    "# now i * i is the bigger than or equal to limit\n",
    "# we need (i - 1) ** 2\n",
    "print('The largest square number smaller than limit is:', (i - 1) ** 2)"
   ]
  },
  {
   "cell_type": "markdown",
   "metadata": {},
   "source": [
    "#### <span style=\"color:#0b486b\">1.4 Nested loops</span>"
   ]
  },
  {
   "cell_type": "markdown",
   "metadata": {},
   "source": [
    "In Python, a loop can appear inside another loop. Execute the cell below:"
   ]
  },
  {
   "cell_type": "code",
   "execution_count": 19,
   "metadata": {},
   "outputs": [
    {
     "name": "stdout",
     "output_type": "stream",
     "text": [
      "W e l c o m e \n",
      "t o \n",
      "S I T 1 1 2 \n"
     ]
    }
   ],
   "source": [
    "sentence = ['Welcome', 'to', 'SIT112']\n",
    "for word in sentence:\n",
    "    for character in word:\n",
    "        print(character, end=' ')\n",
    "    print()"
   ]
  },
  {
   "cell_type": "markdown",
   "metadata": {},
   "source": [
    "---\n",
    "### <span style=\"color:#0b486b\">2. Functions</span>"
   ]
  },
  {
   "cell_type": "markdown",
   "metadata": {},
   "source": [
    "A function in Python is defined using the keyword `def`, followed by a function name, one or several arguments within parentheses `()`, and a colon `:`. The following code, **with one additional level of indentation**, is the function body. It is recommended to use \"docstring\" for your functions."
   ]
  },
  {
   "cell_type": "code",
   "execution_count": 20,
   "metadata": {
    "collapsed": true
   },
   "outputs": [],
   "source": [
    "def func1(s):\n",
    "    \"\"\"\n",
    "    THIS BIT IS CALLED DOCSTRING\n",
    "    s is the paramter of the function\n",
    "    Print a string 's' and tell how many characters it has    \n",
    "    \"\"\"\n",
    "    \n",
    "    print(s + \" has \" + str(len(s)) + \" characters\")"
   ]
  },
  {
   "cell_type": "code",
   "execution_count": 21,
   "metadata": {},
   "outputs": [
    {
     "name": "stdout",
     "output_type": "stream",
     "text": [
      "test has 4 characters\n"
     ]
    }
   ],
   "source": [
    "func1(\"test\")"
   ]
  },
  {
   "cell_type": "markdown",
   "metadata": {},
   "source": [
    "A function can have multiple arguments. For example, the function computes the sum of two numbers:"
   ]
  },
  {
   "cell_type": "code",
   "execution_count": 22,
   "metadata": {
    "collapsed": true
   },
   "outputs": [],
   "source": [
    "def sum_of_2_numbers(a, b):\n",
    "    \"\"\"\n",
    "    This function reads 2 numbers a and b and print their sum\n",
    "    \"\"\"\n",
    "    print(a + b)"
   ]
  },
  {
   "cell_type": "markdown",
   "metadata": {},
   "source": [
    "Use the ``return`` keyword for functions that return a value. A function can also return multiple values using tuples."
   ]
  },
  {
   "cell_type": "code",
   "execution_count": 23,
   "metadata": {
    "collapsed": true
   },
   "outputs": [],
   "source": [
    "def powers(x):\n",
    "    \"\"\"\n",
    "    Return a few powers of x.\n",
    "    \"\"\"\n",
    "    return x**2, x**3, x**4"
   ]
  },
  {
   "cell_type": "code",
   "execution_count": 24,
   "metadata": {},
   "outputs": [
    {
     "name": "stdout",
     "output_type": "stream",
     "text": [
      "(9, 27, 81)\n",
      "27\n"
     ]
    }
   ],
   "source": [
    "print(powers(3))\n",
    "\n",
    "x1, x2, x3 = powers(3)\n",
    "print(x2)"
   ]
  },
  {
   "cell_type": "markdown",
   "metadata": {},
   "source": [
    "**Exercise:** \n",
    "\n",
    "1. Write a function that takes a list of numbers and prints elements of it that are divisible by 3 and not divisible by 2.\n",
    "3. Create a a list and fill it with integers from 1 to 50. Use the function you have written in the previous step to print out items of the list that are divisible by 3 and not divisible by 2."
   ]
  },
  {
   "cell_type": "code",
   "execution_count": 25,
   "metadata": {},
   "outputs": [
    {
     "name": "stdout",
     "output_type": "stream",
     "text": [
      "3\n",
      "9\n",
      "15\n",
      "21\n",
      "27\n",
      "33\n",
      "39\n",
      "45\n"
     ]
    }
   ],
   "source": [
    "# your code here\n",
    "def print_numbers(num_list):\n",
    "    \"\"\"\n",
    "    Print all numbers in list num_list that are divisible by 3 and not divisible by 2.\n",
    "    \"\"\"\n",
    "    for x in num_list:\n",
    "        if x % 3 == 0 and (x % 2 != 0):\n",
    "            print(x)\n",
    "            \n",
    "# create a list\n",
    "new_list = [i for i in range(1, 51)]\n",
    "print_numbers(new_list)"
   ]
  },
  {
   "cell_type": "markdown",
   "metadata": {},
   "source": [
    "**Exercise:** Write a function named `largest_square` that takes a variable `limit` and prints the largest square number that smaller than `limit`."
   ]
  },
  {
   "cell_type": "code",
   "execution_count": 26,
   "metadata": {},
   "outputs": [
    {
     "name": "stdout",
     "output_type": "stream",
     "text": [
      "25\n",
      "64\n"
     ]
    }
   ],
   "source": [
    "# your code here\n",
    "def largest_square(limit):\n",
    "    \"\"\"\n",
    "    Print the largest square number that smaller than 'limit'\n",
    "    \"\"\"\n",
    "    i = 0\n",
    "    while i ** 2 < limit:\n",
    "        i += 1\n",
    "    print((i - 1) ** 2)\n",
    "################\n",
    "# Then run this cell to see if your function is correct\n",
    "largest_square(35)\n",
    "largest_square(70)"
   ]
  },
  {
   "cell_type": "markdown",
   "metadata": {},
   "source": [
    "#### <span style=\"color:#0b486b\">2.1 Default Argument Values</span>"
   ]
  },
  {
   "cell_type": "markdown",
   "metadata": {},
   "source": [
    "Python allows a function to have a default value for one or more arguments. This creates a function that can be called with fewer arguments than it is defined to allow. For example:"
   ]
  },
  {
   "cell_type": "code",
   "execution_count": 27,
   "metadata": {},
   "outputs": [
    {
     "name": "stdout",
     "output_type": "stream",
     "text": [
      "How bad it is!\n",
      "I miss the sun!\n"
     ]
    }
   ],
   "source": [
    "def weather(is_sunny, complain='How bad it is!'):\n",
    "    if not is_sunny:\n",
    "        print(complain)\n",
    "        \n",
    "weather(False)\n",
    "weather(False, 'I miss the sun!')"
   ]
  },
  {
   "cell_type": "markdown",
   "metadata": {},
   "source": [
    "You might notice that in section [While loops](#1.3-While-loops), the `print` function has an argument `end=' '` while `print` in other examples does not. It is because `end` is an argument with '\\n' (this string indicates a line break) as the default value. That means that the `print` function always prints a line break except when another string is passed. Execute the cell below and see what happend."
   ]
  },
  {
   "cell_type": "code",
   "execution_count": 28,
   "metadata": {},
   "outputs": [
    {
     "name": "stdout",
     "output_type": "stream",
     "text": [
      "A B C_a b c\n",
      "A_B_C abc\n"
     ]
    }
   ],
   "source": [
    "print('A', 'B', 'C', end='_')\n",
    "print('a', 'b', 'c')\n",
    "\n",
    "# print function has another argument called 'sep', \n",
    "# ...which is used to seperate the printed items. \n",
    "# The default value of 'sep' is a space.\n",
    "print('A', 'B', 'C', sep='_', end=' ')\n",
    "print('a', 'b', 'c', sep='')"
   ]
  },
  {
   "cell_type": "markdown",
   "metadata": {},
   "source": [
    "#### <span style=\"color:#0b486b\">2.2 Python build-in functions</span>"
   ]
  },
  {
   "cell_type": "markdown",
   "metadata": {},
   "source": [
    "The Python interpreter has a number of functions built into it. That means these functions are already defined and you can use them just like your defined functions. In the example above, function len(s) reads a string s and returns the length of s. The function str(n) returns the number n in the string type."
   ]
  },
  {
   "cell_type": "code",
   "execution_count": 29,
   "metadata": {},
   "outputs": [
    {
     "name": "stdout",
     "output_type": "stream",
     "text": [
      "6\n",
      "3.2\n"
     ]
    }
   ],
   "source": [
    "# the sum function returns the sum of a list\n",
    "print(sum([1, 2, 3]))\n",
    "\n",
    "# the abs function returns the absolute value of a number\n",
    "print(abs(-3.2))"
   ]
  },
  {
   "cell_type": "markdown",
   "metadata": {},
   "source": [
    "**Exercise:** See more built-in functions in [Python built-in function](https://docs.python.org/2/library/functions.html) and write function named `min_max` that reads a list of numbers and returns the maximun and the minimum number in the list. "
   ]
  },
  {
   "cell_type": "code",
   "execution_count": 30,
   "metadata": {},
   "outputs": [
    {
     "name": "stdout",
     "output_type": "stream",
     "text": [
      "(-5, 10)\n",
      "(-5.2, 6)\n"
     ]
    }
   ],
   "source": [
    "# your code here\n",
    "def min_max(num_list):\n",
    "    return min(num_list), max(num_list)\n",
    "\n",
    "##############\n",
    "# Then run this cell to see if your function is correct\n",
    "print(min_max([3, 2, 4, 1, 10, -5]))\n",
    "print(min_max([3.5, 2.7, -1.3, 6, -5.2]))"
   ]
  },
  {
   "cell_type": "markdown",
   "metadata": {},
   "source": [
    "#### <span style=\"color:#0b486b\">2.3 Anonymous functions</span>"
   ]
  },
  {
   "cell_type": "markdown",
   "metadata": {},
   "source": [
    "Anonymous functions are defined by the keyword `'lambda'` in Python. Functions `'f'` and `'g'` in the cell below basically do the same thing but `'g'` is an anonymous function."
   ]
  },
  {
   "cell_type": "code",
   "execution_count": 31,
   "metadata": {},
   "outputs": [
    {
     "name": "stdout",
     "output_type": "stream",
     "text": [
      "64 64\n"
     ]
    }
   ],
   "source": [
    "def f(x):\n",
    "    return x**2\n",
    "\n",
    "g = lambda x: x**2\n",
    "\n",
    "print(f(8), g(8))"
   ]
  },
  {
   "cell_type": "markdown",
   "metadata": {},
   "source": [
    "Note how we used anonymous functions in the cell below to create the parametric function 'n_increment()'. Now We create new functions by passing 'n' to 'n_incremenet()'. For example 'f5' and 'f9' are functions that add 5 and 9 to their inputs respectively."
   ]
  },
  {
   "cell_type": "code",
   "execution_count": 32,
   "metadata": {},
   "outputs": [
    {
     "name": "stdout",
     "output_type": "stream",
     "text": [
      "7 11\n"
     ]
    }
   ],
   "source": [
    "def n_increment(n): \n",
    "    return lambda x: x+n\n",
    "\n",
    "f5 = n_increment(5)\n",
    "f9 = n_increment(9)\n",
    "\n",
    "print(f5(2), f9(2))"
   ]
  },
  {
   "cell_type": "markdown",
   "metadata": {},
   "source": [
    "### <span style=\"color:#0b486b\">3.More on Complex Data Structures</span>"
   ]
  },
  {
   "cell_type": "markdown",
   "metadata": {},
   "source": [
    "#### <span style=\"color:#0b486b\">3.1 Matrix as nested lists</span>"
   ]
  },
  {
   "cell_type": "markdown",
   "metadata": {},
   "source": [
    "A matrix of size 3x4 can be implemented by a list of 3 lists of length 4. Execute the cell below:"
   ]
  },
  {
   "cell_type": "code",
   "execution_count": 33,
   "metadata": {},
   "outputs": [
    {
     "name": "stdout",
     "output_type": "stream",
     "text": [
      "[[0, 1, 2, 3, 4], [5, 6, 7, 8, 9], [10, 11, 12, 13, 14]]\n",
      "Element at row 1, column 2: 7\n"
     ]
    }
   ],
   "source": [
    "matrix = [[0, 1, 2, 3, 4],\n",
    "          [5, 6, 7, 8, 9],\n",
    "          [10, 11, 12, 13, 14]]\n",
    "\n",
    "print(matrix)\n",
    "\n",
    "# Remember that python indices from 0\n",
    "print('Element at row 1, column 2:', matrix[1][2])"
   ]
  },
  {
   "cell_type": "markdown",
   "metadata": {},
   "source": [
    "The `matrix` in the example above can be created by the following way:"
   ]
  },
  {
   "cell_type": "code",
   "execution_count": 34,
   "metadata": {},
   "outputs": [
    {
     "name": "stdout",
     "output_type": "stream",
     "text": [
      "[[0, 1, 2, 3], [4, 5, 6, 7], [8, 9, 10, 11]]\n"
     ]
    }
   ],
   "source": [
    "matrix = [[row * 4 + column for column in range(4)] for row in range(3)]\n",
    "\n",
    "print(matrix)"
   ]
  },
  {
   "cell_type": "markdown",
   "metadata": {},
   "source": [
    "**Exercise:** \n",
    "1. Write a function named `matrix_sum` that takes a matrix as an input and returns the sum of all elements in the matrix. \n",
    "2. Declare a matrix A of size 3x3 with arbitrary values and print the `matrix_sum` of A."
   ]
  },
  {
   "cell_type": "code",
   "execution_count": 35,
   "metadata": {},
   "outputs": [
    {
     "name": "stdout",
     "output_type": "stream",
     "text": [
      "45\n"
     ]
    }
   ],
   "source": [
    "# Your code here\n",
    "def matrix_sum(matrix):\n",
    "    # using nested for loops:\n",
    "    sum_value = 0\n",
    "    for row in matrix:\n",
    "        for value in row:\n",
    "            sum_value += value\n",
    "    return sum_value\n",
    "\n",
    "A = [[1, 2, 3], [4, 5, 6], [7, 8, 9]]\n",
    "print(matrix_sum(A))"
   ]
  },
  {
   "cell_type": "code",
   "execution_count": 36,
   "metadata": {},
   "outputs": [
    {
     "name": "stdout",
     "output_type": "stream",
     "text": [
      "45\n"
     ]
    }
   ],
   "source": [
    "# Your code here\n",
    "# Another way is using the built-in function 'sum'\n",
    "def matrix_sum(matrix):\n",
    "    return sum([sum(row) for row in matrix])\n",
    "\n",
    "A = [[1, 2, 3], [4, 5, 6], [7, 8, 9]]\n",
    "print(matrix_sum(A))"
   ]
  },
  {
   "cell_type": "markdown",
   "metadata": {},
   "source": [
    "#### <span style=\"color:#0b486b\">3.2 Built-in methods</span>"
   ]
  },
  {
   "cell_type": "markdown",
   "metadata": {},
   "source": [
    "Python includes a number of methods for complex structures such as strings, lists and dictionaries. Execute these cells below:"
   ]
  },
  {
   "cell_type": "code",
   "execution_count": 37,
   "metadata": {},
   "outputs": [
    {
     "name": "stdout",
     "output_type": "stream",
     "text": [
      "Space splitting: ['I-love', 'data', 'science']\n",
      "Hyphen splitting: ['I', 'love data science']\n",
      "123: True\n",
      "1a3: False\n",
      "1.2: False\n"
     ]
    }
   ],
   "source": [
    "# Split method for string\n",
    "str1 = 'I-love data science'\n",
    "space_split = str1.split() \n",
    "hyphen_split = str1.split('-')\n",
    "print('Space splitting:', space_split)\n",
    "print('Hyphen splitting:', hyphen_split)\n",
    "# More on split method: https://docs.python.org/3/library/stdtypes.html#str.split\n",
    "\n",
    "# Check if a string is a list of digits\n",
    "print('123:', '123'.isdigit())\n",
    "print('1a3:', '1a3'.isdigit())\n",
    "print('1.2:', '1.2'.isdigit())"
   ]
  },
  {
   "cell_type": "code",
   "execution_count": 8,
   "metadata": {},
   "outputs": [
    {
     "name": "stdout",
     "output_type": "stream",
     "text": [
      "[1, 2, 3, 4]\n",
      "[1, 2, 3, 4, 'I love data science']\n",
      "[1, 2, 3, 'this is an insertion', 4, 'I love data science']\n"
     ]
    }
   ],
   "source": [
    "list3 = [1, 2, 3]\n",
    "\n",
    "# append an element to list\n",
    "list3.append(4)\n",
    "print(list3)\n",
    "\n",
    "list3.append('I love data science')\n",
    "print(list3)\n",
    "\n",
    "# insert an element at an index\n",
    "list3.insert(3, 'this is an insertion')\n",
    "print(list3)"
   ]
  },
  {
   "cell_type": "code",
   "execution_count": 45,
   "metadata": {},
   "outputs": [
    {
     "name": "stdout",
     "output_type": "stream",
     "text": [
      "dict_keys(['bananas', 'kiwis', 'apples', 'cherries'])\n",
      "dict_values([2, 5, 4, 15])\n"
     ]
    }
   ],
   "source": [
    "price_dictionary = {'bananas': 2,\n",
    "                    'kiwis': 5,\n",
    "                    'apples': 4,\n",
    "                    'cherries': 15}\n",
    "\n",
    "# the method returns the keywords in the dictionary\n",
    "print(price_dictionary.keys())\n",
    "\n",
    "# the method returns the values in the dictionary\n",
    "print(price_dictionary.values())"
   ]
  },
  {
   "cell_type": "markdown",
   "metadata": {},
   "source": [
    "### <span style=\"color:#0b486b\">4. Further reading</span>"
   ]
  },
  {
   "cell_type": "markdown",
   "metadata": {},
   "source": [
    "[Python functions](https://docs.python.org/3.5/tutorial/controlflow.html#defining-functions) More about python functions on the official Python tutorial website."
   ]
  }
 ],
 "metadata": {
  "kernelspec": {
   "display_name": "Python 3",
   "language": "python",
   "name": "python3"
  },
  "language_info": {
   "codemirror_mode": {
    "name": "ipython",
    "version": 3
   },
   "file_extension": ".py",
   "mimetype": "text/x-python",
   "name": "python",
   "nbconvert_exporter": "python",
   "pygments_lexer": "ipython3",
   "version": "3.7.1"
  }
 },
 "nbformat": 4,
 "nbformat_minor": 1
}
