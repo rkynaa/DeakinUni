{
 "cells": [
  {
   "cell_type": "markdown",
   "metadata": {},
   "source": [
    "# <span style=\"color:#0b486b\">SIT 112 - Data Science Concepts - Assignment 2</span>\n",
    "\n",
    "---\n",
    "Lecturer: Sergiy Shelyag | sergiy.shelyag@deakin.edu.au<br />\n",
    "\n",
    "School of Information Technology, <br />\n",
    "Deakin University, VIC, Australia.\n",
    "\n",
    "### <span style=\"color:#0b486b\">Due: 5pm, 22th May 2020 </span>\n",
    "---"
   ]
  },
  {
   "cell_type": "markdown",
   "metadata": {},
   "source": [
    "## <span style=\"color:#0b486b\">Instructions</span>\n",
    "\n",
    "This notebook has been prepared for you to complete Assignment 2. Some sections have been partially completed  to help you get started. **The total marks for this notebook is 200**.\n",
    "\n",
    "* Before you start, read the entire notebook carefully to understand what you need to do. You should also refer to the main instructions in *Assignment2_instructions.pdf*  to know what else you need to complete for this assignment as well submission instruction. <br><br>\n",
    "\n",
    "* Instructions marked with **(D)** and **(HD)** are for students aiming at high grades. They are more involved and can be completed after all other instructions.\n",
    "\n",
    "\n",
    "* For each cell marked with **#YOU ARE REQUIRED TO INSERT YOUR CODE IN THIS CELL**, there will be places where you **must** supply your own codes when instructed. <br><br>\n",
    "\n",
    "* For each cell marked with **#YOU ARE REQUIRED TO INSERT YOUR COMMENT IN THIS CELL**, there will be place where you **must** provide your own comment when instructed. <br><br>\n",
    "\n",
    "\n",
    "### Submission\n",
    "\n",
    "You are required to submit **five** files: <br><br>\n",
    "\n",
    "* The source of your solution notebook: **[groupID]_assignment2_solution.ipynb**\n",
    "* An exported version of your output: **[groupID]_assignment2_output.html**  \n",
    "* Three json data files storing tweets collected for the three keywords, named **[groupID]_[w1].json**, **[groupID]_[w2].json**, **[groupID]_[w3].json** where **[w1], [w2], [w3]** are the three keywords you have been provided.\n",
    "    \n",
    "\n",
    "\n",
    "As you go through this notebook:\n",
    "\n",
    "* markdown cells marked with **Note** mean description sections.\n",
    "* markdown cells marked with **Instruction** mean the instructions given to you to complete the designated section."
   ]
  },
  {
   "cell_type": "markdown",
   "metadata": {},
   "source": [
    "## <span style=\"color:#0b486b\">Part 1: Crawling and Storing Tweet Data</span>\n",
    "\n",
    "\n",
    "The first part of the assignment examines your skills and knowledge to query tweets and store them in json files. For **each** provided keyword, your tasks are:\n",
    "\n",
    "* Crawl all tweets which contain this keyword written in English and geocoded within the location, provided for your group.\n",
    "* Store the tweets collected into json files.\n",
    "\n",
    "***Follow the instructions below to complete your task***."
   ]
  },
  {
   "cell_type": "markdown",
   "metadata": {},
   "source": [
    "**Note**: The following packages will be required for this assignment. If you need to import more packages, you might append them to the end of the following cell."
   ]
  },
  {
   "cell_type": "code",
   "execution_count": 6,
   "metadata": {},
   "outputs": [],
   "source": [
    "#Import packages needed for processing\n",
    "import re\n",
    "import json\n",
    "import xml\n",
    "import numpy as np\n",
    "from collections import Counter\n",
    "from TwitterAPI import TwitterAPI # in case you need to install this package, see practical 6\n",
    "from sklearn.cluster import KMeans\n",
    "\n",
    "import requests\n",
    "\n",
    "# disabling urllib3 warnings\n",
    "requests.packages.urllib3.disable_warnings()\n",
    "\n",
    "import matplotlib.pyplot as plt\n",
    "%matplotlib inline\n",
    "\n",
    "#If you need add any additional packages, then add them below\n",
    "\n"
   ]
  },
  {
   "cell_type": "markdown",
   "metadata": {},
   "source": [
    "**Instruction 1.1**. Enter your provided keywords to the variable **keywords** below.\n",
    "\n",
    "[**Total mark: 3**]"
   ]
  },
  {
   "cell_type": "code",
   "execution_count": null,
   "metadata": {},
   "outputs": [],
   "source": [
    "# YOU ARE REQUIRED TO INSERT YOUR CODE IN THIS CELL\n",
    "\n",
    "#Enter the list of three keywords you selected to the variables keywords below\n",
    "#e.g. keywords = [\"abc\", \"def\", \"ghi\"]\n",
    "\n",
    "keywords =  # INSERT YOUR CODE "
   ]
  },
  {
   "cell_type": "markdown",
   "metadata": {
    "collapsed": true
   },
   "source": [
    "**Instruction 1.2**. Before you can perform a query to Twitter API, you need to supply authentication information. Practical sessions 6 and 7 show you how to obtain this information. **Your task is to supply the authentication information in the cell below**.\n",
    "\n",
    "**Note**: You might decide to regenerate this authentication from the pracs if you would like too. <span style=\"color:red\">After the assignment has been marked, you are strongly recommended to regenerate this authentication information from your account to maintain your privacy.</span> \n",
    "\n",
    "\n",
    "[**Total mark: 5**]"
   ]
  },
  {
   "cell_type": "code",
   "execution_count": null,
   "metadata": {},
   "outputs": [],
   "source": [
    "# YOU ARE REQUIRED TO INSERT YOUR CODE IN THIS CELL\n",
    "\n",
    "# Twitter API credentials \n",
    "CONSUMER_KEY = #ENTER YOUR CONSUMER_KEY\n",
    "CONSUMER_SECRET =  #ENTER YOUR CONSUMER_SECRET\n",
    "OAUTH_TOKEN =  #ENTER YOUR OAUTH_TOKEN\n",
    "OAUTH_TOKEN_SECRET =  #ENTER YOUR OAUTH_TOKEN_SECRET\n",
    "\n",
    "# Authonticating with your application credentials\n",
    "api = TwitterAPI(CONSUMER_KEY,\n",
    "                 CONSUMER_SECRET,\n",
    "                 OAUTH_TOKEN,\n",
    "                 OAUTH_TOKEN_SECRET) #INSERT YOUR CODE HERE"
   ]
  },
  {
   "cell_type": "markdown",
   "metadata": {},
   "source": [
    "**Note**: As you have learned from the pracical sessions, to perform a query from Twitter API for a particular geo-coded location you need a center point and a radius. The center point is specified by its (latitude,longitute) pair. **The information below has been provided to you to perform the query in the subsequent tasks**."
   ]
  },
  {
   "cell_type": "code",
   "execution_count": null,
   "metadata": {},
   "outputs": [],
   "source": [
    "# YOU ARE REQUIRED TO INSERT YOUR CODE IN THIS CELL\n",
    "# geo coordinations of the desired place\n",
    "PLACE_LAT = # INSERT YOUR CODE\n",
    "PLACE_LON = # INSERT YOUR CODE\n",
    "PLACE_RAD = # INSERT YOUR CODE"
   ]
  },
  {
   "cell_type": "markdown",
   "metadata": {},
   "source": [
    "**Instruction 1.3**. For each keyword, you are required to crawl at least **200** tweets (the more the better) using the Twitter API. However, as you have learned from the practical sessions, each query will return a maximum of only **100** tweets. Therefore, subsequent query **must** use the maximum Tweet ID from the previous batch to crawl the next lot.\n",
    "\n",
    "The following function, called ***retrieve_tweets()***, has been **partially** implemented to automatically download tweets until it reaches the maximum number of tweets needed. \n",
    "\n",
    "For example, a function call\n",
    "```\n",
    "retrieve_tweets(api, 'car', 50, 200, latitude, longitude, radius)\n",
    "```\n",
    "will attempt to crawl a total of at least 200 tweets that contains the word 'car' for a location with given latitude, longidude and radius around it. Within each single query, it will attempt to obtain 50 tweets.\n",
    "\n",
    "**Your task is to walk through this function and enter your own codes where instructed to complete the function**.\n",
    "\n",
    "[**Total mark: 10**]"
   ]
  },
  {
   "cell_type": "code",
   "execution_count": 7,
   "metadata": {},
   "outputs": [
    {
     "ename": "SyntaxError",
     "evalue": "invalid syntax (<ipython-input-7-b244ccbf9cd6>, line 30)",
     "output_type": "error",
     "traceback": [
      "\u001b[1;36m  File \u001b[1;32m\"<ipython-input-7-b244ccbf9cd6>\"\u001b[1;36m, line \u001b[1;32m30\u001b[0m\n\u001b[1;33m    'count': #INSERT YOUR CODE\u001b[0m\n\u001b[1;37m           ^\u001b[0m\n\u001b[1;31mSyntaxError\u001b[0m\u001b[1;31m:\u001b[0m invalid syntax\n"
     ]
    }
   ],
   "source": [
    "# YOU ARE REQUIRED TO INSERT YOUR CODE IN THIS CELL\n",
    "'''\n",
    "You will be required to insert your own codes to complete this function. \n",
    "Walk through this function and enter your own codes where instructed.\n",
    "'''\n",
    "def retrieve_tweets(api, keyword, batch_count, total_count, latitude, longitude, radius):\n",
    "    \"\"\"\n",
    "    collects tweets using the Twitter search API\n",
    "    \n",
    "    api:         Twitter API instance\n",
    "    keyword:     search keyword\n",
    "    batch_count: maximum number of tweets to collect per each request\n",
    "    total_count: maximum number of tweets in total\n",
    "    \"\"\"\n",
    "\n",
    "    \n",
    "    # the collection of tweets to be returned\n",
    "    tweets_unfiltered = []\n",
    "    tweets = []\n",
    "    \n",
    "    # the number of tweets within a single query\n",
    "    batch_count = str(batch_count)\n",
    "    \n",
    "    '''\n",
    "    You are required to insert your own code where instructed to perform the first query to Twitter API.\n",
    "    Hint: revise the practical session on Twitter API on how to perform query to Twitter API.\n",
    "    '''\n",
    "    # per the first query, to obtain max_id_str which will be used later to query sub\n",
    "    resp = api.request('search/tweets', {'q': #INSERT YOUR CODE\n",
    "                                         'count': #INSERT YOUR CODE\n",
    "                                         'lang':'en',\n",
    "                                         'result_type':'recent',\n",
    "                                         'geocode':'{},{},{}mi'.format(latitude, longitude, radius)})\n",
    "    \n",
    "    # store the tweets in a list\n",
    "\n",
    "    # check first if there was an error\n",
    "    if ('errors' in resp.json()):\n",
    "        errors = resp.json()['errors']\n",
    "        if (errors[0]['code'] == 88):\n",
    "            print('Too many attempts to load tweets.')\n",
    "            print('You need to wait for a few minutes before accessing Twitter API again.')\n",
    "    \n",
    "    if ('statuses' in resp.json()):\n",
    "        tweets_unfiltered += resp.json()['statuses']\n",
    "        tweets = [tweet for tweet in tweets_unfiltered if ((tweet['retweeted'] != True) and ('RT @' not in tweet['text']))]\n",
    "    \n",
    "        # find the max_id_str for the next batch\n",
    "        ids = [tweet['id'] for tweet in tweets_unfiltered]\n",
    "        max_id_str = str(min(ids))\n",
    "\n",
    "        # loop until as many tweets as total_count is collected\n",
    "        number_of_tweets = len(tweets)\n",
    "        while number_of_tweets < total_count:\n",
    "\n",
    "            resp = api.request('search/tweets', {'q': #INSERT YOUR CODE\n",
    "                                             'count': #INSERT YOUR CODE\n",
    "                                             'lang':'en',\n",
    "                                             'result_type':  #INSERT YOUR CODE\n",
    "                                             'max_id': max_id_str,\n",
    "                                             'geocode': #INSERT YOUR CODE\n",
    "                          )\n",
    "\n",
    "            if ('statuses' in resp.json()):\n",
    "                tweets_unfiltered += resp.json()['statuses']\n",
    "                tweets = [tweet for tweet in tweets_unfiltered if ((tweet['retweeted'] != True) and ('RT @' not in tweet['text']))]\n",
    " \n",
    "                ids = [tweet['id'] for tweet in tweets_unfiltered]\n",
    "                max_id_str = str(min(ids))\n",
    "            \n",
    "                number_of_tweets = len(tweets)\n",
    "        \n",
    "            print(\"{} tweets are collected for keyword {}. Last tweet created at {}\".format(number_of_tweets, \n",
    "                                                                                    keyword, \n",
    "                                                                                    tweets[number_of_tweets-1]['created_at']))\n",
    "    return tweets"
   ]
  },
  {
   "cell_type": "markdown",
   "metadata": {},
   "source": [
    "**Instruction 1.4**. After having defined the ***retrieve_tweets()*** function above, you are now ready to use this function to collect your tweets. Your task is to write the code to perform three function calls, each of which corresponds to one keyword. And, you are required to collect at least **200** tweets for each keyword (the more the better).\n",
    "\n",
    "[**Total mark: 9**]"
   ]
  },
  {
   "cell_type": "code",
   "execution_count": null,
   "metadata": {},
   "outputs": [],
   "source": [
    "# YOU ARE REQUIRED TO INSERT YOUR CODE IN THIS CELL\n",
    "'''\n",
    "Your task is to write the code to perform three function calls, each corresponds to one keyword. \n",
    "And, you are required to collect at least 200 tweets for each key word.\n",
    "'''\n",
    "\n",
    "# Collecting the tweets for three assigned keywords, \n",
    "# Your function call should look like this:  retrieve_tweets(api,'keyword',single_count,total_count)\n",
    "\n",
    "k1_tweets = #INSERT YOUR CODE HERE\n",
    "k2_tweets = #INSERT YOUR CODE HERE\n",
    "k3_tweets = #INSERT YOUR CODE HERE\n",
    "\n",
    "# PLEASE NOTE THAT IF YOU RUN THIS CELL, IT MIGHT TAKE A WHILE TO DOWNLOAD ALL THE TWEETS REQUIRED.\n",
    "# MAKE SURE THAT YOU WAIT UNTILL THE CELL FINISHES RUNNING."
   ]
  },
  {
   "cell_type": "markdown",
   "metadata": {},
   "source": [
    "**Instruction 1.5**. To verify the downloading process, write your code to print out the number of tweets which has been collected for each keyword.\n",
    "\n",
    "[**Total mark: 3**]"
   ]
  },
  {
   "cell_type": "code",
   "execution_count": null,
   "metadata": {},
   "outputs": [],
   "source": [
    "# YOU ARE REQUIRED TO INSERT YOUR CODE IN THIS CELL\n",
    "'''\n",
    "Write your code to print the number of tweets have been collected for each keyword\n",
    "'''\n",
    "# INSERT YOUR CODE HERE\n"
   ]
  },
  {
   "cell_type": "markdown",
   "metadata": {},
   "source": [
    "**Note:** Each tweet is stored in a dictionary where its keywords are fields in the tweet and values are the information of the fields. The cell below print the type of a tweet."
   ]
  },
  {
   "cell_type": "code",
   "execution_count": null,
   "metadata": {},
   "outputs": [],
   "source": [
    "# Data type of tweets\n",
    "print(type(k1_tweets[0]))"
   ]
  },
  {
   "cell_type": "markdown",
   "metadata": {},
   "source": [
    "**Instruction 1.6**.  To examine what the tweets look like, in the cell below write your code to print out all fields of the first tweet in `k1_tweets` and print out the text of the first tweet collected for each keyword.\n",
    "\n",
    "[**Total mark: 6**]"
   ]
  },
  {
   "cell_type": "code",
   "execution_count": null,
   "metadata": {},
   "outputs": [],
   "source": [
    "# YOU ARE REQUIRED TO INSERT YOUR CODE IN THIS CELL\n",
    "'''\n",
    "Write your code to print out all fields of the first tweet\n",
    "Hint: You might want to use method keys() of the dictionary\n",
    "'''\n",
    "# INSERT YOUR CODE HERE\n",
    "\n",
    "\n",
    "\n",
    "'''\n",
    "Write your code to print out the text of the first  tweet collected for each keyword.\n",
    "'''\n",
    "\n",
    "print(\"\\nThe text of the first tweet for \\\"{}\\\":\\n\".format(keywords[0]))\n",
    "# INSERT YOUR CODE HERE\n",
    "\n",
    "\n",
    "print(\"\\nThe text of the first tweet for \\\"{}\\\":\\n\".format(keywords[1]))\n",
    "# INSERT YOUR CODE HERE\n",
    "\n",
    "\n",
    "print('\\nThe text of the first tweet for \\\"{}\\\":\\n'.format(keywords[2]))\n",
    "# INSERT YOUR CODE HERE\n"
   ]
  },
  {
   "cell_type": "markdown",
   "metadata": {},
   "source": [
    "**Note**. When collecting data from the Internet, such as Twitter, it is important that we store the data collected in an appropriate format for later data analysis task. We have learned that json is a poplular lightweight data format that can be handy to store unstructured data. For example, with NoSQL we can directly query these files in a 'scaling out' fashion. These technologies are representative features of Big Data Analytics.\n",
    "\n",
    "The following function has been designed for you to save an object which is a list of dictionaries (such as k1_tweets variable) to a json file. **You will need this function for your next task**."
   ]
  },
  {
   "cell_type": "code",
   "execution_count": 8,
   "metadata": {},
   "outputs": [],
   "source": [
    "def save_to_json(obj, filename):\n",
    "    \"\"\"\n",
    "    saves a list of dictionaries into a json file\n",
    "    \n",
    "    obj: list of dictionaries\n",
    "    filename: filename\n",
    "    \"\"\"\n",
    "    with open(filename, 'w') as fp:\n",
    "        json.dump(obj, fp, indent=4, sort_keys=True)   "
   ]
  },
  {
   "cell_type": "markdown",
   "metadata": {},
   "source": [
    "**Instruction 1.7**. Use the function ***save_to_json()*** defined above, for each collection of tweets you have crawled for each keyword, save them into a file named **w.json** where **w** is the keyword.\n",
    "\n",
    "For example, if your keywords are 'w1', 'w2' and 'w3', then your code must generate three file w1.json, w2.json and w3.json. **Important: you must submit these files together with your notebook solution**.\n",
    "\n",
    "[**Total mark: 9**]"
   ]
  },
  {
   "cell_type": "code",
   "execution_count": null,
   "metadata": {},
   "outputs": [],
   "source": [
    "# YOU ARE REQUIRED TO INSERT YOUR CODE IN THIS CELL\n",
    "'''\n",
    "Use the save_to_json() function defined above, for the collection of tweets \n",
    "you have crawled for each keyword, save them into a file named w.json where w is the keyword, taken from keywords list.\n",
    "'''\n",
    "# saving the tweets in three json files, one for each keyword\n",
    "#INSERT YOUR CODE HERE\n",
    "\n"
   ]
  },
  {
   "cell_type": "markdown",
   "metadata": {},
   "source": [
    "###                                     END OF PART 1\n",
    "----"
   ]
  },
  {
   "cell_type": "markdown",
   "metadata": {},
   "source": [
    "## Part 2: Data Analytics\n",
    "\n",
    "The second part of this assignment will examine your skills and knowlege in data manipulation and analysis tasks. It includes three main components:\n",
    "\n",
    "**Part 2A**. For each keyword, you will be required to load the tweets from your saved json files (from Part 1) and filter out all tweets that are too short.\n",
    "\n",
    "**Part 2B**. Using your knowledge from practical sessions 5, 6 and 7, you will be required to construct the term-by-document matrix for the tweets and to perform visualisation tasks to understand them.\n",
    "\n",
    "**Part 2C**. You will apply the Kmeans clustering algorithm to cluster your tweets and report the clustering results.\n",
    "\n",
    "***Follow the instructions below to complete your assigned tasks***."
   ]
  },
  {
   "cell_type": "markdown",
   "metadata": {},
   "source": [
    "### Part 2A: Load and Filter Tweets from Files"
   ]
  },
  {
   "cell_type": "markdown",
   "metadata": {},
   "source": [
    "**Instruction 2.1**. The following function, named ***read_json_file()***, has been partially implemented to load data from a json file. This function will be used later on to load three json files you have saved from Part 1. Your task is to insert your own code where instructed to complete this function.\n",
    "\n",
    "[**Total mark: 4**]"
   ]
  },
  {
   "cell_type": "code",
   "execution_count": 9,
   "metadata": {},
   "outputs": [
    {
     "ename": "IndentationError",
     "evalue": "expected an indented block (<ipython-input-9-e57e217eb22f>, line 13)",
     "output_type": "error",
     "traceback": [
      "\u001b[1;36m  File \u001b[1;32m\"<ipython-input-9-e57e217eb22f>\"\u001b[1;36m, line \u001b[1;32m13\u001b[0m\n\u001b[1;33m    data = json.loads(content)\u001b[0m\n\u001b[1;37m       ^\u001b[0m\n\u001b[1;31mIndentationError\u001b[0m\u001b[1;31m:\u001b[0m expected an indented block\n"
     ]
    }
   ],
   "source": [
    "# YOU ARE REQUIRED TO INSERT YOUR CODE IN THIS CELL\n",
    "'''\n",
    "Insert your own code where instructed to complete this function\n",
    "'''\n",
    "def read_json_file(filename):\n",
    "    \"\"\"\n",
    "    reads from a json file and saves the result in a list named data\n",
    "    \"\"\"\n",
    "    with open(filename, 'r') as fp:\n",
    "    # INSERT THE MISSING PIECE OF CODE HERE\n",
    "\n",
    "    \n",
    "    data = json.loads(content)\n",
    "    return data     "
   ]
  },
  {
   "cell_type": "markdown",
   "metadata": {},
   "source": [
    "**Instruction 2.2**. Now use the ***read_json_file()*** function defined above, write three function calls to load data from three json files you have saved from Part 1.\n",
    "\n",
    "[**Total mark: 9**]"
   ]
  },
  {
   "cell_type": "code",
   "execution_count": null,
   "metadata": {},
   "outputs": [],
   "source": [
    "# YOU ARE REQUIRED TO INSERT YOUR CODE IN THIS CELL\n",
    "'''\n",
    "Write three function calls to load data from three json files you have saved from Part 1.\n",
    "'''\n",
    "\n",
    "k1_tweets = # INSERT YOUR CODE HERE\n",
    "k2_tweets = # INSERT YOUR CODE HERE\n",
    "k3_tweets = # INSERT YOUR CODE HERE"
   ]
  },
  {
   "cell_type": "markdown",
   "metadata": {},
   "source": [
    "**Instruction 2.3**. To examine the number of tweets loaded from your data files, write your code to print out the number of tweets containes in three variables: ***k1_tweets, k2_tweets*** and ***k3_tweets***.\n",
    "\n",
    "[**Total mark: 3**]"
   ]
  },
  {
   "cell_type": "code",
   "execution_count": null,
   "metadata": {},
   "outputs": [],
   "source": [
    "# YOU ARE REQUIRED TO INSERT YOUR CODE IN THIS CELL\n",
    "'''\n",
    "Write your code to print out the number of tweets containes in three variables: \n",
    "k1_tweets, k2_tweets and k3_tweets\n",
    "'''\n",
    "#INSERT YOUR CODE HERE\n"
   ]
  },
  {
   "cell_type": "markdown",
   "metadata": {},
   "source": [
    "**Note**. When analysing tweets and text documents in general, an important analytics skill is to pre-process and filter the data into the form that one can start to apply analytics methods to extract knowledge. \n",
    "\n",
    "Tweets that are too short might not be useful for analysis. We define that tweets having less than 50 characters are short and should be remove. "
   ]
  },
  {
   "cell_type": "markdown",
   "metadata": {},
   "source": [
    "**Instruction 2.4**. In this task, you need to filter all short tweets.\n",
    "\n",
    "1. Write a function called `is_short_tweet` that takes a tweet as an input and return True if the text of the tweet has less than 50 characters and False otherwise. **(6 marks)**\n",
    "\n",
    "2. Write your codes to remove all tweets that have less than 50 characters in variables ***k1_tweets***, ***k2_tweets*** and ***k3_tweets*** and store the results in the new variables ***k1_tweets_filtered***, ***k2_tweets_filtered*** and ***k3_tweets_filtered***, respectively. **(8 marks)**\n",
    "\n",
    "[**Total mark: 14**]"
   ]
  },
  {
   "cell_type": "code",
   "execution_count": null,
   "metadata": {},
   "outputs": [],
   "source": [
    "# YOU ARE REQUIRED TO INSERT YOUR CODE IN THIS CELL\n",
    "def is_short_tweet(tweet):\n",
    "    '''\n",
    "    Check if the text of \"tweet\" has less than 50 characters\n",
    "    '''\n",
    "    # INSERT YOUR CODE HERE"
   ]
  },
  {
   "cell_type": "code",
   "execution_count": null,
   "metadata": {},
   "outputs": [],
   "source": [
    "# YOU ARE REQUIRED TO INSERT YOUR CODES IN THIS CELL\n",
    "'''\n",
    "Write your codes to remove all tweets which have less than 50 characters in variables \n",
    "k1_tweets, k2_tweets and k3_tweets and store the results in the new variables \n",
    "k1_tweets_filtered, k2_tweets_filtered and k3_tweets_filtered respectively\n",
    "'''\n",
    "# INSERT YOUR CODE HERE\n",
    "k1_tweets_filtered = \n",
    "k2_tweets_filtered = \n",
    "k3_tweets_filtered = \n",
    "\n",
    "# these lines below print the number of tweets for each keyword before and after filtered.\n",
    "print(len(k1_tweets), len(k1_tweets_filtered))\n",
    "print(len(k2_tweets), len(k2_tweets_filtered))\n",
    "print(len(k3_tweets), len(k3_tweets_filtered))"
   ]
  },
  {
   "cell_type": "markdown",
   "metadata": {},
   "source": [
    "**Instruction 2.5**. For each keyword, print out the number of tweets that have been removed.\n",
    "\n",
    "[**Total mark: 3**]"
   ]
  },
  {
   "cell_type": "code",
   "execution_count": null,
   "metadata": {},
   "outputs": [],
   "source": [
    "# YOU ARE REQUIRED TO INSERT YOUR CODE IN THIS CELL\n",
    "'''\n",
    "For each keyword, print out the number of tweets that have been removed.\n",
    "'''\n",
    "\n",
    "# INSERT YOUR CODE HERE"
   ]
  },
  {
   "cell_type": "markdown",
   "metadata": {},
   "source": [
    "**Instruction 2.6**. To examine what the tweets look like after being loaded from the data files and filtered, in the cell below write your code to print out the first **5** tweets for each keyword. \n",
    "\n",
    "You **must** use the variables ***k1_tweets_filtered, k2_tweets_filtered*** and ***k3_tweets_filtered*** which have stored the data after the filtering process for this task.\n",
    "\n",
    "[**Total mark: 4**]"
   ]
  },
  {
   "cell_type": "code",
   "execution_count": null,
   "metadata": {},
   "outputs": [],
   "source": [
    "# YOU ARE REQUIRED TO INSERT YOUR CODE IN THIS CELL\n",
    "'''\n",
    "Write your code to print out the first 5 tweets for each keyword.\n",
    "You must use the variables k1_tweets_filtered, k2_tweets_filtered and k3_tweets_filtered \n",
    "which have stored the data after the filtering process for this task.\n",
    "\n",
    "Hint: Using tweet['text'] for tweet in k1_tweets_filtered\n",
    "'''\n",
    "\n",
    "print('The first 5 tweets for \\\"{}\\\":\\n'.format(keywords[0]))\n",
    "# INSERT YOUR CODE HERE\n",
    "\n",
    "\n",
    "print('\\nThe first 5 tweets for \\\"{}\\\":\\n'.format(keywords[1]))\n",
    "# INSERT YOUR CODE HERE \n",
    "\n",
    "\n",
    "print('\\nThe first 5 tweets for \\\"{}\\\":\\n'.format(keywords[2]))\n",
    "# INSERT YOUR CODE HERE\n"
   ]
  },
  {
   "cell_type": "markdown",
   "metadata": {},
   "source": [
    "### Part 2B: Constructing Term-by-Document Matrix\n",
    "\n",
    "As we have learned in our class, in text analytics and in general dealing with unstructured data, to start perform **computational** tasks such as computing the distance between two documents, we need to represent them in **numerical** formats. A popular technique we have learned is the bag-of-word representation and the term-by-document matrix, also known as the vector-space model.\n",
    "\n",
    "This part of the assignment will require you to construct the term-by-document matrix for the tweets stored in three variables ***k1_tweets_filtered***, ***k2_tweets_filtered*** and ***k3_tweets_filtered***."
   ]
  },
  {
   "cell_type": "markdown",
   "metadata": {},
   "source": [
    "**Note.** Tweets are often not neat as you might have seen from early tasks. As tweet such as this \n",
    "```\n",
    "Happy shopping👗👚👠👜 (with Vivi and Irmalia at @infomog) — https://t.co/fUGO9Eex1r\n",
    "```\n",
    "might contain non-ASCII characters, emoticon, punctuations, etc. Building a bag-of-word representation **without** pre-processing the data can be ineffective. \n",
    "\n",
    "The following function ***pre_process()*** has been designed to preprocess the data for you."
   ]
  },
  {
   "cell_type": "code",
   "execution_count": 10,
   "metadata": {},
   "outputs": [],
   "source": [
    "def remove_non_ascii(s): return \"\".join(i for i in s if ord(i)<128)\n",
    "def pre_process(doc):\n",
    "    \"\"\"\n",
    "    pre-processes a doc\n",
    "      * Converts the tweet into lower case,\n",
    "      * removes the URLs,\n",
    "      * removes the punctuations\n",
    "      * tokenizes the tweet\n",
    "      * removes words less that 3 characters\n",
    "    \"\"\"\n",
    "    \n",
    "    doc = doc.lower()\n",
    "    # getting rid of non ascii codes\n",
    "    doc = remove_non_ascii(doc)\n",
    "    \n",
    "    # replacing URLs\n",
    "    url_pattern = \"http://[^\\s]+|https://[^\\s]+|www.[^\\s]+|[^\\s]+\\.com|bit.ly/[^\\s]+\"\n",
    "    doc = re.sub(url_pattern, 'url', doc) \n",
    "\n",
    "    # removing dollars and usernames and other unnecessary stuff\n",
    "    userdoll_pattern = \"\\$[^\\s]+|\\@[^\\s]+|\\&[^\\s]+|\\*[^\\s]+|[0-9][^\\s]+|\\~[^\\s]+\"\n",
    "    doc = re.sub(userdoll_pattern, '', doc)\n",
    "    \n",
    "    \n",
    "    # removing punctuation\n",
    "    punctuation = r\"\\(|\\)|#|\\'|\\\"|-|:|\\\\|\\/|!|\\?|_|,|=|;|>|<|\\.|\\@\"\n",
    "    doc = re.sub(punctuation, ' ', doc)\n",
    "    \n",
    "    return [w for w in doc.split() if len(w) > 2]"
   ]
  },
  {
   "cell_type": "markdown",
   "metadata": {},
   "source": [
    "**Note**. For example, the following code will display the first tweet stored in the variable ***k1_tweets_filtered*** (for the first keyword) before and after it has been pre-processed."
   ]
  },
  {
   "cell_type": "code",
   "execution_count": 11,
   "metadata": {},
   "outputs": [
    {
     "ename": "NameError",
     "evalue": "name 'k1_tweets_filtered' is not defined",
     "output_type": "error",
     "traceback": [
      "\u001b[1;31m---------------------------------------------------------------------------\u001b[0m",
      "\u001b[1;31mNameError\u001b[0m                                 Traceback (most recent call last)",
      "\u001b[1;32m<ipython-input-11-e47b9ba55c71>\u001b[0m in \u001b[0;36m<module>\u001b[1;34m\u001b[0m\n\u001b[1;32m----> 1\u001b[1;33m \u001b[0mtweet_k1\u001b[0m \u001b[1;33m=\u001b[0m \u001b[0mk1_tweets_filtered\u001b[0m\u001b[1;33m[\u001b[0m\u001b[1;36m0\u001b[0m\u001b[1;33m]\u001b[0m\u001b[1;33m[\u001b[0m\u001b[1;34m'text'\u001b[0m\u001b[1;33m]\u001b[0m\u001b[1;33m\u001b[0m\u001b[1;33m\u001b[0m\u001b[0m\n\u001b[0m\u001b[0;32m      2\u001b[0m \u001b[0mtweet_k1_processed\u001b[0m \u001b[1;33m=\u001b[0m \u001b[0mpre_process\u001b[0m\u001b[1;33m(\u001b[0m\u001b[0mtweet_k1\u001b[0m\u001b[1;33m)\u001b[0m\u001b[1;33m\u001b[0m\u001b[1;33m\u001b[0m\u001b[0m\n\u001b[0;32m      3\u001b[0m \u001b[1;33m\u001b[0m\u001b[0m\n\u001b[0;32m      4\u001b[0m \u001b[0mprint\u001b[0m\u001b[1;33m(\u001b[0m\u001b[0mtweet_k1\u001b[0m\u001b[1;33m)\u001b[0m\u001b[1;33m\u001b[0m\u001b[1;33m\u001b[0m\u001b[0m\n\u001b[0;32m      5\u001b[0m \u001b[1;31m# tweet_k1_processed is now a list of words.\u001b[0m\u001b[1;33m\u001b[0m\u001b[1;33m\u001b[0m\u001b[1;33m\u001b[0m\u001b[0m\n",
      "\u001b[1;31mNameError\u001b[0m: name 'k1_tweets_filtered' is not defined"
     ]
    }
   ],
   "source": [
    "tweet_k1 = k1_tweets_filtered[0]['text']\n",
    "tweet_k1_processed = pre_process(tweet_k1)\n",
    "\n",
    "print(tweet_k1)\n",
    "# tweet_k1_processed is now a list of words. \n",
    "# We use ' '.join() method to join the list to a string.\n",
    "print(' '.join(tweet_k1_processed))"
   ]
  },
  {
   "cell_type": "markdown",
   "metadata": {},
   "source": [
    "**Instruction 2.7**. Use the example above, write your code to display the **first** tweets stored in the variables ***k2_tweets_filtered*** and ***k2_tweets_filtered*** before and after they have been pre-processed using the function ***pre_process()*** supplied earlier.\n",
    "\n",
    "[**Total mark: 4**]"
   ]
  },
  {
   "cell_type": "code",
   "execution_count": 12,
   "metadata": {},
   "outputs": [
    {
     "ename": "NameError",
     "evalue": "name 'k2_tweets_filtered' is not defined",
     "output_type": "error",
     "traceback": [
      "\u001b[1;31m---------------------------------------------------------------------------\u001b[0m",
      "\u001b[1;31mNameError\u001b[0m                                 Traceback (most recent call last)",
      "\u001b[1;32m<ipython-input-12-0e621c46c9f6>\u001b[0m in \u001b[0;36m<module>\u001b[1;34m\u001b[0m\n\u001b[0;32m      8\u001b[0m \u001b[1;31m# INSERT YOUR CODE HERE\u001b[0m\u001b[1;33m\u001b[0m\u001b[1;33m\u001b[0m\u001b[1;33m\u001b[0m\u001b[0m\n\u001b[0;32m      9\u001b[0m \u001b[1;31m# For k2_tweets_filtered\u001b[0m\u001b[1;33m\u001b[0m\u001b[1;33m\u001b[0m\u001b[1;33m\u001b[0m\u001b[0m\n\u001b[1;32m---> 10\u001b[1;33m \u001b[0mtweet_k2\u001b[0m \u001b[1;33m=\u001b[0m \u001b[0mk2_tweets_filtered\u001b[0m\u001b[1;33m[\u001b[0m\u001b[1;36m0\u001b[0m\u001b[1;33m]\u001b[0m\u001b[1;33m[\u001b[0m\u001b[1;34m'text'\u001b[0m\u001b[1;33m]\u001b[0m\u001b[1;33m\u001b[0m\u001b[1;33m\u001b[0m\u001b[0m\n\u001b[0m\u001b[0;32m     11\u001b[0m \u001b[0mtweet_k2_processed\u001b[0m \u001b[1;33m=\u001b[0m \u001b[0mpre_process\u001b[0m\u001b[1;33m(\u001b[0m\u001b[0mtweet_k2\u001b[0m\u001b[1;33m)\u001b[0m\u001b[1;33m\u001b[0m\u001b[1;33m\u001b[0m\u001b[0m\n\u001b[0;32m     12\u001b[0m \u001b[1;33m\u001b[0m\u001b[0m\n",
      "\u001b[1;31mNameError\u001b[0m: name 'k2_tweets_filtered' is not defined"
     ]
    }
   ],
   "source": [
    "# YOU ARE REQUIRED TO INSERT YOUR CODE IN THIS CELL\n",
    "'''\n",
    "Use the example above, write your code to display the first tweets stored in \n",
    "the variables k2_tweets_filtered and k3_tweets_filtered before and after they \n",
    "have been pre-processed using the function pre_process() supplied earlier.\n",
    "'''\n",
    "\n",
    "# INSERT YOUR CODE HERE\n",
    "# For k2_tweets_filtered\n",
    "tweet_k2 = k2_tweets_filtered[0]['text']\n",
    "tweet_k2_processed = pre_process(tweet_k2)\n",
    "\n",
    "print(tweet_k2)\n",
    "# tweet_k1_processed is now a list of words. \n",
    "# We use ' '.join() method to join the list to a string.\n",
    "print(' '.join(tweet_k2_processed))\n",
    "\n",
    "# For k3_tweets_filtered\n",
    "tweet_k3 = k3_tweets_filtered[0]['text']\n",
    "tweet_k3_processed = pre_process(tweet_k3)\n",
    "\n",
    "print(tweet_k3)\n",
    "# tweet_k1_processed is now a list of words. \n",
    "# We use ' '.join() method to join the list to a string.\n",
    "print(' '.join(tweet_k3_processed))"
   ]
  },
  {
   "cell_type": "markdown",
   "metadata": {},
   "source": [
    "**Instruction 2.8**. Write your code to pre-process and clean up all tweets stored in the variable ***k1_tweets_filtered***, ***k2_tweets_filtered*** and ***k3_tweets_filtered*** using the function ***pre_process()*** to result in new variables ***k1_tweets_processed***, ***k2_tweets_processed*** and ***k3_tweets_processed***.\n",
    "\n",
    "[**Total mark: 6**]"
   ]
  },
  {
   "cell_type": "code",
   "execution_count": 15,
   "metadata": {},
   "outputs": [],
   "source": [
    "# YOU ARE REQUIRED TO INSERT YOUR CODE IN THIS CELL\n",
    "'''\n",
    "Write your code to pre-process and clean up all tweets \n",
    "stored in the variable k1_tweets_filtered, k2_tweets_filtered and k3_tweets_filtered using the \n",
    "function pre_process() to result in new variables k1_tweets_processed, k2_tweets_processed \n",
    "and k3_tweets_processed.\n",
    "'''\n",
    "# INSERT YOUR CODE HERE\n",
    "# Making processed lists\n",
    "k1_tweets_processed = []\n",
    "k2_tweets_processed = []\n",
    "k3_tweets_processed = []\n",
    "\n",
    "# process all the lists\n",
    "for i in range(len(k1_tweets_filtered)):\n",
    "    k1_tweets_processed.append(k1_tweets_filtered[i]['text']);\n",
    "    \n",
    "for i in range(len(k2_tweets_filtered)):\n",
    "    k2_tweets_processed.append(k2_tweets_filtered[i]['text']);\n",
    "    \n",
    "for i in range(len(k2_tweets_filtered)):\n",
    "    k2_tweets_processed.append(k2_tweets_filtered[i]['text']);"
   ]
  },
  {
   "cell_type": "markdown",
   "metadata": {},
   "source": [
    "**Instruction 2.9**. Now, write your code to print out the **first 5 processed tweets** for each keyword *(the processed tweets are stored in **k1_tweets_processed**, **k2_tweets_processed** and **k3_tweets_processed**)*\n",
    "\n",
    "[**Total mark: 7**]"
   ]
  },
  {
   "cell_type": "code",
   "execution_count": null,
   "metadata": {
    "scrolled": true
   },
   "outputs": [],
   "source": [
    "# YOU ARE REQUIRED TO INSERT YOUR CODE IN THIS CELL\n",
    "'''\n",
    "Now write your code to print out the first 5 processed tweets for each keyword.\n",
    "Hint: Each tweet in tweets_processed is now a list of words, not a string. \n",
    "      To print a string, you might need to use ' '.join(tweet), \n",
    "      when tweet is a processed tweet\n",
    "\n",
    "'''\n",
    "\n",
    "print('The first 5 processed tweets for k1_tweets_processed:')\n",
    "# INSERT YOUR CODE HERE\n",
    "print(k1_tweets_processed[:5])\n",
    "\n",
    "\n",
    "print('\\nThe first 5 processed tweets for k2_tweets_processed:')\n",
    "# INSERT YOUR CODE HERE\n",
    "print(k2_tweets_processed[:5])\n",
    "\n",
    "\n",
    "print('\\nThe first 5 processed tweets for k3_tweets_processed:')\n",
    "# INSERT YOUR CODE HERE\n",
    "print(k3_tweets_processed[:5])"
   ]
  },
  {
   "cell_type": "markdown",
   "metadata": {},
   "source": [
    "**Note**. The following function ***construct_termdoc()*** has been implemented to construct the term-by-document matrix from a corpus of text data. **You will need this function for subsequent task**."
   ]
  },
  {
   "cell_type": "code",
   "execution_count": null,
   "metadata": {},
   "outputs": [],
   "source": [
    "def construct_termdoc(docs, vocab=[]):\n",
    "    \"\"\"\n",
    "    Construct a term-by-document-matrix\n",
    "    \n",
    "    docs: corpus\n",
    "    vocab: pre-defined vocabulary\n",
    "           if not supplied it will be automatically induced from the data\n",
    "    \n",
    "    returns the term-by-document matrix and the vocabulary of the passed corpus\n",
    "    \"\"\"\n",
    "    \n",
    "    # vocab is not passed\n",
    "    if vocab == []:\n",
    "        vocab = set()\n",
    "        termdoc_sparse = []\n",
    "\n",
    "        for doc in docs:       \n",
    "            # computes the frequencies of doc\n",
    "            doc_sparse = Counter(doc)    \n",
    "            termdoc_sparse.append(doc_sparse)\n",
    "            \n",
    "            # update the vocab\n",
    "            vocab.update(doc_sparse.keys())  \n",
    "\n",
    "        vocab = list(vocab)\n",
    "        vocab.sort()\n",
    "    \n",
    "    else:\n",
    "        termdoc_sparse = []        \n",
    "        for doc in docs:\n",
    "            termdoc_sparse.append(Counter(doc))\n",
    "            \n",
    "\n",
    "    n_docs = len(docs)\n",
    "    n_vocab = len(vocab)\n",
    "    termdoc_dense = np.zeros((n_docs, n_vocab), dtype=int)\n",
    "\n",
    "    for j, doc_sparse in enumerate(termdoc_sparse):\n",
    "        for term, freq in doc_sparse.items():\n",
    "            try:\n",
    "                termdoc_dense[j, vocab.index(term)] = freq\n",
    "            except:\n",
    "                pass\n",
    "            \n",
    "    return termdoc_dense, vocab"
   ]
  },
  {
   "cell_type": "markdown",
   "metadata": {},
   "source": [
    "**Instruction 2.10 (D)**. In the function ***construct_termdoc()***, a function **set** is used. Learn what this function does and explain its role in the function ***construct_termdoc()***. Write a brief answer.\n",
    "\n",
    "[**Total mark: 5**]"
   ]
  },
  {
   "cell_type": "code",
   "execution_count": null,
   "metadata": {},
   "outputs": [],
   "source": [
    "# In the function construct_termdoc(), a function \"set\" is used. Learn what this function does \n",
    "# and explain its role in the function construct_termdoc().\n",
    "# YOU ARE REQUIRED TO INSERT YOUR COMMENT IN THIS CELL\n",
    "#\n",
    "# The set() function is to creat a 'Set' object. \n",
    "# On this case, the set() function is being used in order to make an ampty set of vocabs"
   ]
  },
  {
   "cell_type": "markdown",
   "metadata": {},
   "source": [
    "**Note**. Now suppose that we would like to construct a term-by-document matrix for tweets collected for the **first keyword only**. The following piece of codes will do this by computing the term-by-document matrix and the vocabulary for tweets stored in **k1_tweets_processed**, print them out and visualise the corresponding term-by-document matrix stored in the variable ***k1_termdoc***. The corresponding vocabulary dictionary computed from this data will also be stored in the variable ***k1_vocab***."
   ]
  },
  {
   "cell_type": "code",
   "execution_count": null,
   "metadata": {},
   "outputs": [],
   "source": [
    "'''\n",
    "compute the term-by-document matrix and the the dictionary from the collection of \n",
    "tweets collected for the first keyword\n",
    "'''\n",
    "k1_termdoc, k1_vocab = construct_termdoc(k1_tweets_processed)\n",
    "\n",
    "# print out the term-by-document matrix\n",
    "print(k1_termdoc)\n",
    "# print out the first 5 vocabulary entries\n",
    "print(' '.join(k1_vocab[-5:]))  # print out only the first 5 vocabulary entries\n",
    "\n",
    "# visualise the term-by-document matrix\n",
    "fig, ax = plt.subplots(figsize=(10, 5))\n",
    "ax.imshow(k1_termdoc)\n",
    "ax.set_xlabel('term (vocabulary)')\n",
    "ax.set_ylabel('documents (tweets)')\n",
    "ax.set_title('Term-by-Document matrix from tweets collected for keyword \\\"{}\\\"'.format(keywords[0]))"
   ]
  },
  {
   "cell_type": "markdown",
   "metadata": {},
   "source": [
    "**Note**. Next, we would like to compute the pairwise distances between every two tweets. This will help us to see how similar tweets are. This is a computational task that would be *not* possible to do if we use the raw tweets.\n",
    "\n",
    "However, with the term-by-document matrix, each tweet now is vector and corresponds to a row in the term-by-document matrix. Hence, we can use the distance between vectors to compute the distance between tweets. This is also known as the **vector space model** in information retrieval literature."
   ]
  },
  {
   "cell_type": "markdown",
   "metadata": {},
   "source": [
    "**Instruction 2.11**. Your tasks are:\n",
    "\n",
    "1. Define a function to compute and return the Euclidean distance between two vectors as we have learned from the class notes. **(5 marks)**\n",
    "\n",
    "2. Define a function to compute and return the cosine distance between two vectors as we have learned from the class notes. **(5 marks)**\n",
    "\n",
    "3. Construct a single function that returns two distance matrices ***euclidean_distance_matrix***, and ***cosine_distance_matrix***, whose elements (i,j) store the Eulidean distance and the cosine distance between tweets i-th and i-jth. **You will need this function for subsequent task**. **(6 marks)**\n",
    "\n",
    "**[Total mark: 16]**"
   ]
  },
  {
   "cell_type": "code",
   "execution_count": 19,
   "metadata": {},
   "outputs": [],
   "source": [
    "# YOU ARE REQUIRED TO INSERT YOUR CODE IN THIS CELL\n",
    "\n",
    "def Euclidean_distance(x,y):\n",
    "    '''\n",
    "    Compute and return the Euclidean distance between two vectors x and y\n",
    "    '''\n",
    "    # INSERT YOUR CODE HERE\n",
    "    distance = x - y\n",
    "    distance = distance ** 2\n",
    "    return np.sqrt(distance.sum())\n"
   ]
  },
  {
   "cell_type": "code",
   "execution_count": 20,
   "metadata": {},
   "outputs": [],
   "source": [
    "# YOU ARE REQUIRED TO INSERT YOUR CODE IN THIS CELL\n",
    "def cosine_distance(x,y):\n",
    "    '''\n",
    "    Compute and return the cosine distance between two vectors x and y\n",
    "    '''\n",
    "    # INSERT YOUR CODE HERE\n",
    "    try:\n",
    "        numerator = (x*y).sum()\n",
    "        denominator = np.sqrt((x*x).sum()) * np.sqrt((y*y).sum())\n",
    "        numerator += 0.0    # or use np.astype(float) to make sure of float division\n",
    "        return numerator/denominator\n",
    "    except ValueError as cos_err:\n",
    "        print(\"Vectors passed to the function are not the same size\")\n",
    "        return None"
   ]
  },
  {
   "cell_type": "code",
   "execution_count": 16,
   "metadata": {},
   "outputs": [],
   "source": [
    "# YOU ARE REQUIRED TO INSERT YOUR CODE IN THIS CELL\n",
    "'''\n",
    "The function takes the termdoc matrix as the input and computes variables called \"euclidean_distance_matrix\" \n",
    "and \"cosine_distance_matrix\", which are matrices whose elements (i,j) store the Eulidean distance \n",
    "and the cosine distance between tweet i-th and i-jth.\n",
    "\n",
    "Hint: you should store the distance matrices in numpy arrays for easier implementation in subsequent tasks\n",
    "'''\n",
    "\n",
    "def compute_distance_matrices(termdoc):\n",
    "    # INSERT YOUR CODE HERE\n",
    "    euclidean_distance_matrix = np.array([])\n",
    "    cosine_distance_matrix = np.array([])\n",
    "    \n",
    "    for i in range(len(termdoc)):\n",
    "        if (i+1 is not len(termdoc)):\n",
    "            np.append(euclidean_distance_matrix, Euclidean_distance(i, i+1))\n",
    "            np.append(cosine_distance_matrix, cosine_distance(i, i+1))\n",
    "            \n",
    "    return euclidean_distance_matrix, cosine_distance_matrix\n",
    "    \n",
    "    \n"
   ]
  },
  {
   "cell_type": "markdown",
   "metadata": {},
   "source": [
    "**Instruction 2.12**. \n",
    "\n",
    "1. Now you need to compute the distance matrices for **k1_termdoc** and then visualise these distance matrices. **(10 marks)**\n",
    "\n",
    "2. Explain why cosine distance is always in the range between 0 and 1. **(5 marks)**\n",
    "\n",
    "3. (HD) Using a scatter plot demonstrate relationship between Euclidean distance and cosine distance. **(5 marks)**\n",
    "\n",
    "4. (HD) Explain why cosine distance increases if Euclidean distance decreases and vice versa. **(5 marks)**\n",
    "\n",
    "\n",
    "**[Total mark: 25]**"
   ]
  },
  {
   "cell_type": "code",
   "execution_count": 21,
   "metadata": {},
   "outputs": [
    {
     "ename": "NameError",
     "evalue": "name 'k1_termdoc' is not defined",
     "output_type": "error",
     "traceback": [
      "\u001b[1;31m---------------------------------------------------------------------------\u001b[0m",
      "\u001b[1;31mNameError\u001b[0m                                 Traceback (most recent call last)",
      "\u001b[1;32m<ipython-input-21-6f319794c516>\u001b[0m in \u001b[0;36m<module>\u001b[1;34m\u001b[0m\n\u001b[0;32m      3\u001b[0m \u001b[1;31m# compute the distance matrices for k1_termdoc using the function \"compute_distance_matrices\"\u001b[0m\u001b[1;33m\u001b[0m\u001b[1;33m\u001b[0m\u001b[1;33m\u001b[0m\u001b[0m\n\u001b[0;32m      4\u001b[0m \u001b[1;31m# INSERT YOUR CODE HERE\u001b[0m\u001b[1;33m\u001b[0m\u001b[1;33m\u001b[0m\u001b[1;33m\u001b[0m\u001b[0m\n\u001b[1;32m----> 5\u001b[1;33m \u001b[0meuclid_k1_termdoc\u001b[0m\u001b[1;33m,\u001b[0m \u001b[0mcosine_k1_termdoc\u001b[0m \u001b[1;33m=\u001b[0m \u001b[0mcompute_distance_matrices\u001b[0m\u001b[1;33m(\u001b[0m\u001b[0mk1_termdoc\u001b[0m\u001b[1;33m)\u001b[0m\u001b[1;33m\u001b[0m\u001b[1;33m\u001b[0m\u001b[0m\n\u001b[0m\u001b[0;32m      6\u001b[0m \u001b[1;33m\u001b[0m\u001b[0m\n\u001b[0;32m      7\u001b[0m \u001b[1;31m# Visualise the distance matrices for this keyword\u001b[0m\u001b[1;33m\u001b[0m\u001b[1;33m\u001b[0m\u001b[1;33m\u001b[0m\u001b[0m\n",
      "\u001b[1;31mNameError\u001b[0m: name 'k1_termdoc' is not defined"
     ]
    }
   ],
   "source": [
    "# YOU ARE REQUIRED TO INSERT YOUR CODE IN THIS CELL\n",
    "\n",
    "# compute the distance matrices for k1_termdoc using the function \"compute_distance_matrices\"\n",
    "# INSERT YOUR CODE HERE\n",
    "euclid_k1_termdoc, cosine_k1_termdoc = compute_distance_matrices(k1_termdoc)\n",
    "\n",
    "# Visualise the distance matrices for this keyword\n",
    "# Hint: use imshow() and colorbar() functions\n",
    "# INSERT YOUR CODE HERE\n",
    "fig, ax = plt.subplots(figsize=(10, 5))\n",
    "ax.imshow(euclid_k1_termdoc)\n",
    "ax.imshow(cosine_k1_termdoc)"
   ]
  },
  {
   "cell_type": "code",
   "execution_count": null,
   "metadata": {},
   "outputs": [],
   "source": [
    "# Explain why cosine distance is always in the range between 0 and 1.\n",
    "# YOU ARE REQUIRED TO INSERT YOUR COMMENT IN THIS CELL\n",
    "#\n",
    "# it will be betweeon 0 and 1 because term frequencies never be negative\n"
   ]
  },
  {
   "cell_type": "code",
   "execution_count": null,
   "metadata": {},
   "outputs": [],
   "source": [
    "# Using a scatter plot demonstrate relationship between Euclidean distance and cosine distance.\n",
    "# YOU ARE REQUIRED TO INSERT YOUR CODE IN THIS CELL\n",
    "# INSERT YOUR CODE HERE\n",
    "plt.scatter(euclid_k1_termdoc, cosine_k1_termdoc)\n",
    "plt.show()"
   ]
  },
  {
   "cell_type": "code",
   "execution_count": null,
   "metadata": {},
   "outputs": [],
   "source": [
    "# Explain why cosine distance increases if Euclidean distance decreases and vice versa.\n",
    "# YOU ARE REQUIRED TO INSERT YOUR COMMENT IN THIS CELL\n",
    "#\n",
    "# While cosine is based on the angle, euclidean distance is by using ruler. \n",
    "# Thus, the longer the distance, the shorter the angle\n"
   ]
  },
  {
   "cell_type": "markdown",
   "metadata": {},
   "source": [
    "**Instruction 2.13**. Similar to the example above for the first keyword, your task is to write codes in the cell below to compute the term-by-document matrix and the vocabulary for tweets stored in ***k2_tweets_processed***, print out the first **5** vocabularies and visualise this term-by-document matrix.\n",
    "\n",
    "[**Total mark: 5**]"
   ]
  },
  {
   "cell_type": "code",
   "execution_count": null,
   "metadata": {},
   "outputs": [],
   "source": [
    "# YOU ARE REQUIRED TO INSERT YOUR CODE IN THIS CELL\n",
    "'''\n",
    "Write your codes to compute the term-by-document matrix and the vocabulary for tweets stored \n",
    "in k2_tweets_processed\n",
    "'''\n",
    "# INSERT YOUR CODE HERE\n",
    "\n",
    "k2_termdoc, k2_vocab = construct_termdoc(k2_tweets_processed)\n",
    "\n",
    "'''\n",
    "Write your code print out the first 5 vocabularies \n",
    "'''\n",
    "# INSERT YOUR CODE HERE\n",
    "\n",
    "print(' '.join(k2_vocab[-5:]))\n",
    "\n",
    "'''\n",
    "Write your code to visualise the term-by-document matrix\n",
    "'''\n",
    "# INSERT YOUR CODE HERE\n",
    "fig, ax = plt.subplots(figsize=(10, 5))\n",
    "ax.imshow(k2_termdoc)\n",
    "ax.set_xlabel('term (vocabulary)')\n",
    "ax.set_ylabel('documents (tweets)')\n",
    "ax.set_title('Term-by-Document matrix from tweets collected for keyword \\\"{}\\\"'.format(keywords[0]))\n"
   ]
  },
  {
   "cell_type": "markdown",
   "metadata": {},
   "source": [
    "***Instruction 2.14***. Next, your task is to write codes in the cell below to calculate the pairwise distance matrix for tweets collected for **second** keyword. Store this distance matrix in the variable named ***k2_euclidean_distances*** and **visualise** this matrix.\n",
    "\n",
    "[**Total mark: 10**]"
   ]
  },
  {
   "cell_type": "code",
   "execution_count": null,
   "metadata": {},
   "outputs": [],
   "source": [
    "# YOU ARE REQUIRED TO INSERT YOUR CODE IN THIS CELL\n",
    "\n",
    "# compute the distance matrix for k1_termdoc using the function \"compute_euclidean_distance_matrix\"\n",
    "# INSERT YOUR CODE HERE\n",
    "euclid_k2_termdoc, cosine_k2_termdoc = compute_distance_matrices(k2_termdoc)\n",
    "\n",
    "# Visualise the distance matrix for this keyword\n",
    "# Hint: use imshow() and colorbar() functions\n",
    "# INSERT YOUR CODE HERE\n",
    "fig, ax = plt.subplots(figsize=(10, 5))\n",
    "ax.imshow(euclid_k2_termdoc)\n",
    "ax.imshow(cosine_k2_termdoc)"
   ]
  },
  {
   "cell_type": "markdown",
   "metadata": {},
   "source": [
    "**Instruction 2.15**. Similarly, your task is to write codes in the cell below to compute the term-by-document matrix and the vocabulary for tweets stored in ***k3_tweets_processed***, print out the first **5** vocabularies and visualise this term-by-document matrix.\n",
    "\n",
    "[**Total mark: 5**]"
   ]
  },
  {
   "cell_type": "code",
   "execution_count": null,
   "metadata": {},
   "outputs": [],
   "source": [
    "# YOU ARE REQUIRED TO INSERT YOUR CODE IN THIS CELL\n",
    "'''\n",
    "Write your codes to compute the term-by-document matrix and the vocabulary for tweets stored \n",
    "in k3_tweets_processed\n",
    "'''\n",
    "# INSERT YOUR CODE HERE\n",
    "\n",
    "k3_termdoc, k3_vocab = construct_termdoc(k3_tweets_processed)\n",
    "\n",
    "'''\n",
    "Write your code print out the first 5 vocabularies \n",
    "'''\n",
    "# INSERT YOUR CODE HERE\n",
    "\n",
    "print(' '.join(k3_vocab[-5:]))\n",
    "\n",
    "'''\n",
    "Write your code to visualise the term-by-document matrix\n",
    "'''\n",
    "# INSERT YOUR CODE HERE\n",
    "\n",
    "fig, ax = plt.subplots(figsize=(10, 5))\n",
    "ax.imshow(k3_termdoc)\n",
    "ax.set_xlabel('term (vocabulary)')\n",
    "ax.set_ylabel('documents (tweets)')\n",
    "ax.set_title('Term-by-Document matrix from tweets collected for keyword \\\"{}\\\"'.format(keywords[0]))\n"
   ]
  },
  {
   "cell_type": "markdown",
   "metadata": {},
   "source": [
    "***Instruction 2.16***. Next, your task is to write codes in the cell below to calculate the pairwise distance matrix for tweets collected for **third** keyword. Store this distance matrix in the variable named ***k3_euclidean_distances*** and visualise this matrix.\n",
    "\n",
    "[**Total mark: 5**]"
   ]
  },
  {
   "cell_type": "code",
   "execution_count": null,
   "metadata": {},
   "outputs": [],
   "source": [
    "# YOU ARE REQUIRED TO INSERT YOUR CODE IN THIS CELL\n",
    "\n",
    "# compute the distance matrices for k1_termdoc using the function \"compute_distance_matrices\"\n",
    "# INSERT YOUR CODE HERE\n",
    "euclid_k3_termdoc, cosine_k3_termdoc = compute_distance_matrices(k3_termdoc)\n",
    "\n",
    "# Visualise the distance matrix for this keyword\n",
    "# Hint: use imshow() and colorbar() functions\n",
    "# INSERT YOUR CODE HERE\n",
    "fig, ax = plt.subplots(figsize=(10, 5))\n",
    "ax.imshow(euclid_k3_termdoc)\n",
    "ax.imshow(cosine_k3_termdoc)"
   ]
  },
  {
   "cell_type": "markdown",
   "metadata": {},
   "source": [
    "***Instruction 2.17 (HD)***. Compare the ranges of the values for cosine and Euclidean distances. Explain why the ranges are different. Think about the best example to explain why cosine distance is more convenient than Euclidean distance for text analysis.\n",
    "\n",
    "[**Total mark: 5**]"
   ]
  },
  {
   "cell_type": "code",
   "execution_count": null,
   "metadata": {},
   "outputs": [],
   "source": [
    "# Compare the ranges of the values for cosine and Euclidean distances. \n",
    "# Explain why the ranges are different. Explain why cosine distance \n",
    "# is more convenient than Euclidean distance for text analysis.\n",
    "#\n",
    "# YOU ARE REQUIRED TO INSERT YOUR COMMENT IN THIS CELL\n",
    "#\n",
    "# Cosine distance counts from the angle, no matter the magnitude of the data\n"
   ]
  },
  {
   "cell_type": "markdown",
   "metadata": {},
   "source": [
    "### Part 2C: Data Clustering\n",
    "\n",
    "Thus far in this assignment, we have collected tweets for each keyword and analysed them seperately. We have constructed the term-by-document matrix for each collection of tweets seperately. A fundemantal and common task in data science, analytics, machine learning, science and engineering is **clustering**. This is also known as unsupervised learning or exploratory data analysis as we have learned in our classes.\n",
    "\n",
    "This part of this assignment will use the Kmeans algorithm learned in our classes to cluster the **entire** colllection of tweets collected for **all** keywords. To do so, we need to compute the **distance** between **any** two pair of tweets. This requires us to compute a **joint** term-by-document matrix for all tweets.\n",
    "\n",
    "The reason that we **cannot** use the individual term-by-document matrices computed earlier (e.g.,***k1_termdoc, k2_termdoc, k3_termdoc***) for this task is because they have different dictionary sizes. Hence, tweets collected for different keywords have been represented by vectors of different dimension. \n",
    "\n",
    "The following piece of codes will help you to inspect these dimensions."
   ]
  },
  {
   "cell_type": "code",
   "execution_count": null,
   "metadata": {},
   "outputs": [],
   "source": [
    "print('Dimension of the term-by-document matrix for keyword \\\"{}\\\":'.format(keywords[0]))\n",
    "print('{} x {}\\n'.format(k1_termdoc.shape[0],k1_termdoc.shape[1]))\n",
    "\n",
    "print('Dimension of the term-by-document matrix for keyword \\\"{}\\\":'.format(keywords[1]))\n",
    "print('{} x {}\\n'.format(k2_termdoc.shape[0],k2_termdoc.shape[1]))\n",
    "\n",
    "print('Dimension of the term-by-document matrix for keyword \\\"{}\\\":'.format(keywords[2]))\n",
    "print('{} x {}\\n'.format(k3_termdoc.shape[0],k3_termdoc.shape[1]))"
   ]
  },
  {
   "cell_type": "markdown",
   "metadata": {},
   "source": [
    "**Note**. First, we need to gather all tweets together into a new variable named **all_tweets_processed** using the piece of codes below."
   ]
  },
  {
   "cell_type": "code",
   "execution_count": null,
   "metadata": {},
   "outputs": [],
   "source": [
    "all_tweets_processed = k1_tweets_processed + k2_tweets_processed + k3_tweets_processed"
   ]
  },
  {
   "cell_type": "markdown",
   "metadata": {},
   "source": [
    "**Instruction 2.18**. Your task is to write codes in the cell below to compute the term-by-document matrix and the vocabulary for all tweets stored in ***all_tweets_processed***, print out the first 5 vocabularies and visualise this term-by-document matrix.\n",
    "\n",
    "[**Total marks: 5**]"
   ]
  },
  {
   "cell_type": "code",
   "execution_count": null,
   "metadata": {},
   "outputs": [],
   "source": [
    "# YOU ARE REQUIRED TO INSERT YOUR CODE IN THIS CELL\n",
    "'''\n",
    "Write your codes to compute the term-by-document matrix and the vocabulary for all tweets stored \n",
    "in all_tweets_processed\n",
    "'''\n",
    "\n",
    "all_termdoc, all_vocab = # INSERT YOUR CODE HERE\n",
    "\n",
    "'''\n",
    "Write your code print out the first 5 vocabularies \n",
    "'''\n",
    "# INSERT YOUR CODE HERE\n",
    "\n",
    "'''\n",
    "Write your code to visualise the term-by-document matrix\n",
    "'''\n",
    "# INSERT YOUR CODE HERE\n"
   ]
  },
  {
   "cell_type": "markdown",
   "metadata": {},
   "source": [
    "**Instruction 2.19**. Next, your task is to write codes in the cell below to calculate the pairwise distance matrix for all tweets collected. Store this distance matrix in the variable named ***all_euclidean_distances*** and visualise this matrix.\n",
    "\n",
    "[**Total mark: 5**]"
   ]
  },
  {
   "cell_type": "code",
   "execution_count": null,
   "metadata": {},
   "outputs": [],
   "source": [
    "# YOU ARE REQUIRED TO INSERT YOUR CODE IN THIS CELL\n",
    "\n",
    "# compute the Euclidean distance matrix using compute_euclidean_distance_matrix() function\n",
    "\n",
    "all_euclidean_distances, all_cosine_distances = # INSERT YOUR CODE HERE\n",
    "\n",
    "# Visualise the distance matrix for this keyword\n",
    "# INSERT YOUR CODE HERE\n"
   ]
  },
  {
   "cell_type": "markdown",
   "metadata": {},
   "source": [
    "**Instruction 2.20 (HD)**. \n",
    "1. Your task is to produce a scatter plot of Euclidean vs cosine distance for all tweets. [**2 marks**]\n",
    "2. Fit first and second order polynomials to the data in the scatter plot and overplot them. [**3 marks**]\n",
    "3. Explain why the plotted curves do not go through the centre of the points cloud. [**4 marks**]\n",
    "4. Which visualisation technique would be better to use here? [**1 mark**]\n",
    "\n",
    "[**Total mark: 10**]"
   ]
  },
  {
   "cell_type": "code",
   "execution_count": null,
   "metadata": {},
   "outputs": [],
   "source": [
    "# YOU ARE REQUIRED TO INSERT YOUR CODE IN THIS CELL\n",
    "# 1. Your task is to produce a scatter plot of Euclidean vs cosine distance for all tweets.\n",
    "# INSERT YOUR CODE HERE\n",
    "\n",
    "# 2. Fit a second order polynomial to the data in the scatter plot and overplot it. \n",
    "# INSERT YOUR CODE HERE\n"
   ]
  },
  {
   "cell_type": "code",
   "execution_count": null,
   "metadata": {},
   "outputs": [],
   "source": [
    "# YOU ARE REQUIRED TO INSERT YOUR COMMENT IN THIS CELL\n",
    "#3. Explain why the plotted curves do not go through the centre of the points cloud.\n",
    "#4. Which visualisation technique would be better to use here?\n",
    "# INSERT YOUR COMMENTS HERE\n",
    "#\n"
   ]
  },
  {
   "cell_type": "markdown",
   "metadata": {},
   "source": [
    "**Note**. Next, we use Kmeans algorithm to cluster all tweets stored in term-by-document matrix ***all_termdoc***. An important requirement for the Kmeans is the specification of the number of clusters which will be specified the variable **n_clusters**.\n",
    "\n",
    "The following piece of codes will initialise a ***kmeans*** object to be used for subsequent clustering task."
   ]
  },
  {
   "cell_type": "code",
   "execution_count": null,
   "metadata": {},
   "outputs": [],
   "source": [
    "'''\n",
    "Initialise a kmeans object  from scikit-lean package\n",
    "'''\n",
    "n_clusters = 3\n",
    "kmeans = KMeans(n_clusters=n_clusters, init='k-means++', n_init=5, max_iter=3000,\n",
    "                verbose=True, tol=0.000001, random_state=123456)\n"
   ]
  },
  {
   "cell_type": "markdown",
   "metadata": {},
   "source": [
    "**Instruction 2.21**. Your task is to use the variable ***kmeans*** to perform clustering on the data stored in the variable ***all_termdoc***.\n",
    "\n",
    "[**Total mark: 5**]"
   ]
  },
  {
   "cell_type": "code",
   "execution_count": null,
   "metadata": {},
   "outputs": [],
   "source": [
    "# YOU ARE REQUIRED TO INSERT YOUR CODE IN THIS CELL\n",
    "\n",
    "'''\n",
    "Use the variable kmeans to perform clustering on the data stored in the variable all_termdoc\n",
    "Hint: revise the practical session on Kmeans algorithm or check out the documentation from scikit-learn\n",
    "for Kmeans algorithm.\n",
    "'''\n",
    "# INSERT YOUR CODE HERE\n"
   ]
  },
  {
   "cell_type": "markdown",
   "metadata": {},
   "source": [
    "**Instruction 2.22**. Write your codes to print out the cluster centers.\n",
    "\n",
    "[**Total mark: 5**]"
   ]
  },
  {
   "cell_type": "code",
   "execution_count": null,
   "metadata": {},
   "outputs": [],
   "source": [
    "# YOU ARE REQUIRED TO INSERT YOUR CODE IN THIS CELL\n",
    "'''\n",
    "Write your codes to print out the cluster centers.\n",
    "'''\n",
    "# INSERT YOUR CODE HERE\n"
   ]
  },
  {
   "cell_type": "markdown",
   "metadata": {},
   "source": [
    "**Instruction 2.23 (HD)**. Explain below why visualising the clusters here is hard to do in this case.\n",
    "\n",
    "[**Total mark: 5**]"
   ]
  },
  {
   "cell_type": "code",
   "execution_count": null,
   "metadata": {},
   "outputs": [],
   "source": [
    "# YOU ARE REQUIRED TO INSERT YOUR COMMENT IN THIS CELL\n",
    "# Explain below why visualising the clusters here is hard to do in this case.\n",
    "# INSERT YOUR COMMENT HERE\n"
   ]
  },
  {
   "cell_type": "markdown",
   "metadata": {},
   "source": [
    "**Instruction 2.24 (HD)**. Nevertheless, it is possible to visualise the structure of the cluster centres - surprisingly, using bar charts. Each vector component in the cluster centre vectors corresponds to a word in the dictionary. The value (amplitude) of the vector component for each particular word in the dictionary shows the strength of presence of a word in the cluster.\n",
    "In this task, you want to:\n",
    "1. Plot bar charts for each of the three clusters, obtained from KMeans, where each bar chart has 20 strongest words sorted by their presence strength. [**5 marks**]\n",
    "2. Explain the bar charts from the point of view of chosen keywords, English grammar and our text preprocessing routine. [**5 marks**]\n",
    "\n",
    "[**Total mark: 10**]"
   ]
  },
  {
   "cell_type": "code",
   "execution_count": null,
   "metadata": {},
   "outputs": [],
   "source": [
    "# YOU ARE REQUIRED TO INSERT YOUR CODE IN THIS CELL\n",
    "# 1. Plot bar charts for each of the three clusters, obtained from KMeans, \n",
    "# where each bar chart has 20 strongest words sorted by their presence strength.\n",
    "# INSERT YOUR CODE HERE\n"
   ]
  },
  {
   "cell_type": "code",
   "execution_count": null,
   "metadata": {},
   "outputs": [],
   "source": [
    "# YOU ARE REQUIRED TO INSERT YOUR COMMENT IN THIS CELL\n",
    "# Explain the bar charts from the point of view of chosen keywords, English grammar \n",
    "# and our text preprocessing routine.\n",
    "# INSERT YOUR COMMENT HERE\n",
    "#"
   ]
  },
  {
   "cell_type": "markdown",
   "metadata": {},
   "source": [
    "**Instruction 2.25**. Write your codes to print out the first **200** cluster labels assigned to the first 200 tweets.\n",
    "\n",
    "[**Total marks: 5**]"
   ]
  },
  {
   "cell_type": "code",
   "execution_count": null,
   "metadata": {},
   "outputs": [],
   "source": [
    "# YOU ARE REQUIRED TO INSERT YOUR CODE IN THIS CELL\n",
    "'''\n",
    "Write your codes to print out the first **200** cluster labels assigned to the first 200 tweets.\n",
    "'''\n",
    "# INSERT YOUR CODE HERE\n"
   ]
  },
  {
   "cell_type": "markdown",
   "metadata": {},
   "source": [
    "**Instruction 2.26**. Next, we would like to obtain the quality of our clustering results. Write your code to obtain the labels of tweets for each keyword and store the labels in three new variables ***k1_labels***, ***k2_labels*** and ***k3_labels***, respectively.\n",
    "\n",
    "**[Total marks: 5]**"
   ]
  },
  {
   "cell_type": "code",
   "execution_count": null,
   "metadata": {},
   "outputs": [],
   "source": [
    "# YOU ARE REQUIRED TO INSERT YOUR CODE IN THIS CELL\n",
    "\n",
    "'''\n",
    "Write your code to obtain the labels of tweets for each keyword\n",
    "and store the labels of the first keyword in ***k1_labels***, \n",
    "the labels of the second keyword in ***k2_labels*** and\n",
    "the labels of the third keyword in ***k3_labels***.\n",
    "'''\n",
    "# INSERT YOUR CODE HERE\n"
   ]
  },
  {
   "cell_type": "markdown",
   "metadata": {},
   "source": [
    "**Instruction 2.27 (D)**. We examine what is the proprotion of tweets from different keywords (or categories) appear in the **first** cluster. Remember that **0** is the label for the first cluster (**1** for the second and **2** for the third clusters). Your tasks are:\n",
    "\n",
    "1. Write your code to obtain the list of tweet indices of each keyword that are assigned to the first cluster. **(3 marks)**\n",
    "\n",
    "2. Plot a bar chart to visualise the number of tweets of each keyword that are assigned to the first cluster. **(2 marks)**\n",
    "\n",
    "**[Total mark: 5]**"
   ]
  },
  {
   "cell_type": "code",
   "execution_count": null,
   "metadata": {},
   "outputs": [],
   "source": [
    "# YOU ARE REQUIRED TO INSERT YOUR CODE IN THIS CELL\n",
    "'''\n",
    "Write your code to obtain the list of tweet indices of each keyword that are assigned to the first cluster.\n",
    "Hint: you might want to use numpy.where function.\n",
    "'''\n",
    "# obtain the list of tweet indices of keyword k1 that are assigned to the first cluster\n",
    "# means that to find tweet indices that have label 0 in k1_labels\n",
    "k1_idx_label0 = # INSERT YOUR CODE HERE\n",
    "\n",
    "# obtain the list of tweet indices of keyword k2 that are assigned to the first cluster\n",
    "# means that to find tweet indices that have label 0 in k2_labels\n",
    "k2_idx_label0 = # INSERT YOUR CODE HERE\n",
    "\n",
    "# obtain the list of tweet indices of keyword k3 that are assigned to the first cluster\n",
    "# means that to find tweet indices that have label 0 in k3_labels\n",
    "k3_idx_label0 = # INSERT YOUR CODE HERE\n"
   ]
  },
  {
   "cell_type": "code",
   "execution_count": null,
   "metadata": {},
   "outputs": [],
   "source": [
    "# YOU ARE REQUIRED TO INSERT YOUR CODE IN THIS CELL\n",
    "'''\n",
    "Plot a bar chart to visualise the number of tweets of each keyword that are assigned to the first cluster.\n",
    "Hint: you need to plot a bar chart with three bars, \n",
    "each bar represents the number of tweets of each keyword that are assigned to the first cluster.\n",
    "'''\n",
    "# INSERT YOUR CODE HERE\n"
   ]
  },
  {
   "cell_type": "markdown",
   "metadata": {},
   "source": [
    "**Instruction 2.28 (D)**. Similarly, write your codes to compute the the proprotion of tweets from different keywords (or categories) appear in the **second** cluster and plot a bar chart visualise this information.\n",
    "\n",
    "[**Total mark: 5**]"
   ]
  },
  {
   "cell_type": "code",
   "execution_count": null,
   "metadata": {},
   "outputs": [],
   "source": [
    "# YOU ARE REQUIRED TO INSERT YOUR CODE IN THIS CELL\n",
    "\n",
    "# obtain the list of tweet indices of keyword k1 that are assigned to the second cluster\n",
    "# means that to find tweet indices that have label 1 in k1_labels\n",
    "k1_idx_label1 = # INSERT YOUR CODE HERE\n",
    "\n",
    "# obtain the list of tweet indices of keyword k2 that are assigned to the second cluster\n",
    "# means that to find tweet indices that have label 1 in k2_labels\n",
    "k2_idx_label1 = # INSERT YOUR CODE HERE\n",
    "\n",
    "# obtain the list of tweet indices of keyword k3 that are assigned to the second cluster\n",
    "# means that to find tweet indices that have label 1 in k3_labels\n",
    "k3_idx_label1 = # INSERT YOUR CODE HERE\n",
    "\n",
    "# Plot a bar chart to visualise the number of tweets of each keyword that are assigned to the second cluster\n",
    "# INSERT YOUR CODE HERE\n"
   ]
  },
  {
   "cell_type": "markdown",
   "metadata": {},
   "source": [
    "**Instruction 2.29 (D)**. Similarly, write your codes to compute the the proprotion of tweets from different keywords (or categories) appear in the **third** cluster and plot a bar chart visualise this information.\n",
    "\n",
    "[**Total mark: 5**]"
   ]
  },
  {
   "cell_type": "code",
   "execution_count": null,
   "metadata": {},
   "outputs": [],
   "source": [
    "# YOU ARE REQUIRED TO INSERT YOUR CODE IN THIS CELL\n",
    "\n",
    "# obtain the list of tweet indices of keyword k1 that are assigned to the third cluster\n",
    "# means that to find tweet indices that have label 2 in k1_labels\n",
    "k1_idx_label2 = # INSERT YOUR CODE HERE\n",
    "\n",
    "# obtain the list of tweet indices of keyword k2 that are assigned to the third cluster\n",
    "# means that to find tweet indices that have label 2 in k2_labels\n",
    "k2_idx_label2 = # INSERT YOUR CODE HERE\n",
    "\n",
    "# obtain the list of tweet indices of keyword k3 that are assigned to the third cluster\n",
    "# means that to find tweet indices that have label 2 in k3_labels\n",
    "k3_idx_label2 = # INSERT YOUR CODE HERE\n",
    "\n",
    "# Plot a bar chart to visualise the number of tweets of each keyword that are assigned to the third cluster\n",
    "# INSERT YOUR CODE HERE\n"
   ]
  },
  {
   "cell_type": "markdown",
   "metadata": {},
   "source": [
    "### END OF ASSIGNMENT 2 NOTEBOOK\n",
    "\n",
    "----"
   ]
  },
  {
   "cell_type": "code",
   "execution_count": null,
   "metadata": {},
   "outputs": [],
   "source": []
  }
 ],
 "metadata": {
  "kernelspec": {
   "display_name": "Python 3",
   "language": "python",
   "name": "python3"
  },
  "language_info": {
   "codemirror_mode": {
    "name": "ipython",
    "version": 3
   },
   "file_extension": ".py",
   "mimetype": "text/x-python",
   "name": "python",
   "nbconvert_exporter": "python",
   "pygments_lexer": "ipython3",
   "version": "3.7.6"
  },
  "latex_envs": {
   "LaTeX_envs_menu_present": true,
   "autoclose": false,
   "autocomplete": true,
   "bibliofile": "biblio.bib",
   "cite_by": "apalike",
   "current_citInitial": 1,
   "eqLabelWithNumbers": true,
   "eqNumInitial": 1,
   "hotkeys": {
    "equation": "Ctrl-E",
    "itemize": "Ctrl-I"
   },
   "labels_anchors": false,
   "latex_user_defs": false,
   "report_style_numbering": false,
   "user_envs_cfg": false
  },
  "toc": {
   "base_numbering": 1,
   "nav_menu": {},
   "number_sections": true,
   "sideBar": true,
   "skip_h1_title": false,
   "title_cell": "Table of Contents",
   "title_sidebar": "Contents",
   "toc_cell": false,
   "toc_position": {},
   "toc_section_display": true,
   "toc_window_display": false
  }
 },
 "nbformat": 4,
 "nbformat_minor": 1
}
