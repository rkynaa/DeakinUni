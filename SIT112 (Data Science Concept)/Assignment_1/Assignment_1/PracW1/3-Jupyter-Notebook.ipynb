{
 "cells": [
  {
   "cell_type": "markdown",
   "metadata": {},
   "source": [
    "# <span style=\"color:#0b486b\">SIT 112 - Data Science Concepts</span>\n",
    "\n",
    "---\n",
    "Lecturer: Sergiy Shelyag | sergiy.shelyag@deakin.edu.au<br />\n",
    "Assistant: \n",
    "\n",
    "School of Information Technology, <br />\n",
    "Deakin University, VIC 3216, Australia.\n",
    "\n",
    "---\n",
    "\n",
    "## <span style=\"color:#0b486b\">Practical Session 1.3: Jupyter Notebook</span>\n",
    "\n",
    "**The purpose of this session is:**\n",
    "\n",
    "1. introducing you Jupyter Notebooks\n",
    "2. teaching you how to use Jupyter notebooks\n",
    "3. teaching you how to create your first Jupyter notebook\n",
    "\n",
    "This note contains an introduction to Jupyter Notebooks, starting an Jupyter notebook server and opening and creating a notebook."
   ]
  },
  {
   "cell_type": "markdown",
   "metadata": {},
   "source": [
    "---\n",
    "## <span style=\"color:#0b486b\">1. What is it?</span>"
   ]
  },
  {
   "cell_type": "markdown",
   "metadata": {},
   "source": [
    "Jupyter Notebook is an interface to Python, surrounded by a rich environment for documenting, visualizing, and writing. It is based on the IPython shell, but provides a cell-based web page environment with great interactivity, where calculations can be organized and documented in a structured way. In this note we will demonstrate how to load (read) a notebook, execute, and create one. \n",
    "\n",
    "Since you have installed ``Anaconda Scientific Python Distribution`` in the [previous tutorial](1-instructions.pdf) you already have all the necessary packages and modules to start ``Jupyter Notebook Server`` and use Jupyter Notebooks."
   ]
  },
  {
   "cell_type": "markdown",
   "metadata": {},
   "source": [
    "###<span style=\"color:#0b486b\">1.1 Disambiguation </span>\n",
    "Jupyter Notebook is formerly known as IPython Notebook. Before ``IPython 3.0`` (released on 28 Feb 2015) ``IPython Notebook`` was a part of ``IPython`` project. Since many of its components are language-agnostic and can be used with other languages, after this release they have been moved to Jupyter Notebook for better development. Jupyter Notebooks can be used along with languages such as ``Julia``, `'Python'`, ``R``, ``Ruby``, `'Matlab'`, `'Octave'`, and many other. \n",
    "\n",
    "**Note:** From now on whenever we mention IPython notebook, in fact we mean a Jupyter notebook which runs a Python kernel. We may also use IPython notebooks and Jupyter notebooks, interchangeably."
   ]
  },
  {
   "cell_type": "markdown",
   "metadata": {},
   "source": [
    "---\n",
    "## <span style=\"color:#0b486b\">2. Starting Jupyter Notebook server</span>"
   ]
  },
  {
   "cell_type": "markdown",
   "metadata": {},
   "source": [
    "For using Jupyter Notebooks, first you need to start Jupyter Notebook server. Execute the following command in terminal to start the server:\n",
    "\n",
    "<kbd>> jupyter notebook</kbd>\n",
    "\n",
    "<!-- <img src=\"files/images/jupyter_screenshot.png\" width=\"600\"> -->\n",
    "<img src=\"images/jupyter_screenshot.png\" width=\"600\">\n",
    "<br>\n",
    "\n",
    "This will open a new browser window (or a new tab in an existing window) with an index page where existing files and folders are shown. The information printed on the terminal screen says that:\n",
    "\n",
    "    Jupyter Notebook is running at: http://localhost:8888/\n",
    "\n",
    "Therefore if a new tab or page was not opened automatically, or you have closed it, type this address into your browser and hit Enter to navigate to the index page. Please note the default port (8888) is occupied by another service, Jupyter Notebook will start to serve another port and the url you see on the terminal screen will have a different port.\n",
    "\n",
    "\n",
    "\n",
    "<!-- <img src=\"files/images/ipython_notebook_screenshot_1.png\" width=\"800\"> -->\n",
    "<img src=\"images/ipython_notebook_screenshot_1.png\" width=\"800\">"
   ]
  },
  {
   "cell_type": "markdown",
   "metadata": {},
   "source": [
    "### <span style=\"color:#0b486b\">2.1 Opening a notebook</span>"
   ]
  },
  {
   "cell_type": "markdown",
   "metadata": {},
   "source": [
    "To open a notebook you can either navigate to where your Jupyter notebooks are stored (with \\*.ipynb extension) and open an existing notebook by clicking on its name. Or while starting the server, pass the path to the folder where you have stored your notebooks:\n",
    "\n",
    "<kbd>> jupyter notebook C:\\Dropbox\\my_notebooks</kbd>\n",
    "\n",
    "So Jupyter starts from the specified directory and then click on the note book you want to open.\n",
    "\n",
    "<br />\n",
    "<!-- <img src=\"files/images/ipython_notebook_screenshot_2.png\"  width=\"800\"> -->\n",
    "<img src=\"images/ipython_notebook_screenshot_2.png\"  width=\"800\">\n",
    "<br />\n",
    "\n",
    " Each notebook consists of different cells which is explained more in [Notebook cells section](3-Jupyter-Notebook.ipynb#3.-Notebook-cells). But for now, remember **to execute a cell you have to select it and press `Ctrl + Enter` or `run cell` from the toolbar.**    "
   ]
  },
  {
   "cell_type": "markdown",
   "metadata": {},
   "source": [
    "### <span style=\"color:#0b486b\">2.2 Closing a notebook</span>"
   ]
  },
  {
   "cell_type": "markdown",
   "metadata": {},
   "source": [
    "Closing the tab or browser window **will not** close the notebook. If you check the index page after closing the tab, you will see that the page you have closed is still running. It means you can re-open the notebook and have access to the workspace (all variables and objects) as if you have not left the notebook at all. To close (shut down) a notebook, use `File -> Close and Halt`."
   ]
  },
  {
   "cell_type": "markdown",
   "metadata": {},
   "source": [
    "### <span style=\"color:#0b486b\">2.3 Notebook's Toolbar</span>"
   ]
  },
  {
   "cell_type": "markdown",
   "metadata": {},
   "source": [
    "Spend some time to make yourself familiar with the toolbar and menubar.\n",
    "\n",
    "<!-- <img src=\"files/images/ipython_notebook_screenshot_toolbar.png\"  width=\"700\"> -->\n",
    "<img src=\"images/ipython_notebook_screenshot_toolbar.png\"  width=\"700\">\n",
    "\n",
    "* Click on ``Help -> User Interface Tour`` to learn about the interface\n",
    "* Click on ``Help -> Keyboard Shortcuts``\n",
    "* Click on ``Help -> Notebook Help`` and look at the tutorials there. Make sure to read at least the first four notebooks\n",
    "* Click on ``Help -> Markdown`` to learn about how to use Markdown for text cells in notebooksM"
   ]
  },
  {
   "cell_type": "markdown",
   "metadata": {},
   "source": [
    "---\n",
    "##  <span style=\"color:#0b486b\">3. Notebook cells</span>\n",
    "There are essentially three kinds of cells in your Jupyter notebook: Code Cells, Markdown Cells and Raw Cells.\n",
    "\n",
    "#### Code cells\n",
    "By default, Notebooks' cells are code cells and will execute Python. Jupyter Notebooks generally also support JavaScript, Python, HTML, and Bash commands.\n",
    "\n",
    "#### Markdown cells\n",
    "In Jupyter Notebooks, Markdown Cells are the easiest way to write and format text.\n",
    "\n",
    "#### Raw cells\n",
    "Raw Cells, unlike all other Jupyter Notebook cells, have no input-output distinction. This means that Raw Cells cannot be rendered into anything other than what they already are. They are mainly used to create examples."
   ]
  },
  {
   "cell_type": "markdown",
   "metadata": {},
   "source": [
    "---\n",
    "## <span style=\"color:#0b486b\">4. Creating your first notebook</span>\n"
   ]
  },
  {
   "cell_type": "markdown",
   "metadata": {},
   "source": [
    "There are two ways to create a new notebook:\n",
    "\n",
    "1. Navigate to the index page (by clicking on the Jupyter logo on top left of the page or entering the URL). Then navigate to the folder you want to contain the notebook. Click on `New -> Python 3`\n",
    "<!-- <img src=\"files/images/ipython_notebook_screenshot_create_1.png\"  width=\"71\"> -->\n",
    "<img src=\"images/ipython_notebook_screenshot_create_1.png\"  width=\"771\">\n",
    "<br>\n",
    "2. From the menubar select `File -> New Notebook -> Python 3`\n",
    "<!-- <img src=\"files/images/ipython_notebook_screenshot_create_2.png\"  width=\"71\"> -->\n",
    "<img src=\"images/ipython_notebook_screenshot_create_2.png\"  width=\"771\">\n",
    "<br>"
   ]
  },
  {
   "cell_type": "markdown",
   "metadata": {},
   "source": [
    "Now you should have a notebook similar to the image below. Click on the notebook name and rename it. Copy the code in the cell below and paste it into the first cell of Hello_World notebook."
   ]
  },
  {
   "cell_type": "code",
   "execution_count": 11,
   "metadata": {},
   "outputs": [
    {
     "name": "stdout",
     "output_type": "stream",
     "text": [
      "qwe =  Hello World\n"
     ]
    },
    {
     "ename": "AttributeError",
     "evalue": "'list' object has no attribute 'join'",
     "output_type": "error",
     "traceback": [
      "\u001b[0;31m---------------------------------------------------------------------------\u001b[0m",
      "\u001b[0;31mAttributeError\u001b[0m                            Traceback (most recent call last)",
      "\u001b[0;32m<ipython-input-11-850c6b4542b4>\u001b[0m in \u001b[0;36m<module>\u001b[0;34m\u001b[0m\n\u001b[1;32m      3\u001b[0m \u001b[0mtype\u001b[0m\u001b[0;34m(\u001b[0m\u001b[0mmsg\u001b[0m\u001b[0;34m)\u001b[0m\u001b[0;34m\u001b[0m\u001b[0;34m\u001b[0m\u001b[0m\n\u001b[1;32m      4\u001b[0m \u001b[0mb\u001b[0m \u001b[0;34m=\u001b[0m \u001b[0msorted\u001b[0m\u001b[0;34m(\u001b[0m\u001b[0mmsg\u001b[0m\u001b[0;34m)\u001b[0m\u001b[0;34m\u001b[0m\u001b[0;34m\u001b[0m\u001b[0m\n\u001b[0;32m----> 5\u001b[0;31m \u001b[0mb\u001b[0m\u001b[0;34m.\u001b[0m\u001b[0mjoin\u001b[0m\u001b[0;34m(\u001b[0m\u001b[0;34m)\u001b[0m\u001b[0;34m\u001b[0m\u001b[0;34m\u001b[0m\u001b[0m\n\u001b[0m\u001b[1;32m      6\u001b[0m \u001b[0mmsg\u001b[0m\u001b[0;34m.\u001b[0m\u001b[0misspace\u001b[0m\u001b[0;34m(\u001b[0m\u001b[0;34m)\u001b[0m\u001b[0;34m\u001b[0m\u001b[0;34m\u001b[0m\u001b[0m\n",
      "\u001b[0;31mAttributeError\u001b[0m: 'list' object has no attribute 'join'"
     ]
    }
   ],
   "source": [
    "msg = \"Hello World\"\n",
    "print (\"qwe = \",msg)\n",
    "type(msg)\n",
    "b = sorted(msg)\n",
    "b.join()\n",
    "msg.isspace()"
   ]
  },
  {
   "cell_type": "markdown",
   "metadata": {},
   "source": [
    "Now press <kbd>Ctrl + Enter</kbd> to execute the cell. The result will be shown under the input cell.\n",
    "\n",
    "<!-- <img src=\"files/images/ipython_notebook_screenshot_create_3.png\"  width=\"800\"> -->\n",
    "<img src=\"images/ipython_notebook_screenshot_create_3.png\"  width=\"800\">\n",
    "<br>"
   ]
  },
  {
   "cell_type": "markdown",
   "metadata": {},
   "source": [
    "## <span style=\"color:#0b486b\">5. Further reading</span>\n",
    "\n",
    "* [Jupyter Notebook Tutorial: The Definitive Guide](https://www.datacamp.com/community/tutorials/tutorial-jupyter-notebook)\n",
    "* [IPython](http://ipython.readthedocs.io/en/stable/)\n",
    "* [Jupyter project](https://jupyter.org/)\n",
    "* [Jupyter Notebook Documentation](http://jupyter-notebook.readthedocs.io/en/latest/)"
   ]
  }
 ],
 "metadata": {
  "anaconda-cloud": {},
  "kernelspec": {
   "display_name": "Python 3",
   "language": "python",
   "name": "python3"
  },
  "language_info": {
   "codemirror_mode": {
    "name": "ipython",
    "version": 3
   },
   "file_extension": ".py",
   "mimetype": "text/x-python",
   "name": "python",
   "nbconvert_exporter": "python",
   "pygments_lexer": "ipython3",
   "version": "3.7.1"
  }
 },
 "nbformat": 4,
 "nbformat_minor": 1
}
