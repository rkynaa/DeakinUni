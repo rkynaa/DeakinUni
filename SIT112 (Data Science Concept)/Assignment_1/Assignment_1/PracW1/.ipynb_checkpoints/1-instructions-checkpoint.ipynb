{
 "cells": [
  {
   "cell_type": "markdown",
   "metadata": {},
   "source": [
    "# <span style=\"color:#0b486b\">SIT 112 - Data Science Concepts</span>\n",
    "\n",
    "---\n",
    "Lecturer: Sergiy Shelyag | sergiy.shelyag@deakin.edu.au<br />\n",
    "Assistant: \n",
    "\n",
    "School of Information Technology, <br />\n",
    "Deakin University, VIC 3216, Australia.\n",
    "\n",
    "---\n",
    "\n",
    "## <span style=\"color:#0b486b\">Practical Session 1.1: Python Primer and Installation Instructions</span>\n",
    "\n",
    "**The purpose of this session is:**\n",
    "\n",
    "1. giving you a very short introduction to Python and different ways you can use it\n",
    "2. guiding you step by step to install Python"
   ]
  },
  {
   "cell_type": "markdown",
   "metadata": {},
   "source": [
    "---\n",
    "# <span style=\"color:#0b486b\">1. What is Python?</span>"
   ]
  },
  {
   "cell_type": "markdown",
   "metadata": {},
   "source": [
    "[Python](http://www.python.org/) is a modern, general-purpose, object-oriented, high-level programming language.\n",
    "\n",
    "**General characteristics of Python**:\n",
    "\n",
    "* **clean and simple language:** Easy-to-read and intuitive code, easy-to-learn minimalistic syntax, maintainability scales well with size of projects.\n",
    "* **expressive language:** Fewer lines of code, fewer bugs, easier to maintain.\n",
    "\n",
    "**Technical details**:\n",
    "\n",
    "* **dynamically typed:** No need to define the type of variables, function arguments or return types.\n",
    "* **automatic memory management:** No need to explicitly allocate and deallocate memory for variables and data arrays. No memory leak bugs. \n",
    "* **interpreted:** No need to compile the code. The Python interpreter reads and executes the python code directly.\n",
    "\n",
    "**Advantages**:\n",
    "\n",
    "* The main advantage is ease of programming, minimizing the time required to develop, debug and maintain the code.\n",
    "* Well designed language that encourage many good programming practices:\n",
    " * Modular and object-oriented programming, good system for packaging and re-use of code. This often results in more transparent, maintainable and bug-free code.\n",
    " * Documentation tightly integrated with the code.\n",
    "* A large standard library, and a large collection of add-on packages.\n",
    "\n",
    "**Disadvantages**:\n",
    "\n",
    "* Since Python is an interpreted and dynamically typed programming language, the execution of python code can be slow compared to compiled statically typed programming languages, such as C and Fortran. \n",
    "* Somewhat decentralized, with different environment, packages and documentation spread out at different places. Can make it harder to get started."
   ]
  },
  {
   "cell_type": "markdown",
   "metadata": {},
   "source": [
    "---\n",
    "# <span style=\"color:#0b486b\">2. Versions of Python</span>\n",
    "\n",
    "There are two versions of Python that are being used by the community: Python 2 and Python 3. Python 3 will eventually supercede Python 2, and it is not backward-compatible with Python 2.\n",
    "\n",
    "**We will be using Python 3 (3.7 to be more specific) in this course.**"
   ]
  },
  {
   "cell_type": "markdown",
   "metadata": {},
   "source": [
    "---\n",
    "# <span style=\"color:#0b486b\">3. Installing Python</span>\n"
   ]
  },
  {
   "cell_type": "markdown",
   "metadata": {},
   "source": [
    "<span style=\"color:#0b486b\">**Note:** If you use a PC here, you can skip this section as Anaconda with Python 3.6 are already installed.</span>\n",
    "\n",
    "There are many ways to install Python and necessary modules for this course but the most straightforward way is using a scientific distribution such as [Anaconda Scientific Distribution](https://www.anaconda.com/distribution/#download-section). We highly recommend you to use **anaconda** because it comes with most of the modules you need for the course, e.g IPython, Jupyter, numpy, matplotlib, and Spyder and you don't need to install them individually..  Follow these steps to install anaconda and **please pay attention to step 7 as you will encounter some problems if you miss it**:\n",
    "\n",
    "1. Download Anaconda with Python 3.6 compatible with your OS from https://www.anaconda.com/distribution/#download-section.\n",
    "2. Double click on the downloaded file.\n",
    "3. Click on Next\n",
    "<br />\n",
    "<!-- <img src=\"files/images/anaconda_installation_1.png\" width=\"400\"> -->\n",
    "<img src=\"images/anaconda_installation_1.png\" width=\"400\">\n",
    "<br />\n",
    "4. Click on I Agree\n",
    "<!-- <img src=\"files/images/anaconda_installation_2.png\" width=\"400\"> -->\n",
    "<img src=\"images/anaconda_installation_2.png\" width=\"400\">\n",
    "<br />\n",
    "5. Click on Next\n",
    "<!-- <img src=\"files/images/anaconda_installation_3.png\" width=\"400\"> -->\n",
    "<img src=\"images/anaconda_installation_3.png\" width=\"400\">\n",
    "<br />\n",
    "5. Click on Next\n",
    "<!-- <img src=\"files/images/anaconda_installation_4.png\" width=\"400\"> -->\n",
    "<img src=\"images/anaconda_installation_4.png\" width=\"400\">\n",
    "<br />\n",
    "6. Check both boxes and Click on Install\n",
    "<!-- <img src=\"files/images/anaconda_installation_5.png\" width=\"400\"> -->\n",
    "<img src=\"images/anaconda_installation_5.png\" width=\"400\">\n",
    "<br />\n",
    "7. Click on Next and complete the installation.\n",
    "<br />\n",
    "<!-- <img src=\"files/images/anaconda_installation_6.png\" width=\"400\"> -->\n",
    "<img src=\"images/anaconda_installation_6.png\" width=\"400\">\n",
    "<br />\n",
    "8. Check out the [Anaconda documentation](https://docs.anaconda.com/anaconda/) if there is a problem with installation. "
   ]
  },
  {
   "cell_type": "markdown",
   "metadata": {},
   "source": [
    "---\n",
    "# <span style=\"color:#0b486b\">4. Windows command prompts/Mac OS terminals</span>"
   ]
  },
  {
   "cell_type": "markdown",
   "metadata": {},
   "source": [
    "We can start using python from command prompts (on Windows) or terminals (on Mac OS). A command prompt (Windows) or terminal (Mac) can be launched in different ways. This section introduces how to start a terminal from a specific folder. We suggest that for each practical, you should save all materials to a folder (e.g., Week1) and start a terminal from this folder.\n",
    "\n",
    "* Windows:\n",
    "    - Go to your folder (e.g., Week1)\n",
    "    - Click on the address bar, type cmd and Enter.\n",
    "\n",
    "\n",
    "* Mac OS:\n",
    "    - Head into System Preferences and select Keyboard > Shortcuts > Services.\n",
    "    - Find “New Terminal at Folder” in the settings and click the box.\n",
    "    - Go to the directory of your folder in Finder, right-click on the folder and select “open Terminal”."
   ]
  },
  {
   "cell_type": "markdown",
   "metadata": {},
   "source": [
    "---\n",
    "# <span style=\"color:#0b486b\">5. Python interpreter</span>"
   ]
  },
  {
   "cell_type": "markdown",
   "metadata": {},
   "source": [
    "The standard way to use the Python programming language is to use the Python interpreter to run python code. It reads and executes the file that is passed to it. Use the command <kbd>python</kbd> in a terminal to invoke the Python interpreter.\n",
    "\n",
    "For example, suppose the file `'my-program.py'` contains some Python code:\n",
    "\n",
    "<!-- <img src=\"files/images/my-program-script.png\" width=\"604\"> -->\n",
    "<img src=\"images/my-program-script.png\" width=\"604\">\n",
    "\n",
    "To run it, execute the following command in a terminal window: \n",
    "\n",
    "<kbd>> python my-program.py</kbd>\n",
    "\n",
    "<!-- <img src=\"files/images/run-my-program.png\" width=\"604\"> -->\n",
    "<img src=\"images/run-my-program.png\" width=\"604\">\n",
    "\n",
    "\n",
    "We can also start the interpreter by simply typing ``python`` at the command line, and interactively type python code into the interpreter:\n",
    "\n",
    "<!-- <img src=\"files/images/python_screenshot.png\" width=\"604\"> -->\n",
    "<img src=\"images/python_screenshot.png\" width=\"604\">\n",
    "\n",
    "\n",
    "This is often how we want to work when developing scientific applications, or when doing small calculations. But the standard python interpreter is not very convenient for this kind of work, due to a number of limitations."
   ]
  },
  {
   "cell_type": "markdown",
   "metadata": {},
   "source": [
    "---\n",
    "# <span style=\"color:#0b486b\">6. IPython: Interactive Python</span>"
   ]
  },
  {
   "cell_type": "markdown",
   "metadata": {},
   "source": [
    "IPython is an interactive shell that addresses the limitation of the standard python interpreter, and it is a work-horse for scientific use of python. It provides an interactive prompt to the python interpreter with a greatly improved user-friendliness. You can start IPython by running the command <kbd>ipython</kbd> in your terminal.\n",
    "\n",
    "<!-- <img src=\"files/images/ipython_screenshot.png\" width=\"600\"> -->\n",
    "<img src=\"images/ipython_screenshot.png\" width=\"600\">\n",
    "\n",
    "Some of the many useful features of IPython includes:\n",
    "\n",
    "* Command history, which can be browsed with the up and down arrows on the keyboard.\n",
    "* Tab auto-completion.\n",
    "* In-line editing of code.\n",
    "* Object introspection, and automatic extract of documentation strings from python objects like classes and functions.\n",
    "* Good interaction with operating system shell.\n",
    "* Support for multiple parallel back-end processes, that can run on computing clusters or cloud services like Amazon EE2.\n",
    "\n"
   ]
  },
  {
   "cell_type": "markdown",
   "metadata": {},
   "source": [
    " ---\n",
    "# <span style=\"color:#0b486b\">7. Read further</span>"
   ]
  },
  {
   "cell_type": "markdown",
   "metadata": {},
   "source": [
    " * [Python](http://www.python.org) The official Python web site\n",
    " * [Python tutorials](http://docs.python.org/2/tutorial) The official Python tutorials\n",
    " * [Introduction to Python Programming](https://classroom.udacity.com/courses/ud1110) A Udacity course\n",
    " * [Think Python](http://www.greenteapress.com/thinkpython) A free book on Python\n",
    " * [Google's Python Class](https://developers.google.com/edu/python/) Google's Python class\n",
    " * [Code Academy Python](http://www.codecademy.com/tracks/python). Learn Python on Code Academy \n",
    " * [Spyder](http://code.google.com/p/spyderlib/). A MATLAB-like IDE for scientific computing with python."
   ]
  }
 ],
 "metadata": {
  "kernelspec": {
   "display_name": "Python 3",
   "language": "python",
   "name": "python3"
  },
  "language_info": {
   "codemirror_mode": {
    "name": "ipython",
    "version": 3
   },
   "file_extension": ".py",
   "mimetype": "text/x-python",
   "name": "python",
   "nbconvert_exporter": "python",
   "pygments_lexer": "ipython3",
   "version": "3.7.1"
  }
 },
 "nbformat": 4,
 "nbformat_minor": 1
}
