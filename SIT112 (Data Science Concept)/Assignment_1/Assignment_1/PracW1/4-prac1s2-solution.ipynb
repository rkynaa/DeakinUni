{
 "cells": [
  {
   "cell_type": "markdown",
   "metadata": {},
   "source": [
    "**Exercise:** define a list with multiple items of different types. Let the last item be another list equal to `['apple', 'orange', 'banana', 'pear']`. How can you index `'banana'`? Use list indexing and print it."
   ]
  },
  {
   "cell_type": "code",
   "execution_count": 8,
   "metadata": {},
   "outputs": [
    {
     "name": "stdout",
     "output_type": "stream",
     "text": [
      "['apple', 'orange', 'banana', 'pear']\n",
      "banana\n"
     ]
    }
   ],
   "source": [
    "my_list = [1, 2.5, \"a string here\", [\"apple\", \"orange\", \"banana\", \"pear\"]]\n",
    "\n",
    "# we can index the last item with [-1]\n",
    "print(my_list[-1])\n",
    "\n",
    "# banana is the third item\n",
    "print(my_list[-1][2])"
   ]
  },
  {
   "cell_type": "markdown",
   "metadata": {},
   "source": [
    "**Exercise:** define a string with value equal to `\"Python is fun!\"`. How can you index the character `'s'`?"
   ]
  },
  {
   "cell_type": "code",
   "execution_count": 9,
   "metadata": {},
   "outputs": [
    {
     "name": "stdout",
     "output_type": "stream",
     "text": [
      "s\n"
     ]
    }
   ],
   "source": [
    "my_str = \"Python is fun!\"\n",
    "print(my_str[8])"
   ]
  },
  {
   "cell_type": "markdown",
   "metadata": {},
   "source": [
    "**Exercise:** define a string with value equal to `\"Python is fun!\"`. How can you print every third character of it?"
   ]
  },
  {
   "cell_type": "code",
   "execution_count": 1,
   "metadata": {},
   "outputs": [
    {
     "name": "stdout",
     "output_type": "stream",
     "text": [
      "ph  n\n"
     ]
    }
   ],
   "source": [
    "my_str = \"python is fun!\"\n",
    "print(my_str[::3])"
   ]
  },
  {
   "cell_type": "markdown",
   "metadata": {},
   "source": [
    "**Exercise:** create a list with items as days of the week and call it `'my_list'`. Now create a tuple with items as days of the week and call it `'my_tuple'`. Alter values of `'my_list'` such that instead of Monday, you have 1. Can you do the same thing with `'my_tuple'`?"
   ]
  },
  {
   "cell_type": "code",
   "execution_count": 2,
   "metadata": {},
   "outputs": [
    {
     "name": "stdout",
     "output_type": "stream",
     "text": [
      "['Mon', 'Tue', 'Wed', 'Thu', 'Fri', 'Sat', 'Sun']\n",
      "('Mon', 'Tue', 'Wed', 'Thu', 'Fri', 'Sat', 'Sun')\n",
      "\n",
      "[1, 'Tue', 'Wed', 'Thu', 'Fri', 'Sat', 'Sun']\n"
     ]
    },
    {
     "ename": "TypeError",
     "evalue": "'tuple' object does not support item assignment",
     "output_type": "error",
     "traceback": [
      "\u001b[1;31m---------------------------------------------------------------------------\u001b[0m",
      "\u001b[1;31mTypeError\u001b[0m                                 Traceback (most recent call last)",
      "\u001b[1;32m<ipython-input-2-14adf6f1cf0a>\u001b[0m in \u001b[0;36m<module>\u001b[1;34m()\u001b[0m\n\u001b[0;32m     14\u001b[0m \u001b[1;31m# its values after they are set\u001b[0m\u001b[1;33m\u001b[0m\u001b[1;33m\u001b[0m\u001b[0m\n\u001b[0;32m     15\u001b[0m \u001b[1;31m# the following line of code will raise a TypeError\u001b[0m\u001b[1;33m\u001b[0m\u001b[1;33m\u001b[0m\u001b[0m\n\u001b[1;32m---> 16\u001b[1;33m \u001b[0mmy_tuple\u001b[0m\u001b[1;33m[\u001b[0m\u001b[1;36m0\u001b[0m\u001b[1;33m]\u001b[0m \u001b[1;33m=\u001b[0m \u001b[1;36m1\u001b[0m\u001b[1;33m\u001b[0m\u001b[0m\n\u001b[0m",
      "\u001b[1;31mTypeError\u001b[0m: 'tuple' object does not support item assignment"
     ]
    }
   ],
   "source": [
    "my_list = ['Mon', 'Tue', 'Wed', 'Thu', 'Fri', 'Sat', 'Sun']\n",
    "my_tuple = ('Mon', 'Tue', 'Wed', 'Thu', 'Fri', 'Sat', 'Sun')\n",
    "\n",
    "print(my_list)\n",
    "print(my_tuple)\n",
    "\n",
    "# now we alter my_list\n",
    "my_list[0] = 1\n",
    "print()\n",
    "print(my_list)\n",
    "\n",
    "# but we can not do the same thing with my_tuple\n",
    "# because tuple is immutable, and we are not allowed to change\n",
    "# its values after they are set\n",
    "# the following line of code will raise a TypeError\n",
    "my_tuple[0] = 1"
   ]
  },
  {
   "cell_type": "markdown",
   "metadata": {},
   "source": [
    "**Exercise:** create a dictionary called `'my_dict'` with keys `'first_name, last_name, age, favorite_singer'` and fill the values. Now alter the value of `'favorite_singer'` and change it to `'Justin Bieber'`! \n",
    "\n",
    "Can you add a key `'seriously'` and fill the value with a boolean?"
   ]
  },
  {
   "cell_type": "code",
   "execution_count": 3,
   "metadata": {},
   "outputs": [
    {
     "name": "stdout",
     "output_type": "stream",
     "text": [
      "{'first_name': 'Adham', 'last_name': 'Beyki', 'age': 29, 'favorite_singer': 'Beth Hart'}\n",
      "{'first_name': 'Adham', 'last_name': 'Beyki', 'age': 29, 'favorite_singer': 'Justin Bieber'}\n",
      "{'first_name': 'Adham', 'last_name': 'Beyki', 'age': 29, 'favorite_singer': 'Justin Bieber', 'seriously': False}\n"
     ]
    }
   ],
   "source": [
    "my_dict = {\"first_name\": \"Adham\",\n",
    "           \"last_name\": \"Beyki\",\n",
    "           \"age\": 29,\n",
    "           \"favorite_singer\": \"Beth Hart\"\n",
    "          }\n",
    "\n",
    "print(my_dict)\n",
    "\n",
    "# This is how you alter the value of a key in a dictioinary\n",
    "my_dict[\"favorite_singer\"] = \"Justin Bieber\"\n",
    "\n",
    "print(my_dict)\n",
    "\n",
    "# This is how you add a key to the dictionary\n",
    "my_dict[\"seriously\"] = False\n",
    "\n",
    "print(my_dict)"
   ]
  },
  {
   "cell_type": "markdown",
   "metadata": {},
   "source": [
    "**Exercise:** Write a piece of code that declares two variables called `'is_raining'` and `'is_sunny'`, and assign a Boolean value to each of them. If both variables are True then print `'Is there a rainbow?'`."
   ]
  },
  {
   "cell_type": "code",
   "execution_count": 14,
   "metadata": {
    "collapsed": true
   },
   "outputs": [],
   "source": [
    "# There's no output for this example\n",
    "is_raining = True\n",
    "is_sunny = False\n",
    "\n",
    "if is_raining and is_sunny:\n",
    "    print('Is there a rainbow?')"
   ]
  },
  {
   "cell_type": "code",
   "execution_count": 13,
   "metadata": {},
   "outputs": [
    {
     "name": "stdout",
     "output_type": "stream",
     "text": [
      "Is there a rainbow?\n"
     ]
    }
   ],
   "source": [
    "# another example:\n",
    "is_raining = True\n",
    "is_sunny = True\n",
    "\n",
    "if is_raining and is_sunny:\n",
    "    print('Is there a rainbow?')"
   ]
  }
 ],
 "metadata": {
  "kernelspec": {
   "display_name": "Python 3",
   "language": "python",
   "name": "python3"
  },
  "language_info": {
   "codemirror_mode": {
    "name": "ipython",
    "version": 3
   },
   "file_extension": ".py",
   "mimetype": "text/x-python",
   "name": "python",
   "nbconvert_exporter": "python",
   "pygments_lexer": "ipython3",
   "version": "3.7.1"
  }
 },
 "nbformat": 4,
 "nbformat_minor": 1
}
