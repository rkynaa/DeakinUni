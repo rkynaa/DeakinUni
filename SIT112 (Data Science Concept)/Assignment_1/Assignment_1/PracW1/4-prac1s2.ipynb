{
 "cells": [
  {
   "cell_type": "markdown",
   "metadata": {},
   "source": [
    "# <span style=\"color:#0b486b\">SIT 112 - Data Science Concepts</span>\n",
    "\n",
    "---\n",
    "Lecturer: Sergiy Shelyag | sergiy.shelyag@deakin.edu.au<br />\n",
    "Assistant: \n",
    "\n",
    "School of Information Technology, <br />\n",
    "Deakin University, VIC 3216, Australia.\n",
    "\n",
    "---\n",
    "\n",
    "## <span style=\"color:#0b486b\">Practical Session 1.4</span>\n",
    "\n",
    "**The purpose of this session is twofold:**\n",
    "\n",
    "1. to give you the instruction to run Jupyter Notebooks\n",
    "2. to revise key features of Python language and allow you the time to practice basic coding in python with Jupyter Notebooks\n",
    "\n",
    "**At the end of this practical session, you should be able to:**\n",
    "\n",
    "* know how to start an Jupyter Notebook server \n",
    "* know how to create a Jupyter notebook in a web browser and execute the commands in the notebook\n",
    "* know the basic features of python, including comparison and control structure\n",
    "\n",
    "**Instructions** \n",
    "\n",
    "1. Create a new notebook, name it as `\"[yourstudentID]_prac1_sol.ipynb\"`\n",
    "2. As we walk through this practical session, you will be required to write your own code in the cells in your notebook. For each exercise, insert a new cell and enter your own code.\n",
    "3. Although it is NOT marked, you are strongly recommended to keep these saved notebooks for your future reference.\n",
    "4. The solution notebook will be available for download within 4 days after the practical session ends.\n",
    "\n",
    "**Please note that**:\n",
    "* This unit is *not* about teaching you how to program in Python. You are responsible for developing your own programming skills. There are many excellent resources to learn python online as well as the recommended textbooks presented in the lecture. Developing skills in programming can take time, and let us remind ourselves:\n",
    "\n",
    ">\"... even though we can speak and write English, it does not necessarily mean we can write a best-selling novel\" -- Unknown.   \n",
    "    \n",
    "* You are assumed to have a basic knowledge of programming. \n",
    "* This session only recaps main features of python.\n",
    "\n",
    "---\n"
   ]
  },
  {
   "cell_type": "markdown",
   "metadata": {},
   "source": [
    "# <span style=\"color:#0b486b\">Part I: Jupyter Notebook</span>"
   ]
  },
  {
   "cell_type": "markdown",
   "metadata": {},
   "source": [
    "* [3-Jupyter-Notebook](3-Jupyter-Notebook.ipynb) gives you the step by step instructions on how to start Jupyter Notebook server and how use notebooks."
   ]
  },
  {
   "cell_type": "markdown",
   "metadata": {},
   "source": [
    "# <span style=\"color:#0b486b\">Part II: Review of Python Language (continue)</span>"
   ]
  },
  {
   "cell_type": "markdown",
   "metadata": {},
   "source": [
    "---\n",
    "### <span style=\"color:#0b486b\">1. Compound Types</span>"
   ]
  },
  {
   "cell_type": "markdown",
   "metadata": {},
   "source": [
    "#### 1.1 List"
   ]
  },
  {
   "cell_type": "markdown",
   "metadata": {},
   "source": [
    "List is the most versatile datatype available in Python which can be written as a sequence of comma-separated values (items) between square brackets. Important thing about a list is that items in a list need not be of the same type.\n",
    "\n",
    "The syntax for creating lists in Python is `my_list = [item_0, item_1, ..., item_n]`:"
   ]
  },
  {
   "cell_type": "code",
   "execution_count": 14,
   "metadata": {},
   "outputs": [
    {
     "name": "stdout",
     "output_type": "stream",
     "text": [
      "<class 'list'>\n",
      "[10, 2, 30, 4, 50, 6, 70, 8, 9, 1052, 675, 2, 12]\n",
      "13\n",
      "[10, 2, 5, 4, 50, 6, 70, 8, 9, 1052, 675, 2, 12]\n",
      "[5, 4, 50, 6]\n",
      "[10, 2, 5, 4, 50]\n",
      "[5, 4, 50, 6]\n",
      "\n",
      "[10, 2, 5, 4, 50, 6, 70, 8, 9, 1052, 675, 2, 12]\n",
      "[5, 6, 9, 2]\n"
     ]
    }
   ],
   "source": [
    "l = [10, 2, 30, 4, 50, 6, 70, 8, 9, 1052, 675, 2, 12]\n",
    "print(type(l))\n",
    "print(l)\n",
    "print(len(l))\n",
    "l[2]=5\n",
    "print(l)\n",
    "\n",
    "#l[beginning:end:stride]\n",
    "\n",
    "print(l[2:6:1])\n",
    "\n",
    "print(l[:5])\n",
    "\n",
    "print(l[2:6:1])\n",
    "print()\n",
    "print(l)\n",
    "print(l[2:12:3])\n",
    "\n",
    "\n",
    "\n",
    "\n",
    "\n",
    "\n",
    "\n"
   ]
  },
  {
   "cell_type": "markdown",
   "metadata": {},
   "source": [
    "Elements of a list do not have to be the same type."
   ]
  },
  {
   "cell_type": "code",
   "execution_count": 15,
   "metadata": {},
   "outputs": [
    {
     "name": "stdout",
     "output_type": "stream",
     "text": [
      "[1, 'a', 1.0, (1-1j)]\n",
      "[1, 2, [3, 4], 5]\n"
     ]
    }
   ],
   "source": [
    "l1 = [1, 'a', 1.0, 1-1j]\n",
    "l2 = [1, 2, [3, 4], 5]\n",
    "\n",
    "print(l1)\n",
    "print(l2)"
   ]
  },
  {
   "cell_type": "markdown",
   "metadata": {},
   "source": [
    "##### 1.1.1 List indexing \n",
    "\n",
    "You can index an item from a list using `[]` operator. `my_list[i]` returns the ith item of `my_list`:"
   ]
  },
  {
   "cell_type": "code",
   "execution_count": 16,
   "metadata": {},
   "outputs": [
    {
     "name": "stdout",
     "output_type": "stream",
     "text": [
      "1\n",
      "4\n",
      "8\n",
      "7\n"
     ]
    }
   ],
   "source": [
    "# indexing\n",
    "l = [1, 2, 3, 4, 5, 6, 7, 8]\n",
    "\n",
    "print(l[0])\n",
    "print(l[3])\n",
    "print(l[-1])    # last element\n",
    "print(l[-2])    # can you guess the result?"
   ]
  },
  {
   "cell_type": "markdown",
   "metadata": {},
   "source": [
    "**Heads up MATLAB users:** Indexing start at 0!\n",
    "\n",
    "**Exercise:** define a list with multiple items of different types. Let the last item be another list equal to `['apple', 'orange', 'banana', 'pear']`. How can you index `'banana'`? Use list indexing and print it."
   ]
  },
  {
   "cell_type": "markdown",
   "metadata": {},
   "source": [
    "---\n",
    "#### 1.2 String"
   ]
  },
  {
   "cell_type": "markdown",
   "metadata": {},
   "source": [
    "Strings are used for storing text messages. They are very similar to lists, lists of characters."
   ]
  },
  {
   "cell_type": "code",
   "execution_count": 4,
   "metadata": {},
   "outputs": [
    {
     "name": "stdout",
     "output_type": "stream",
     "text": [
      "<class 'str'>\n",
      "12\n"
     ]
    }
   ],
   "source": [
    "s = \"Hello world!\"\n",
    "print(type(s))\n",
    "\n",
    "# length of the string: the number of characters\n",
    "print(len(s))"
   ]
  },
  {
   "cell_type": "markdown",
   "metadata": {},
   "source": [
    "You can index a character in a string using `[]` similar to lists."
   ]
  },
  {
   "cell_type": "code",
   "execution_count": 5,
   "metadata": {},
   "outputs": [
    {
     "name": "stdout",
     "output_type": "stream",
     "text": [
      "l\n",
      "H\n"
     ]
    }
   ],
   "source": [
    "# indexing\n",
    "s = \"Hello world!\"\n",
    "\n",
    "print(s[3])\n",
    "print(s[0])"
   ]
  },
  {
   "cell_type": "markdown",
   "metadata": {},
   "source": [
    "**Exercise:** define a string with value equal to `\"Python is fun!\"`. How can you index the character `'s'`?"
   ]
  },
  {
   "cell_type": "markdown",
   "metadata": {},
   "source": [
    "##### 1.2.1 List/string slicing\n",
    "\n",
    "You can extract a part of a list/string using the syntax `[start:stop]`, which extracts characters between index `start` and `stop`."
   ]
  },
  {
   "cell_type": "code",
   "execution_count": 6,
   "metadata": {},
   "outputs": [
    {
     "name": "stdout",
     "output_type": "stream",
     "text": [
      "[3, 4, 5]\n",
      "This i\n"
     ]
    }
   ],
   "source": [
    "# slicing\n",
    "l = [1, 2, 3, 4, 5, 6, 7, 8]\n",
    "s = \"This is a string.\"\n",
    "\n",
    "print(l[2:5])\n",
    "print(s[0:6])"
   ]
  },
  {
   "cell_type": "markdown",
   "metadata": {},
   "source": [
    "You can also define a step for slicing as in `[start:stop:step]`:"
   ]
  },
  {
   "cell_type": "code",
   "execution_count": 7,
   "metadata": {},
   "outputs": [
    {
     "name": "stdout",
     "output_type": "stream",
     "text": [
      "is is a \n",
      "\n",
      "Ti sa\n",
      "Ti sa\n"
     ]
    }
   ],
   "source": [
    "# [start:stop:step]\n",
    "print(s[2:10:1])\n",
    "print()\n",
    "\n",
    "# These two are equal\n",
    "print(s[0:10:2])\n",
    "print(s[:10:2])"
   ]
  },
  {
   "cell_type": "markdown",
   "metadata": {},
   "source": [
    "`Slicing Step` can be a negative value as well:"
   ]
  },
  {
   "cell_type": "code",
   "execution_count": 26,
   "metadata": {},
   "outputs": [
    {
     "name": "stdout",
     "output_type": "stream",
     "text": [
      "[8, 7, 6, 5, 4]\n",
      "halb-halb god yzaL\n",
      "['Lazy dog', 'Lazy cat']\n",
      "['Lazy cat', 'Lazy dog']\n"
     ]
    }
   ],
   "source": [
    "l = [1, 2, 3, 4, 5, 6, 7, 8]\n",
    "str1 = \"Lazy dog blah-blah\"\n",
    "\n",
    "print(l[7:2:-1])\n",
    "print(str1[::-1])\n",
    "\n",
    "list_of_strings = [\"Lazy dog\", \"Lazy cat\"]\n",
    "print(list_of_strings)\n",
    "print(list_of_strings[::-1])\n",
    "\n"
   ]
  },
  {
   "cell_type": "markdown",
   "metadata": {},
   "source": [
    "**Exercise:** define a string with value equal to `\"Python is fun!\"`. How can you print every third character of it?"
   ]
  },
  {
   "cell_type": "markdown",
   "metadata": {},
   "source": [
    "---\n",
    "#### 1.3 Tuples"
   ]
  },
  {
   "cell_type": "markdown",
   "metadata": {},
   "source": [
    "Tuples are like lists, except that they cannot be modified once created, that is they are *immutable*. \n",
    "\n",
    "In Python, tuples are created using the syntax `(..., ..., ...)`, or even `..., ...`:"
   ]
  },
  {
   "cell_type": "code",
   "execution_count": 28,
   "metadata": {},
   "outputs": [
    {
     "ename": "SyntaxError",
     "evalue": "can't assign to function call (<ipython-input-28-ced987caf4cf>, line 11)",
     "output_type": "error",
     "traceback": [
      "\u001b[0;36m  File \u001b[0;32m\"<ipython-input-28-ced987caf4cf>\"\u001b[0;36m, line \u001b[0;32m11\u001b[0m\n\u001b[0;31m    states(1)=\"Italy\"\u001b[0m\n\u001b[0m                     ^\u001b[0m\n\u001b[0;31mSyntaxError\u001b[0m\u001b[0;31m:\u001b[0m can't assign to function call\n"
     ]
    }
   ],
   "source": [
    "# TUPLE\n",
    "# A tuple is a *fixed* list. We can't change its values\n",
    "\n",
    "states = ('VIC', 'NSW', 'QLD', 'WA', 'ACT', 'NT', 'TAS', 'SA')\n",
    "states_list = ['VIC', 'NSW', 'QLD', 'WA', 'ACT', 'NT', 'TAS', 'SA']\n",
    "\n",
    "states_list[1]=\"Italy\"\n",
    "\n",
    "print(states_list)\n",
    "\n",
    "states(1)=\"Italy\"\n",
    "\n",
    "print(states)\n",
    "\n",
    "print()\n",
    "\n",
    "\n",
    "\n",
    "\n",
    "print(\"type of states: {}\".format(type(states)))\n",
    "\n",
    "print(\"Australian states\")\n",
    "for i in range(0,7):\n",
    "    print(states[i])"
   ]
  },
  {
   "cell_type": "markdown",
   "metadata": {},
   "source": [
    "**Exercise:** create a list with items as days of the week and call it `'my_list'`. Now create a tuple with items as days of the week and call it `'my_tuple'`. Alter values of `'my_list'` such that instead of Monday, you have 1. Can you do the same thing with `'my_tuple'`?"
   ]
  },
  {
   "cell_type": "markdown",
   "metadata": {},
   "source": [
    "---\n",
    "#### 1.4 Dictionaries"
   ]
  },
  {
   "cell_type": "markdown",
   "metadata": {},
   "source": [
    "Dictionaries are similar to lists, except that each element is a key-value pair. The syntax for dictionaries is `{key1 : value1, ...}`. Note that the values can be of any type, even another dictionary."
   ]
  },
  {
   "cell_type": "code",
   "execution_count": 10,
   "metadata": {},
   "outputs": [
    {
     "name": "stdout",
     "output_type": "stream",
     "text": [
      "<class 'dict'>\n",
      "{'parameter1': 1.0, 'parameter2': 'a string', 'parameter3': [1, 2, 3]}\n"
     ]
    }
   ],
   "source": [
    "params = {\"parameter1\" : 1.0,\n",
    "          \"parameter2\" : \"a string\",\n",
    "          \"parameter3\" : [1,2,3]}\n",
    "\n",
    "print(type(params))\n",
    "print(params)"
   ]
  },
  {
   "cell_type": "markdown",
   "metadata": {},
   "source": [
    "You can access and manipulate the values of a dictionary using its keys."
   ]
  },
  {
   "cell_type": "code",
   "execution_count": 11,
   "metadata": {},
   "outputs": [
    {
     "name": "stdout",
     "output_type": "stream",
     "text": [
      "python is a programming language\n",
      "phone is a communication device\n",
      "{'a': 2, 'python': 'a programming language'}\n",
      "{}\n"
     ]
    }
   ],
   "source": [
    "my_dictionary = {\"a\":2, \n",
    "                 \"python\": \"a programming language\",\n",
    "                 \"phone\": \"a communication device\"}\n",
    "\n",
    "# access value of a dictionary dictionary['key']\n",
    "print(\"python is\", my_dictionary[\"python\"])\n",
    "print(\"phone is\", my_dictionary[\"phone\"])\n",
    "\n",
    "# remove an element\n",
    "del my_dictionary[\"phone\"]\n",
    "print(my_dictionary)\n",
    "\n",
    "# clear the dictionary\n",
    "my_dictionary.clear()\n",
    "print(my_dictionary)"
   ]
  },
  {
   "cell_type": "markdown",
   "metadata": {},
   "source": [
    "**Exercise:** create a dictionary called `'my_dict'` with keys `'first_name, last_name, age, favorite_singer'` and fill the values. Now alter the value of `'favorite_singer'` and change it to `'Justin Bieber'`! \n",
    "\n",
    "Can you add a key `'seriously'` and fill the value with a boolean?"
   ]
  },
  {
   "cell_type": "markdown",
   "metadata": {},
   "source": [
    "---\n",
    "### <span style=\"color:#0b486b\">5 Control flow</span>"
   ]
  },
  {
   "cell_type": "markdown",
   "metadata": {},
   "source": [
    "#### <span style=\"color:#0b486b\">5.1 Conditional statements: if, elif, else</span>"
   ]
  },
  {
   "cell_type": "markdown",
   "metadata": {},
   "source": [
    "The Python syntax for conditional execution of code use the keywords `if`, `elif` (else if), `else`. Python code blocks are defined by their indentation level."
   ]
  },
  {
   "cell_type": "code",
   "execution_count": 12,
   "metadata": {},
   "outputs": [
    {
     "name": "stdout",
     "output_type": "stream",
     "text": [
      "statement1 and statement2 are False\n"
     ]
    }
   ],
   "source": [
    "statement1 = False\n",
    "statement2 = False\n",
    "\n",
    "if statement1:\n",
    "    print(\"statement1 is True\")\n",
    "    \n",
    "elif statement2:\n",
    "    print(\"statement2 is True\")\n",
    "    \n",
    "else:\n",
    "    print(\"statement1 and statement2 are False\")"
   ]
  },
  {
   "cell_type": "code",
   "execution_count": 13,
   "metadata": {},
   "outputs": [],
   "source": [
    "# nothing happens\n",
    "statement1 = False \n",
    "\n",
    "if statement1:\n",
    "    print(\"printed if statement1 is True\")\n",
    "    \n",
    "    print(\"still inside the if block\")"
   ]
  },
  {
   "cell_type": "code",
   "execution_count": 14,
   "metadata": {},
   "outputs": [
    {
     "name": "stdout",
     "output_type": "stream",
     "text": [
      "now outside the if block\n"
     ]
    }
   ],
   "source": [
    "if statement1:\n",
    "    print(\"printed if statement1 is True\")\n",
    "    \n",
    "print(\"now outside the if block\")"
   ]
  },
  {
   "cell_type": "markdown",
   "metadata": {},
   "source": [
    "**Exercise:** Write a piece of code that declares two variables called `'is_raining'` and `'is_sunny'`, and assign a Boolean value to each of them. If both variables are True then print `'Is there a rainbow?'`."
   ]
  },
  {
   "cell_type": "code",
   "execution_count": null,
   "metadata": {},
   "outputs": [],
   "source": [
    "is_raining = True\n",
    "is_sunny = False\n",
    "if is_raining and is_sunny:\n",
    "    print(\"Is there a rainbow?\")\n",
    "    "
   ]
  }
 ],
 "metadata": {
  "kernelspec": {
   "display_name": "Python 3",
   "language": "python",
   "name": "python3"
  },
  "language_info": {
   "codemirror_mode": {
    "name": "ipython",
    "version": 3
   },
   "file_extension": ".py",
   "mimetype": "text/x-python",
   "name": "python",
   "nbconvert_exporter": "python",
   "pygments_lexer": "ipython3",
   "version": "3.7.1"
  }
 },
 "nbformat": 4,
 "nbformat_minor": 1
}
