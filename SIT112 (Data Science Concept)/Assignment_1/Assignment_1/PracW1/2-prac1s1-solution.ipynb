{
 "cells": [
  {
   "cell_type": "markdown",
   "metadata": {
    "collapsed": true
   },
   "source": [
    "**Exercise:** Print several sentences and add a comment after each print command."
   ]
  },
  {
   "cell_type": "code",
   "execution_count": 1,
   "metadata": {},
   "outputs": [
    {
     "name": "stdout",
     "output_type": "stream",
     "text": [
      "Hello World!!\n",
      "Welcome to SIT 112 Data Science Concepts\n"
     ]
    }
   ],
   "source": [
    "print(\"Hello World!!\") # this is a greeting\n",
    "print(\"Welcome to SIT 112 Data Science Concepts\") # This is your first practical!"
   ]
  },
  {
   "cell_type": "markdown",
   "metadata": {},
   "source": [
    "**Exercise:** Write a piece of code that declares a variable called `'my_var'` and assign the value 25 to it. Then print its value."
   ]
  },
  {
   "cell_type": "code",
   "execution_count": 2,
   "metadata": {},
   "outputs": [
    {
     "name": "stdout",
     "output_type": "stream",
     "text": [
      "The value of my_var is 25\n"
     ]
    }
   ],
   "source": [
    "my_var = 25\n",
    "print(\"The value of my_var is\", my_var)"
   ]
  },
  {
   "cell_type": "markdown",
   "metadata": {},
   "source": [
    "**Exercise:** Write a piece of code that declares a variable called `'my_float'` and assign the value 25 to it. Then print its value and type. What is its type? What do you need to do to make it a float instead of int?"
   ]
  },
  {
   "cell_type": "code",
   "execution_count": 3,
   "metadata": {},
   "outputs": [
    {
     "name": "stdout",
     "output_type": "stream",
     "text": [
      "the type of my_float is <class 'int'>\n",
      "the type of my_float is <class 'float'>\n"
     ]
    }
   ],
   "source": [
    "my_float = 25\n",
    "print(\"the type of my_float is\", type(my_float))\n",
    "\n",
    "\"\"\"\n",
    "As you have noticed the type is not float. Why? Because 25 is an integer.\n",
    "To make myfloat a float type you should pass the value as 25. or 25.0 \n",
    "\"\"\"\n",
    "\n",
    "my_float = 25.\n",
    "print(\"the type of my_float is\", type(my_float))"
   ]
  },
  {
   "cell_type": "markdown",
   "metadata": {},
   "source": [
    "* addition:         x + y\n",
    "* subtraction:      x - y\n",
    "* multiplication:   x*y\n",
    "* division:         x/y\n",
    "* floor division:   x//y  (round the answer to the near integer)\n",
    "* modulus:          x%y   (remainder of x divided by y)\n",
    "* exponent:         x**y  (raise x to the power of y)\n",
    "\n",
    "**Exercise**: Try at least one example for each operator. Write a comment before the example to explain which operator you are entering."
   ]
  },
  {
   "cell_type": "code",
   "execution_count": 4,
   "metadata": {},
   "outputs": [
    {
     "name": "stdout",
     "output_type": "stream",
     "text": [
      "x + y = 13\n",
      "x - y = 7\n",
      "x * y = 30\n",
      "x / y = 3.3333333333333335\n",
      "x // y = 3\n",
      "x % y = 1\n",
      "x ** y = 1000\n"
     ]
    }
   ],
   "source": [
    "# This is an example of solutions\n",
    "x = 10\n",
    "y = 3\n",
    "\n",
    "# example of addition\n",
    "print('x + y =', x + y)\n",
    "\n",
    "# example of substraction\n",
    "print('x - y =', x - y)\n",
    "\n",
    "# example of multiplication\n",
    "print('x * y =', x * y)\n",
    "\n",
    "# example of division\n",
    "print('x / y =', x / y)\n",
    "\n",
    "# example of floor division\n",
    "print('x // y =', x //y)\n",
    "\n",
    "# example of modulus\n",
    "print('x % y =', x % y)\n",
    "\n",
    "# example of exponent\n",
    "print('x ** y =', x ** y)"
   ]
  }
 ],
 "metadata": {
  "kernelspec": {
   "display_name": "Python 3",
   "language": "python",
   "name": "python3"
  },
  "language_info": {
   "codemirror_mode": {
    "name": "ipython",
    "version": 3
   },
   "file_extension": ".py",
   "mimetype": "text/x-python",
   "name": "python",
   "nbconvert_exporter": "python",
   "pygments_lexer": "ipython3",
   "version": "3.6.1"
  }
 },
 "nbformat": 4,
 "nbformat_minor": 1
}
