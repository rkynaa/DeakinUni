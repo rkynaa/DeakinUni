{
 "cells": [
  {
   "cell_type": "markdown",
   "metadata": {},
   "source": [
    "# <span style=\"color:#0b486b\">SIT 112 - Data Science Concepts</span>\n",
    "\n",
    "---\n",
    "Lecturer: Sergiy Shelyag | sergiy.shelyag@deakin.edu.au<br />\n",
    "\n",
    "School of Information Technology, <br />\n",
    "Deakin University, VIC 3215, Australia.\n",
    "\n",
    "---"
   ]
  },
  {
   "cell_type": "markdown",
   "metadata": {},
   "source": [
    "## <span style=\"color:#0b486b\">Practical Session 5: Plots</span>\n",
    "\n",
    "**The purpose of this session is to teach you:**\n",
    "\n",
    "1. How to draw and manipulate \n",
    "    1. Pie chart\n",
    "    2. Wordcloud\n",
    "    3. Bar charts\n",
    "    4. step chart\n",
    "    5. histogram\n",
    "    6. boxplot\n",
    "    7. scatter plot\n",
    "2. Pearson-r correlation coefficient\n",
    "3. Spearman's rank coefficient\n",
    "---"
   ]
  },
  {
   "cell_type": "markdown",
   "metadata": {},
   "source": [
    "You have already been thought about different sorts of plots, how they help to get a better understanding of the data, and when to use which. In this practical session we will work with `matplotlib` package to learn more about plotting in Python."
   ]
  },
  {
   "cell_type": "code",
   "execution_count": null,
   "metadata": {
    "collapsed": true
   },
   "outputs": [],
   "source": [
    "import numpy as np\n",
    "import csv\n",
    "\n",
    "import matplotlib.pyplot as plt\n",
    "%matplotlib inline"
   ]
  },
  {
   "cell_type": "markdown",
   "metadata": {},
   "source": [
    "## <span style=\"color:#0b486b\">1. Pie Chart</span>\n",
    "\n",
    "Suppose you have the frequency count of a variable (e.g. hair_colour). Draw a pie chart to explain it."
   ]
  },
  {
   "cell_type": "code",
   "execution_count": null,
   "metadata": {
    "collapsed": true
   },
   "outputs": [],
   "source": [
    "labels = ['Black', 'Red', 'Brown']\n",
    "\n",
    "# frequency count\n",
    "hair_colour_freq = [5, 3, 2]  # Black, Red, Brown\n",
    "\n",
    "# colours\n",
    "colours = ['yellowgreen', 'gold', 'lightskyblue']\n",
    "\n",
    "fig, ax = plt.subplots(figsize=(5, 5))\n",
    "ax.pie(hair_colour_freq, colors=colours, labels=labels, shadow=True, \n",
    "       explode=(0, 0.1, 0), startangle=90, autopct=\"%1.1f\")"
   ]
  },
  {
   "cell_type": "markdown",
   "metadata": {},
   "source": [
    "What if we have too many tags and sectors?"
   ]
  },
  {
   "cell_type": "code",
   "execution_count": null,
   "metadata": {
    "collapsed": true
   },
   "outputs": [],
   "source": [
    "# Excellence in Reasearch Australia\n",
    "labels = ['HEALTH', 'ENGINEERING', 'COMPUTER SCIENCES', 'HUMAN SOCIETY', \n",
    "          'TOURISM SERVICES', 'EDUCATION', 'CHEMISTRY', 'BIOLOGY', 'PSYCHOLOGY', \n",
    "          'CREATIVE ARTS', 'LINGUISTICS', 'BUILT ENVIRONMENT', 'HISTORY', \n",
    "          'ECONOMICS', 'PHILOSOPHY', 'AGRICULTURE', 'ENVIRONMENT', 'TECHNOLOGY', \n",
    "          'LAW', 'MATHS', 'EARTH SCIENCES', 'PHYSICS']\n",
    "\n",
    "\n",
    "# frequency count\n",
    "xx = [2625.179999, 1306.259999, 1187.039999, 1166.04, 980.8599997, 810.5999998,\n",
    "      725.6399996, 678.7899998, 436.5999997, 404.3299999, 348.01, 304.33, 294.19, \n",
    "      293.02, 282.31, 228.21, 197.3399999, 164.0599998, 157, 50.49999998, 49.60999999, 48.08000005]\n",
    "\n",
    "fig, ax = plt.subplots(figsize=(15, 15))\n",
    "ax.pie(xx, labels=labels, autopct=\"%1.1f\");"
   ]
  },
  {
   "cell_type": "markdown",
   "metadata": {},
   "source": [
    "---\n",
    "## <span style=\"color:#0b486b\">2. Bar Chart</span>\n",
    "\n",
    "Use the hair colour data to draw a bar chart."
   ]
  },
  {
   "cell_type": "code",
   "execution_count": null,
   "metadata": {
    "collapsed": true
   },
   "outputs": [],
   "source": [
    "labels = ['Black', 'Red', 'Brown']\n",
    "colours = ['black', 'red', 'brown']\n",
    "\n",
    "hair_colour_freq = [5, 3, 2]\n",
    "x_pos = np.arange(len(hair_colour_freq))\n",
    "\n",
    "fig, ax = plt.subplots(figsize=(7, 5))\n",
    "ax.bar(x_pos, hair_colour_freq, color=colours, align='center')\n",
    "\n",
    "ax.set_xlabel(\"Hair colours\")\n",
    "ax.set_ylabel(\"Number of participants\")\n",
    "ax.set_title(\"Hair Colour Distribution\")\n",
    "\n",
    "ax.set_xticks(x_pos)\n",
    "ax.set_xticklabels(labels)"
   ]
  },
  {
   "cell_type": "markdown",
   "metadata": {},
   "source": [
    "**Exercise:** Now suppose we have the hair colour distribution across genders, so we can plot grouped bar charts. Plot a grouped bar chart to show the distribution of colours acros genders."
   ]
  },
  {
   "cell_type": "code",
   "execution_count": null,
   "metadata": {
    "collapsed": true
   },
   "outputs": [],
   "source": [
    "\"\"\"\n",
    "        black  red  brown\n",
    "Male      4     1     3\n",
    "Female    1     2     2\n",
    "\n",
    "\"\"\"\n",
    "\n",
    "data = np.array([[4, 1, 3],\n",
    "               [1, 2, 2]])\n",
    "\n",
    "x_pos = np.arange(2)\n",
    "width = 0.2\n",
    "\n",
    "fig, ax = plt.subplots(figsize=(7, 5), dpi=300)\n",
    "ax.bar(x_pos, data[:, 0], width=width, color='black', align='center', label='Black')\n",
    "ax.bar(x_pos+width, data[:, 1], width=width, color='red', align='center', label='Red')\n",
    "ax.bar(x_pos+2*width, data[:, 2], width=width, color='brown', align='center', label='Brown')\n",
    "\n",
    "labels = ['Male', 'Female']\n",
    "ax.set_xticks(x_pos + width)\n",
    "ax.set_xticklabels(labels, size=15)\n",
    "\n",
    "ax.legend()\n",
    "\n",
    "# your code here\n",
    "# Set xlabel, ylabel and title for the figure\n"
   ]
  },
  {
   "cell_type": "markdown",
   "metadata": {},
   "source": [
    "**Exercise:** Can we plot it more intelligently? We are doing the same thing multiple times! Is it a good idea to use a loop?"
   ]
  },
  {
   "cell_type": "code",
   "execution_count": null,
   "metadata": {
    "collapsed": true
   },
   "outputs": [],
   "source": [
    "\"\"\"\n",
    "        black  red  brown\n",
    "Male      4     1     3\n",
    "Female    1     2     2\n",
    "\n",
    "Insert your code here\n",
    "\"\"\"\n"
   ]
  },
  {
   "cell_type": "markdown",
   "metadata": {},
   "source": [
    "**Exercise:** What if we want to group the bar charts based on the hair colour?"
   ]
  },
  {
   "cell_type": "code",
   "execution_count": null,
   "metadata": {
    "collapsed": true
   },
   "outputs": [],
   "source": [
    "\"\"\"\n",
    "        black  red  brown\n",
    "Male      4     1     3\n",
    "Female    1     2     2\n",
    "\n",
    "Insert your code here\n",
    "\"\"\"\n"
   ]
  },
  {
   "cell_type": "markdown",
   "metadata": {},
   "source": [
    "#### Stacked bar chart\n",
    "\n",
    "**Exercise:** The other type of bar chart is stacked bar chart. Draw a stacked bar plot of the hair colour data grouped on hair colours."
   ]
  },
  {
   "cell_type": "code",
   "execution_count": null,
   "metadata": {
    "collapsed": true
   },
   "outputs": [],
   "source": [
    "\"\"\"\n",
    "        black  red  brown\n",
    "Male      4     1     3\n",
    "Female    1     2     2\n",
    "\n",
    "\"\"\"\n",
    "\n",
    "labels = ['Black', 'Red', 'Brown']\n",
    "data = np.array([[4, 1, 3], \n",
    "                 [1, 2, 2]])\n",
    "\n",
    "n_groups, n_colours = data.shape\n",
    "x_pos = np.arange(n_colours)\n",
    "width = 0.4\n",
    "\n",
    "fig, ax = plt.subplots()\n",
    "\n",
    "ax.bar(x_pos, data[0, :], color='r', width=width, align='center', label='Male')\n",
    "ax.bar(x_pos, data[1, :], color='y', bottom=data[0, :], width=width, align='center', label='Female')\n",
    "\n",
    "# Your code here\n",
    "# set xlabel, ylabel, title for the figure\n",
    "# set xticks, xticklabels & legend for the figure\n"
   ]
  },
  {
   "cell_type": "markdown",
   "metadata": {},
   "source": [
    "**Exercise:** Draw a stacked bar plot grouped on the gender."
   ]
  },
  {
   "cell_type": "code",
   "execution_count": null,
   "metadata": {
    "collapsed": true
   },
   "outputs": [],
   "source": [
    "\"\"\"\n",
    "        black  red  brown\n",
    "Male      4     1     3\n",
    "Female    1     2     2\n",
    "\n",
    "Insert your code here\n",
    "\"\"\"\n"
   ]
  },
  {
   "cell_type": "markdown",
   "metadata": {},
   "source": [
    "### subplots\n",
    "\n",
    "**Exercise:** Use subplots to draw two graphs next to each other"
   ]
  },
  {
   "cell_type": "code",
   "execution_count": null,
   "metadata": {
    "collapsed": true
   },
   "outputs": [],
   "source": [
    "labels = ['Black', 'Red', 'Brown']\n",
    "male_freq = [4, 1, 3]\n",
    "female_freq = [1, 2, 2]\n",
    "x_pos = np.arange(len(labels))\n",
    "\n",
    "fig, ax = plt.subplots(nrows=1, ncols=2, figsize=(14, 5))\n",
    "\n",
    "# Your code here\n",
    "# 1. using ax[0].bar and ax[1].bar to plot bar charts for the first and the second subplots\n",
    "\n",
    "\n",
    "# 2. set xlabel, ylabel and title for each subplot\n",
    "\n",
    "\n",
    "# 3. set xtick and xticklabels for each subplot\n",
    "\n",
    "\n",
    "# 4. set legen for each subplot\n"
   ]
  },
  {
   "cell_type": "markdown",
   "metadata": {},
   "source": [
    "**Exercise:** What if we have too many groups? Draw a bar chart for the Excellence in Research Australia data. "
   ]
  },
  {
   "cell_type": "code",
   "execution_count": null,
   "metadata": {
    "collapsed": true
   },
   "outputs": [],
   "source": [
    "# Excellence in Reasearch Australia\n",
    "labels = ['HEALTH', 'ENGINEERING', 'COMPUTER SCIENCES', 'HUMAN SOCIETY', \n",
    "          'TOURISM SERVICES', 'EDUCATION', 'CHEMISTRY', 'BIOLOGY', 'PSYCHOLOGY', \n",
    "          'CREATIVE ARTS', 'LINGUISTICS', 'BUILT ENVIRONMENT', 'HISTORY', \n",
    "          'ECONOMICS', 'PHILOSOPHY', 'AGRICULTURE', 'ENVIRONMENT', 'TECHNOLOGY', \n",
    "          'LAW', 'MATHS', 'EARTH SCIENCES', 'PHYSICS']\n",
    "\n",
    "\n",
    "# frequency count\n",
    "xx = [2625.179999, 1306.259999, 1187.039999, 1166.04, 980.8599997, 810.5999998,\n",
    "      725.6399996, 678.7899998, 436.5999997, 404.3299999, 348.01, 304.33, 294.19, \n",
    "      293.02, 282.31, 228.21, 197.3399999, 164.0599998, 157, 50.49999998, 49.60999999, 48.08000005]\n",
    "\n",
    "# Your code here\n",
    "\n"
   ]
  },
  {
   "cell_type": "markdown",
   "metadata": {},
   "source": [
    "---\n",
    "## <span style=\"color:#0b486b\">3. Wordcloud</span>\n",
    "\n",
    "As you saw, pie-chart is not very helpful when we have too many sectors. It is hard to read and visually ugly. Instead we can use wordcloud representation. A useful tool is [wordclouds.com](http://wordclouds.com). \n",
    "\n",
    "**Exercise:** Run the cell below, then go to [wordclouds.com](http://wordclouds.com) and use it to create a wordcloud for the output of the cell.\n",
    "\n",
    "**Note:** Go to the website and choose `File`, click `Paste/Type text` and then paste the text to the box and click `Apply`"
   ]
  },
  {
   "cell_type": "code",
   "execution_count": null,
   "metadata": {
    "collapsed": true
   },
   "outputs": [],
   "source": [
    "for i in range(len(xx)):\n",
    "    print(\"{} {}\".format(xx[i], labels[i]))"
   ]
  },
  {
   "cell_type": "markdown",
   "metadata": {},
   "source": [
    "---\n",
    "## <span style=\"color:#0b486b\">4. Step plot</span>\n",
    "\n",
    "**Exercise:** Draw a step plot for the seatbelt data provided in the lecture."
   ]
  },
  {
   "cell_type": "code",
   "execution_count": null,
   "metadata": {
    "collapsed": true
   },
   "outputs": [],
   "source": [
    "freq = np.array([0, 2, 1, 5, 7])\n",
    "np.cumsum(freq)"
   ]
  },
  {
   "cell_type": "code",
   "execution_count": null,
   "metadata": {
    "collapsed": true
   },
   "outputs": [],
   "source": [
    "freq_cumsum = np.cumsum(freq)\n",
    "labels = ['Never', 'Rarely', 'Sometimes', 'Most-times', 'Always']\n",
    "x_pos = np.arange(len(freq))\n",
    "\n",
    "fig, ax = plt.subplots()\n",
    "ax.step(x_pos, freq_cumsum, where='mid')\n",
    "\n",
    "\n",
    "# Your code here\n",
    "# Set xlabel, ylabel, xticks and xticklabels for the figure\n"
   ]
  },
  {
   "cell_type": "markdown",
   "metadata": {},
   "source": [
    "---\n",
    "## <span style=\"color:#0b486b\">5. Histogram</span>\n",
    "\n",
    "**Exercise:** Draw a histogram of scores on Math test provided in the cell below."
   ]
  },
  {
   "cell_type": "code",
   "execution_count": null,
   "metadata": {
    "collapsed": true
   },
   "outputs": [],
   "source": [
    "scores = np.random.normal(loc=5, size=100)\n",
    "\n",
    "# Your code here\n",
    "# Draw a histogram of *scores* array\n",
    "# Hint: you might use numpy.unique, which returns unique scores and their counts.\n",
    "\n"
   ]
  },
  {
   "cell_type": "markdown",
   "metadata": {},
   "source": [
    "---\n",
    "## <span style=\"color:#0b486b\">6. Boxplot</span>\n",
    "**Exercise:** Draw a box plot for scores on Math test from the previous exercise."
   ]
  },
  {
   "cell_type": "code",
   "execution_count": null,
   "metadata": {
    "collapsed": true
   },
   "outputs": [],
   "source": [
    "# Your code here\n"
   ]
  },
  {
   "cell_type": "markdown",
   "metadata": {},
   "source": [
    "---\n",
    "## <span style=\"color:#0b486b\">7. Scatter plot</span>\n",
    "\n",
    "**Exercise:** Draw a scatter plot of the car weights and their fuel consumption as displayed in the lecture."
   ]
  },
  {
   "cell_type": "code",
   "execution_count": 19,
   "metadata": {
    "collapsed": true
   },
   "outputs": [],
   "source": [
    "# Read the data\n",
    "datafile = \"Auto.csv\"\n",
    "data = np.genfromtxt(datafile, delimiter=',')\n",
    "data = []\n",
    "with open(datafile, 'r') as fp:\n",
    "    reader = csv.reader(fp, delimiter=',')\n",
    "    for row in reader:\n",
    "        data.append(row)\n",
    "        \n",
    "miles = [float(dd[1]) for dd in data[1:]]\n",
    "weights = [float(dd[5]) for dd in data[1:]]"
   ]
  },
  {
   "cell_type": "code",
   "execution_count": null,
   "metadata": {
    "collapsed": true
   },
   "outputs": [],
   "source": [
    "# Your code here\n",
    "# Draw a scatter plot of the 2 arrays: weights and miles from the previous code cell\n"
   ]
  },
  {
   "cell_type": "markdown",
   "metadata": {},
   "source": [
    "---\n",
    "## <span style=\"color:#0b486b\">8. Pearson's-r Correlation coefficinet</span>\n"
   ]
  },
  {
   "cell_type": "markdown",
   "metadata": {},
   "source": [
    "We assume $X=\\left\\{ X_{1},\\ldots,X_{n}\\right\\}$ and $Y=\\left\\{ Y_{1},\\ldots,Y_{n}\\right\\}$. Then Pearson-r correlation coefficient is defined as \n",
    "$$ \\rho(X,Y) = \\frac{\\text{cov}(X,Y)}{\\sigma_X \\sigma_Y} =  \\frac{\\sum_{i=1}^n (X_i - \\bar{X})(Y_i - \\bar{Y})}{\\sqrt{\\sum_{i=1}^n(X_i-\\bar{X})^2} \\sqrt{\\sum_{i=1}^n(Y_i-\\bar{Y})^2}} $$\n"
   ]
  },
  {
   "cell_type": "markdown",
   "metadata": {},
   "source": [
    "**Exercise:** Use the car data and find the Pearson's-r correlation coefficient between car weights and fuel consumption."
   ]
  },
  {
   "cell_type": "code",
   "execution_count": null,
   "metadata": {
    "collapsed": true
   },
   "outputs": [],
   "source": [
    "# Your code here\n",
    "# find the Pearson's-r correlation coefficient between \n",
    "# ... the two arrays weights and miles from previous section.\n"
   ]
  },
  {
   "cell_type": "markdown",
   "metadata": {},
   "source": [
    "**Exercise:** Find the Pearson's-r coefficient for two linearly dependent variables. Add some noise and see the effect of varying the noise. What is positive correlation? What is negative correlation?"
   ]
  },
  {
   "cell_type": "code",
   "execution_count": null,
   "metadata": {
    "collapsed": true
   },
   "outputs": [],
   "source": [
    "import scipy\n",
    "from scipy import stats\n",
    "# Generating xx and yy, which are two linearly dependent variables with some noise\n",
    "xx = np.arange(-5, 5, 0.1)\n",
    "pp = 1.5  # level of noise\n",
    "yy = xx + np.random.normal(0, pp, size=len(xx))\n",
    "\n",
    "# Your code here\n"
   ]
  },
  {
   "cell_type": "markdown",
   "metadata": {},
   "source": [
    "Pearson's r coefficient is limited to analyse the linear correlation between two variables. It is not capable to show the non-linear dependency. Investigate the Pearson's r coefficient between two variables that are correlated non-linearly."
   ]
  },
  {
   "cell_type": "code",
   "execution_count": null,
   "metadata": {
    "collapsed": true
   },
   "outputs": [],
   "source": [
    "# generate some data, first for X\n",
    "xx = np.arange(-5, 5, 0.1)\n",
    "\n",
    "# assume Y = 2Y + some perturbation\n",
    "pp = 1.5  # level of noise\n",
    "yy = xx**2 + np.random.normal(0, pp, size=len(xx))\n",
    "\n",
    "# Your code here\n",
    "# visualize the data (xx and yy) by a scatter plot\n"
   ]
  },
  {
   "cell_type": "code",
   "execution_count": null,
   "metadata": {
    "collapsed": true
   },
   "outputs": [],
   "source": [
    "# Your code here\n",
    "# Pearson's coefficient between xx and yy\n"
   ]
  },
  {
   "cell_type": "markdown",
   "metadata": {},
   "source": [
    "---\n",
    "## <span style=\"color:#0b486b\">9. Spearman's rank coefficient</span>\n",
    "\n",
    "**Exercise**: Spearman's rank coefficient is used for discrete data. Find the Spearman's rank between horse power and number of cylinders of the car data."
   ]
  },
  {
   "cell_type": "code",
   "execution_count": null,
   "metadata": {
    "collapsed": true
   },
   "outputs": [],
   "source": [
    "horse = np.array([float(dd[4]) for dd in data[1:]])\n",
    "cylinder = np.array([float(dd[2]) for dd in data[1:]])\n",
    "\n",
    "# Your code here\n",
    "# Draw a scatter plot for horse power and the number of cylinders of the cars.\n",
    "\n",
    "\n",
    "# Print the Spearman's rank\n"
   ]
  }
 ],
 "metadata": {
  "kernelspec": {
   "display_name": "Python 3",
   "language": "python",
   "name": "python3"
  },
  "language_info": {
   "codemirror_mode": {
    "name": "ipython",
    "version": 3
   },
   "file_extension": ".py",
   "mimetype": "text/x-python",
   "name": "python",
   "nbconvert_exporter": "python",
   "pygments_lexer": "ipython3",
   "version": "3.6.1"
  }
 },
 "nbformat": 4,
 "nbformat_minor": 1
}
