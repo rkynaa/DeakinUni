{
 "cells": [
  {
   "cell_type": "markdown",
   "metadata": {},
   "source": [
    "# <span style=\"color:#0b486b\">SIT 112 - Data Science Concepts</span>\n",
    "\n",
    "---\n",
    "Lecturer: Sergiy Shelyag | sergiy.shelyag@deakin.edu.au<br />\n",
    "Assistant: \n",
    "\n",
    "School of Information Technology, <br />\n",
    "Deakin University, VIC 3216, Australia.\n",
    "\n",
    "---\n",
    "\n",
    "## <span style=\"color:#0b486b\">Practical Session 1.2</span>\n",
    "\n",
    "**The purpose of this session is twofold:**\n",
    "\n",
    "1. to give you the instruction to install Anaconda.\n",
    "2. to revise key features of Python language and allow you the time to practice basic coding in python with IPython\n",
    "\n",
    "**At the end of this practical session, you should be able to:**\n",
    "\n",
    "* know how to install Anaconda and work with interactive python using IPython\n",
    "* know the basic features of python, including arithmetic operations, fundamental data types and variables\n",
    "\n",
    "**Please note that**:\n",
    "* This unit is *not* about teaching you how to program in Python. You are responsible for developing your own programming skills. There are many excellent resources to learn python online as well as the recommended textbooks presented in the lecture. Developing skills in programming can take time, and let us remind ourselves:\n",
    "\n",
    ">\"... even though we can speak and write English, it does not necessarily mean we can write a best-selling novel\" -- Unknown.   \n",
    "    \n",
    "* You are assumed to have a basic knowledge of programming. \n",
    "* This session only recaps main features of python.\n",
    "\n",
    "---"
   ]
  },
  {
   "cell_type": "markdown",
   "metadata": {},
   "source": [
    "# <span style=\"color:#0b486b\">Part I: Anaconda and Installation</span>"
   ]
  },
  {
   "cell_type": "markdown",
   "metadata": {},
   "source": [
    "* 1-instructions.pdf gives you the step by step instruction on how to install Anaconda on your machine and an introduction to Python interpreter."
   ]
  },
  {
   "cell_type": "markdown",
   "metadata": {},
   "source": [
    "# <span style=\"color:#0b486b\">Part II: Review of Python Language</span>"
   ]
  },
  {
   "cell_type": "markdown",
   "metadata": {},
   "source": [
    "### <span style=\"color:#0b486b\">1. \"Hello World!\"</span>\n",
    "\n",
    "**Instruction: ** Launch IPython by running the command <kbd>ipython</kbd> in your terminal and enter the following commands:"
   ]
  },
  {
   "cell_type": "code",
   "execution_count": 5,
   "metadata": {},
   "outputs": [
    {
     "name": "stdout",
     "output_type": "stream",
     "text": [
      "Hello World!!\n",
      "Welcome to SIT 112 Data Science Concepts\n",
      "[1, 2, 3, 4, 5, 6, 7, 8]\n"
     ]
    },
    {
     "data": {
      "text/plain": [
       "list"
      ]
     },
     "execution_count": 5,
     "metadata": {},
     "output_type": "execute_result"
    }
   ],
   "source": [
    "print(\"Hello World!!\")\n",
    "print(\"Welcome to SIT 112 Data Science Concepts\")\n",
    "a = [1, 2, 3, 4, 5, 6, 7, 8]\n",
    "print(a)\n",
    "type(a)"
   ]
  },
  {
   "cell_type": "markdown",
   "metadata": {},
   "source": [
    "**Note:** the difference in the syntax. Python 3.x uses a slightly different syntax from 2.x version. This course will use python 3.6."
   ]
  },
  {
   "cell_type": "markdown",
   "metadata": {},
   "source": [
    "---\n",
    "### <span style=\"color:#0b486b\">2. Commenting</span>"
   ]
  },
  {
   "cell_type": "markdown",
   "metadata": {},
   "source": [
    "**Instruction:** Type these lines below. What was displayed?"
   ]
  },
  {
   "cell_type": "code",
   "execution_count": 6,
   "metadata": {},
   "outputs": [
    {
     "name": "stdout",
     "output_type": "stream",
     "text": [
      "Hello World!!\n"
     ]
    }
   ],
   "source": [
    "# This is a comment.\n",
    "# It will not do anything.\n",
    "# Comments are to clarify code and are not interpreted by Python\n",
    "print(\"Hello World!!\") # this is a greeting"
   ]
  },
  {
   "cell_type": "markdown",
   "metadata": {
    "collapsed": true
   },
   "source": [
    "**Exercise:** Print several sentences and add a comment after each print command."
   ]
  },
  {
   "cell_type": "markdown",
   "metadata": {},
   "source": [
    "---\n",
    "### <span style=\"color:#0b486b\">3. Variables and types</span>"
   ]
  },
  {
   "cell_type": "markdown",
   "metadata": {},
   "source": [
    "Variable names in Python can contain alphanumerical characters a-z, A-Z, 0-9 and some special characters such as _. Normal variable names must start with a letter.\n",
    "By convension, variable names start with a lower-case letter, and Class names start with a capital letter."
   ]
  },
  {
   "cell_type": "markdown",
   "metadata": {},
   "source": [
    "#### <span style=\"color:#0b486b\">3.1 Assignment</span>"
   ]
  },
  {
   "cell_type": "markdown",
   "metadata": {},
   "source": [
    "The assignment operator in Python is `'='`. Python is a dynamically typed language, so you do not need to specify the type of the variable while creating it.\n",
    "\n",
    "Assigning a value to a new variable creates the variable:\n",
    "\n",
    "**Instruction:** Execute the lines below using IPython to see the output. "
   ]
  },
  {
   "cell_type": "code",
   "execution_count": 8,
   "metadata": {},
   "outputs": [
    {
     "name": "stdout",
     "output_type": "stream",
     "text": [
      "x =  10\n",
      "y = I am a string\n",
      "y =  I am a string\n"
     ]
    }
   ],
   "source": [
    "# variable assignment\n",
    "\n",
    "x = 10\n",
    "y = \"I am a string\"\n",
    "\n",
    "print(\"x = \", x)         \n",
    "print(\"y = {}\".format(y))\n",
    "print(\"y = \", y)"
   ]
  },
  {
   "cell_type": "markdown",
   "metadata": {},
   "source": [
    "Although not explicitly specified, a variable does have a type associated with it. The type is derived from the value that was assigned to it."
   ]
  },
  {
   "cell_type": "code",
   "execution_count": 9,
   "metadata": {},
   "outputs": [
    {
     "data": {
      "text/plain": [
       "str"
      ]
     },
     "execution_count": 9,
     "metadata": {},
     "output_type": "execute_result"
    }
   ],
   "source": [
    "type(y)"
   ]
  },
  {
   "cell_type": "markdown",
   "metadata": {},
   "source": [
    "**Exercise:** Write a piece of code that declares a variable called `'my_var'` and assign the value 25 to it. Then print its value."
   ]
  },
  {
   "cell_type": "markdown",
   "metadata": {},
   "source": [
    "#### <span style=\"color:#0b486b\">3.2 Re-assignment</span>"
   ]
  },
  {
   "cell_type": "markdown",
   "metadata": {},
   "source": [
    "We can update a variable by assigning a new value to that same variable name, which will change the value.\n",
    "\n",
    "**Instruction:** Execute the lines below to see the output"
   ]
  },
  {
   "cell_type": "code",
   "execution_count": 10,
   "metadata": {},
   "outputs": [
    {
     "name": "stdout",
     "output_type": "stream",
     "text": [
      "14\n"
     ]
    }
   ],
   "source": [
    "x = 10\n",
    "x = 12\n",
    "x = x + 2\n",
    "print(x)"
   ]
  },
  {
   "cell_type": "markdown",
   "metadata": {},
   "source": [
    "#### <span style=\"color:#0b486b\">3.2 Fundamental types</span>"
   ]
  },
  {
   "cell_type": "code",
   "execution_count": 11,
   "metadata": {},
   "outputs": [
    {
     "data": {
      "text/plain": [
       "int"
      ]
     },
     "execution_count": 11,
     "metadata": {},
     "output_type": "execute_result"
    }
   ],
   "source": [
    "# integers\n",
    "x = 1\n",
    "type(x)"
   ]
  },
  {
   "cell_type": "code",
   "execution_count": 12,
   "metadata": {},
   "outputs": [
    {
     "data": {
      "text/plain": [
       "float"
      ]
     },
     "execution_count": 12,
     "metadata": {},
     "output_type": "execute_result"
    }
   ],
   "source": [
    "# float\n",
    "x = 1.0\n",
    "type(x)"
   ]
  },
  {
   "cell_type": "code",
   "execution_count": 13,
   "metadata": {},
   "outputs": [
    {
     "data": {
      "text/plain": [
       "bool"
      ]
     },
     "execution_count": 13,
     "metadata": {},
     "output_type": "execute_result"
    }
   ],
   "source": [
    "# boolean\n",
    "b1 = True\n",
    "b2 = False\n",
    "\n",
    "type(b1)"
   ]
  },
  {
   "cell_type": "code",
   "execution_count": 20,
   "metadata": {},
   "outputs": [
    {
     "name": "stdout",
     "output_type": "stream",
     "text": [
      "(-1+0j)\n",
      "2j\n"
     ]
    }
   ],
   "source": [
    "# complex numbers: note the use of `j` to specify the imaginary part\n",
    "x = 1.0 - 1.0j\n",
    "type(x)\n",
    "x = 1.0j\n",
    "print(x*x)\n",
    "import cmath\n",
    "print(cmath.sqrt(-4))"
   ]
  },
  {
   "cell_type": "markdown",
   "metadata": {},
   "source": [
    "**Exercise:** Write a piece of code that declares a variable called `'my_float'` and assign the value 25 to it. Then print its value and type. What is its type? What do you need to do to make it a float instead of int?"
   ]
  },
  {
   "cell_type": "markdown",
   "metadata": {},
   "source": [
    "---\n",
    "### <span style=\"color:#0b486b\">4. Operators</span>"
   ]
  },
  {
   "cell_type": "markdown",
   "metadata": {},
   "source": [
    "#### <span style=\"color:#0b486b\">4.1 Arithmetic operators</span>"
   ]
  },
  {
   "cell_type": "markdown",
   "metadata": {},
   "source": [
    "* addition:         x + y\n",
    "* subtraction:      x - y\n",
    "* multiplication:   x*y\n",
    "* division:         x/y\n",
    "* floor division:   x//y  (round the answer to the near integer)\n",
    "* modulus:          x%y   (remainder of x divided by y)\n",
    "* exponent:         x**y  (raise x to the power of y)"
   ]
  },
  {
   "cell_type": "code",
   "execution_count": 10,
   "metadata": {},
   "outputs": [
    {
     "name": "stdout",
     "output_type": "stream",
     "text": [
      "x + y =  27\n",
      "x - y =  19\n",
      "x * y =  92\n",
      "x / y =  5.75\n"
     ]
    }
   ],
   "source": [
    "x = 23\n",
    "y = 4\n",
    "print ('x + y = ', x+y)\n",
    "print ('x - y = ', x-y)\n",
    "print ('x * y = ', x*y)\n",
    "print ('x / y = ', x/y)"
   ]
  },
  {
   "cell_type": "markdown",
   "metadata": {},
   "source": [
    "**Note:** This is Python 3 code. The previous versions of Python behave differently - the division of one integer by another in Python 2 will yield an int, even if the expected result is not a whole number! This Python 2 behaviour is like integer division (//) in Python 3. We use Python 3 in this course."
   ]
  },
  {
   "cell_type": "code",
   "execution_count": 26,
   "metadata": {},
   "outputs": [
    {
     "name": "stdout",
     "output_type": "stream",
     "text": [
      "x//y= 2\n",
      "x%y= 1\n"
     ]
    }
   ],
   "source": [
    "x = 5\n",
    "y = 2\n",
    "print('x//y=',x//y)\n",
    "\n",
    "print('x%y=',x%y)\n",
    "\n"
   ]
  },
  {
   "cell_type": "markdown",
   "metadata": {},
   "source": [
    "**Exercise:** Try at least one example for each operator. Write a comment before the example to explain which operator you are entering."
   ]
  },
  {
   "cell_type": "markdown",
   "metadata": {},
   "source": [
    "---\n",
    "#### <span style=\"color:#0b486b\">4.2 Boolean operators</span>\n",
    "The boolean operators are spelled out as words `and`, `not`, `or`. Try the lines below:"
   ]
  },
  {
   "cell_type": "code",
   "execution_count": 31,
   "metadata": {},
   "outputs": [
    {
     "name": "stdout",
     "output_type": "stream",
     "text": [
      "False\n",
      "True\n",
      "False\n",
      "\n",
      "True\n",
      "True\n",
      "False\n"
     ]
    }
   ],
   "source": [
    "print(True and False)\n",
    "print(True and True)\n",
    "print(False and False)\n",
    "print()\n",
    "print(True or False)\n",
    "print(True or True)\n",
    "print(False or False)\n",
    "\n"
   ]
  },
  {
   "cell_type": "code",
   "execution_count": 13,
   "metadata": {},
   "outputs": [
    {
     "data": {
      "text/plain": [
       "True"
      ]
     },
     "execution_count": 13,
     "metadata": {},
     "output_type": "execute_result"
    }
   ],
   "source": [
    "not False"
   ]
  },
  {
   "cell_type": "code",
   "execution_count": 14,
   "metadata": {},
   "outputs": [
    {
     "data": {
      "text/plain": [
       "True"
      ]
     },
     "execution_count": 14,
     "metadata": {},
     "output_type": "execute_result"
    }
   ],
   "source": [
    "True or False"
   ]
  },
  {
   "cell_type": "markdown",
   "metadata": {},
   "source": [
    "---\n",
    "#### <span style=\"color:#0b486b\">4.3 Comparison operators</span>\n",
    "Comparison operators >, <, >= (greater or equal), <= (less or equal), == equality, and is identical"
   ]
  },
  {
   "cell_type": "code",
   "execution_count": 1,
   "metadata": {},
   "outputs": [
    {
     "data": {
      "text/plain": [
       "(True, False)"
      ]
     },
     "execution_count": 1,
     "metadata": {},
     "output_type": "execute_result"
    }
   ],
   "source": [
    "2 > 1, 2 < 1"
   ]
  },
  {
   "cell_type": "code",
   "execution_count": 2,
   "metadata": {},
   "outputs": [
    {
     "data": {
      "text/plain": [
       "(False, False)"
      ]
     },
     "execution_count": 2,
     "metadata": {},
     "output_type": "execute_result"
    }
   ],
   "source": [
    "2 > 2, 2 < 2"
   ]
  },
  {
   "cell_type": "code",
   "execution_count": 3,
   "metadata": {},
   "outputs": [
    {
     "data": {
      "text/plain": [
       "(True, True)"
      ]
     },
     "execution_count": 3,
     "metadata": {},
     "output_type": "execute_result"
    }
   ],
   "source": [
    "2 >= 2, 2 <= 2"
   ]
  },
  {
   "cell_type": "code",
   "execution_count": null,
   "metadata": {},
   "outputs": [],
   "source": []
  }
 ],
 "metadata": {
  "kernelspec": {
   "display_name": "Python 3",
   "language": "python",
   "name": "python3"
  },
  "language_info": {
   "codemirror_mode": {
    "name": "ipython",
    "version": 3
   },
   "file_extension": ".py",
   "mimetype": "text/x-python",
   "name": "python",
   "nbconvert_exporter": "python",
   "pygments_lexer": "ipython3",
   "version": "3.7.1"
  }
 },
 "nbformat": 4,
 "nbformat_minor": 1
}
