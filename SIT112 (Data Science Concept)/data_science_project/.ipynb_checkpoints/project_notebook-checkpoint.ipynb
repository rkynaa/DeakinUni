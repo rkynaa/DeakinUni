{
 "cells": [
  {
   "cell_type": "markdown",
   "metadata": {},
   "source": [
    "# <span style=\"color:#0b486b\">SIT 112 - Data Science Concepts</span>\n",
    "# <span style=\"color:#0b486b\">Data Science Project</span>\n",
    "\n",
    "---\n",
    "Lecturer: Sergiy Shelyag | sergiy.shelyag@deakin.edu.au<br />\n",
    "\n",
    "School of Information Technology, <br />\n",
    "Deakin University, VIC 3215, Australia.\n",
    "\n",
    "### <span style=\"color:#0b486b\">Due: 5pm, 5st June 2020</span>\n",
    "---\n"
   ]
  },
  {
   "cell_type": "markdown",
   "metadata": {},
   "source": [
    "### <span style=\"color:#0b486b\">Instructions</span>\n",
    "\n",
    "This notebook has been prepared for you to complete the Data Science Project. Some sections have been pre-filled  to help you get started. **The total mark for this task is 100**.\n",
    "\n",
    "There are two parts in this notebook that require you to complete:\n",
    "\n",
    "* **Part 1**: *Linear Regression* (**70 marks**)\n",
    "* **Part 2**: *Classification* (**30 marks**)\n",
    "\n",
    "Each part includes three main components:\n",
    " * **A:** Load a dataset from sklearn and examine it.\n",
    " * **B:** Build a training model and make predictions.\n",
    " * **C:** Report the results and visualize the data.\n",
    "\n",
    "Before you start, read the entire notebook carefully to understand what you need to do. You should also refer to the main instructions in *Project_instructions.pdf*  to know what else you need to complete for this project.\n",
    "\n",
    "As you go through this notebook:\n",
    "\n",
    "\n",
    "* markdown cells marked with **Note** mean description sections.\n",
    "\n",
    "\n",
    "* markdown cells marked with **Instructions** mean the instructions given to you to complete the sections.\n",
    "\n",
    "\n",
    "* Instructions marked with **(D)** and **(HD)** are for students aiming at high grades. They are more involved and can be completed after all other instructions.\n",
    "\n",
    "\n",
    "* For each cell marked with **#YOU ARE REQUIRED TO INSERT YOUR CODE IN THIS CELL**, there will be places where you **must** supply your own codes when instructed. <br><br>\n",
    "\n",
    "* For each cell marked with **#YOU ARE REQUIRED TO INSERT YOUR COMMENT IN THIS CELL**, there will be place where you **must** provide your own comment when instructed. <br><br>\n",
    "\n",
    "\n",
    "In the end, you must execute the entire notebook and submit two files:\n",
    "\n",
    " 1. The source of your solution notebook: **[YourID]_project_solution.ipynb**\n",
    " 2. And an exported version of your output: **[YourID]_project_output.html**\n",
    "       \n",
    "\n",
    "Please proceed with the instructions for each part below to complete your tasks."
   ]
  },
  {
   "cell_type": "markdown",
   "metadata": {},
   "source": [
    "**Note**: The following packages will be required for this assignment. If you need to import more packages, you might append them to the end of the following cell. "
   ]
  },
  {
   "cell_type": "code",
   "execution_count": 144,
   "metadata": {},
   "outputs": [],
   "source": [
    "'''\n",
    "Import packages needed for processing\n",
    "'''\n",
    "import numpy as np\n",
    "from sklearn import datasets\n",
    "import sklearn.metrics as metrics\n",
    "\n",
    "from sklearn import linear_model\n",
    "from sklearn import naive_bayes\n",
    "from sklearn.manifold import TSNE\n",
    "import matplotlib.pyplot as plt \n",
    "\n",
    "\n",
    "%matplotlib inline\n",
    "\n",
    "'''\n",
    "If you need add any additional packages, then add them below this line\n",
    "'''\n",
    "\n",
    "import pandas as pd\n",
    "import math\n",
    "import operator\n",
    "import sys\n"
   ]
  },
  {
   "cell_type": "markdown",
   "metadata": {},
   "source": [
    "# <span style=\"color:#0b486b\">Part 1: Linear Regression</span>\n",
    "\n",
    "In this part, you will be required to work on Linear Regression for the Linnerud dataset from sklearn.\n",
    "\n",
    "The Linnerud dataset is a multi-output regression dataset. It consists of three excercise (data) and three physiological (target) variables collected from twenty middle-aged men in a fitness club:\n",
    "\n",
    "physiological - containing 20 observations on 3 physiological variables:\n",
    "Weight, Waist and Pulse.\n",
    "\n",
    "exercise - containing 20 observations on 3 exercise variables:\n",
    "Chins, Situps and Jumps."
   ]
  },
  {
   "cell_type": "markdown",
   "metadata": {},
   "source": [
    "## Part 1A: Load and examine the Linnerud dataset"
   ]
  },
  {
   "cell_type": "markdown",
   "metadata": {},
   "source": [
    "**Instruction 1.1.** Write your code to load the **Linnerud** dataset from sklearn and assign it to a variable called `linnerud`.\n",
    "\n",
    "[**Total mark: 3**]"
   ]
  },
  {
   "cell_type": "code",
   "execution_count": 8,
   "metadata": {},
   "outputs": [
    {
     "name": "stdout",
     "output_type": "stream",
     "text": [
      "dict_keys(['data', 'feature_names', 'target', 'target_names', 'DESCR', 'data_filename', 'target_filename'])\n"
     ]
    }
   ],
   "source": [
    "# YOU ARE REQUIRED TO INSERT YOUR CODES IN THIS CELL\n",
    "'''\n",
    "1. Write your code to load the **Linnerud** dataset from sklearn \n",
    "    and assign it to a variable called `linnerud`.\n",
    "'''\n",
    "linnerud = datasets.load_linnerud()\n",
    "\n",
    "print(linnerud.keys())"
   ]
  },
  {
   "cell_type": "markdown",
   "metadata": {},
   "source": [
    "**Note:** `linnerud` is a dictionary with two keys: *'data'* - a numpy array containing the features and *'target'* containing the labels. The cell code below assigns the data to variable `X` and the labels to variable `Y`. Run the cell and use `X` and `Y` for later tasks."
   ]
  },
  {
   "cell_type": "code",
   "execution_count": 9,
   "metadata": {},
   "outputs": [],
   "source": [
    "X = linnerud['data']\n",
    "Y = linnerud['target']\n",
    "feature_names_X = linnerud['feature_names']\n",
    "label_names_Y = linnerud['target_names']"
   ]
  },
  {
   "cell_type": "markdown",
   "metadata": {},
   "source": [
    "**Instruction 1.2.** Now you need to examine the size and structure of the dataset. \n",
    "\n",
    "**Your tasks are:**\n",
    "1. Write your code to find and print out the number of **samples** and the number of **features** in the dataset. (1 mark)\n",
    "2. Print the feature and label names for the dataset. (1 mark)\n",
    "\n",
    "[**Total mark: 2**]"
   ]
  },
  {
   "cell_type": "code",
   "execution_count": 46,
   "metadata": {},
   "outputs": [
    {
     "name": "stdout",
     "output_type": "stream",
     "text": [
      "The number of samples:\n",
      "60\n",
      "The number of features:\n",
      "3\n",
      "Feature names: \n",
      "['Chins', 'Situps', 'Jumps']\n",
      "Label names: \n",
      "['Weight', 'Waist', 'Pulse']\n"
     ]
    }
   ],
   "source": [
    "# YOU ARE REQUIRED TO INSERT YOUR CODES IN THIS CELL\n",
    "'''\n",
    "1. Write your code to find and print out the number of **samples** \n",
    "    and the number of **features** in the dataset.\n",
    "    Using variable X.\n",
    "'''\n",
    "print('The number of samples:')\n",
    "print(np.size(X))\n",
    "\n",
    "\n",
    "print('The number of features:')\n",
    "print(np.size(X,1))\n",
    "\n",
    "# 2. Print the feature and label names for the dataset.\n",
    "print(\"Feature names: \")\n",
    "print(feature_names_X)\n",
    "print('Label names: ')\n",
    "print(label_names_Y)"
   ]
  },
  {
   "cell_type": "markdown",
   "metadata": {},
   "source": [
    "**Instruction 1.3.** We also need to get a brief understanding about the task by doing some statistics on the features and labels.\n",
    "\n",
    "**Your tasks are:**\n",
    "\n",
    "1. Write your code to print the **min**, **max**, **median** for each of the features. You need to use a loop in this task. (2 marks)\n",
    "2. Construct a **box-plot** for each of the features. (3 marks)\n",
    "\n",
    "3. Write your code to print the **min**, **max**, **median** for each of the labels. You need to use a loop in this task. (1 marks)\n",
    "4. Construct a **box-plot** for each of the labels. (1 marks)\n",
    "\n",
    "Do not forget to look at the feature and label names and print them in the output accordingly.\n",
    "\n",
    "[**Total marks: 7**]"
   ]
  },
  {
   "cell_type": "code",
   "execution_count": 73,
   "metadata": {},
   "outputs": [
    {
     "name": "stdout",
     "output_type": "stream",
     "text": [
      "For max value, \n",
      "Chins: 17.0\n",
      "Situps: 251.0\n",
      "Jumps: 250.0\n",
      "\n",
      "For min value, \n",
      "Chins: 1.0\n",
      "Situps: 50.0\n",
      "Jumps: 25.0\n",
      "\n",
      "For median value, \n",
      "Chins: 11.5\n",
      "Situps: 122.5\n",
      "Jumps: 54.0\n"
     ]
    }
   ],
   "source": [
    "# YOU ARE REQUIRED TO INSERT YOUR CODES IN THIS CELL\n",
    "#1. Write your code to print the min, max, median for each of the features. You need to use a loop in this task. \n",
    "print(\"For max value, \")\n",
    "max_X = np.max(X,axis=0)\n",
    "for i in range(np.size(X,1)):\n",
    "    print(feature_names_X[i] + \": \" + str(max_X[i]))\n",
    "\n",
    "print(\"\\nFor min value, \")\n",
    "min_X = np.min(X,axis=0)\n",
    "for i in range(np.size(X,1)):\n",
    "    print(feature_names_X[i] + \": \" + str(min_X[i]))\n",
    "    \n",
    "    \n",
    "print(\"\\nFor median value, \")\n",
    "median_X = np.median(X,axis=0)\n",
    "for i in range(np.size(X,1)):\n",
    "    print(feature_names_X[i] + \": \" + str(median_X[i]))"
   ]
  },
  {
   "cell_type": "code",
   "execution_count": 85,
   "metadata": {},
   "outputs": [
    {
     "data": {
      "image/png": "[encoded data removed]",
      "text/plain": [
       "<Figure size 504x360 with 1 Axes>"
      ]
     },
     "metadata": {
      "needs_background": "light"
     },
     "output_type": "display_data"
    }
   ],
   "source": [
    "# YOU ARE REQUIRED TO INSERT YOUR CODES IN THIS CELL\n",
    "#2. Construct a box-plot for each of the features.\n",
    "plt.figure(figsize=(7,5))\n",
    "plt.title(\"Boxplot of every feature\")\n",
    "plt.boxplot(X, labels=feature_names_X)\n",
    "plt.show()"
   ]
  },
  {
   "cell_type": "code",
   "execution_count": 88,
   "metadata": {},
   "outputs": [
    {
     "name": "stdout",
     "output_type": "stream",
     "text": [
      "For max value, \n",
      "Weight: 247.0\n",
      "Waist: 46.0\n",
      "Pulse: 74.0\n",
      "\n",
      "For min value, \n",
      "Weight: 138.0\n",
      "Waist: 31.0\n",
      "Pulse: 46.0\n",
      "\n",
      "For median value, \n",
      "Weight: 176.0\n",
      "Waist: 35.0\n",
      "Pulse: 55.0\n"
     ]
    }
   ],
   "source": [
    "# YOU ARE REQUIRED TO INSERT YOUR CODES IN THIS CELL\n",
    "#3. Write your code to print the min, max, median for each of the labels. You need to use a loop in this task. \n",
    "print(\"For max value, \")\n",
    "max_y = np.max(Y,axis=0)\n",
    "for i in range(np.size(Y,1)):\n",
    "    print(label_names_Y[i] + \": \" + str(max_y[i]))\n",
    "\n",
    "print(\"\\nFor min value, \")\n",
    "min_y = np.min(Y,axis=0)\n",
    "for i in range(np.size(Y,1)):\n",
    "    print(label_names_Y[i] + \": \" + str(min_y[i]))\n",
    "    \n",
    "    \n",
    "print(\"\\nFor median value, \")\n",
    "median_y = np.median(Y,axis=0)\n",
    "for i in range(np.size(Y,1)):\n",
    "    print(label_names_Y[i] + \": \" + str(median_y[i]))"
   ]
  },
  {
   "cell_type": "code",
   "execution_count": 89,
   "metadata": {},
   "outputs": [
    {
     "data": {
      "image/png": "[encoded data removed]",
      "text/plain": [
       "<Figure size 504x360 with 1 Axes>"
      ]
     },
     "metadata": {
      "needs_background": "light"
     },
     "output_type": "display_data"
    }
   ],
   "source": [
    "# YOU ARE REQUIRED TO INSERT YOUR CODES IN THIS CELL\n",
    "#4. Construct a box-plot for each of the features.\n",
    "plt.figure(figsize=(7,5))\n",
    "plt.title(\"Boxplot of every label\")\n",
    "plt.boxplot(Y, labels=label_names_Y)\n",
    "plt.show()"
   ]
  },
  {
   "cell_type": "markdown",
   "metadata": {},
   "source": [
    "## Part 1B. Linear Regression\n",
    "\n",
    "You are required to apply Linear Regression to train and make predictions on the **Linnerud** dataset."
   ]
  },
  {
   "cell_type": "markdown",
   "metadata": {},
   "source": [
    "**Note:** To perform a supervised learning task, we need to train the model on a training set of the input data and the correct labels, and predict the trained model on **unseen** data. Then, we use the correct labels of the **unseen** data to evaluate the performance of the model. The **unseen** dataset is called the **test set**.\n",
    "\n",
    "In this part, we will be using one-dimensional linear regression using `Situps` feature and `Waist` label."
   ]
  },
  {
   "cell_type": "markdown",
   "metadata": {},
   "source": [
    "**Instruction 1.4.** First you need to split the required feature and label from the **Linnerud** dataset into a training set and a test set. We will use 70% samples for training and 30% for testing. Print the number of samples in each set.\n",
    "\n",
    "[**Total marks: 5**]"
   ]
  },
  {
   "cell_type": "code",
   "execution_count": 97,
   "metadata": {},
   "outputs": [
    {
     "name": "stdout",
     "output_type": "stream",
     "text": [
      "The number of samples in the training set:\n",
      "For X, 14\n",
      "For Y, 14\n",
      "The number of samples in the test set:\n",
      "For X, 6\n",
      "For Y, 6\n"
     ]
    }
   ],
   "source": [
    "# YOU ARE REQUIRED TO INSERT YOUR CODES IN THIS CELL\n",
    "X_for_1D_LR = X[:,np.where(np.array([feature_names_X])[0] == 'Situps')[0]]\n",
    "Y_for_1D_LR = Y[:,np.where(np.array([label_names_Y])[0] == 'Waist')[0]]\n",
    "\n",
    "# first, compute the number of samples in the training set:\n",
    "n_train = int(len(Y_for_1D_LR) * 0.7)\n",
    "\n",
    "# The training set is the first n_train samples in the dataset\n",
    "X_train = X_for_1D_LR[: n_train]\n",
    "Y_train = Y_for_1D_LR[: n_train]\n",
    "\n",
    "# The test set is the remaining samples in the dataset\n",
    "X_test = X_for_1D_LR[n_train:]\n",
    "Y_test = Y_for_1D_LR[n_train:]\n",
    "\n",
    "# Print the number of samples in the training set\n",
    "print('The number of samples in the training set:')\n",
    "print(\"For X, \" + str(np.size(X_train)))\n",
    "print(\"For Y, \" + str(np.size(Y_train)))\n",
    "\n",
    "# Print the number of samples in the test set\n",
    "print('The number of samples in the test set:')\n",
    "print(\"For X, \" + str(np.size(X_test)))\n",
    "print(\"For Y, \" + str(np.size(Y_test)))"
   ]
  },
  {
   "cell_type": "markdown",
   "metadata": {},
   "source": [
    "**Instruction 1.5.** Your tasks are:\n",
    "1. Create a Linear Regression model called `lr`. (5 marks)\n",
    "2. Fit the training data to the model. (5 marks)\n",
    "\n",
    "[**Total marks: 10**]"
   ]
  },
  {
   "cell_type": "code",
   "execution_count": 99,
   "metadata": {},
   "outputs": [],
   "source": [
    "# YOU ARE REQUIRED TO INSERT YOUR CODES IN THIS CELL\n",
    "\n",
    "lr = linear_model.LinearRegression()"
   ]
  },
  {
   "cell_type": "code",
   "execution_count": 105,
   "metadata": {},
   "outputs": [
    {
     "data": {
      "text/plain": [
       "LinearRegression(copy_X=True, fit_intercept=True, n_jobs=None, normalize=False)"
      ]
     },
     "execution_count": 105,
     "metadata": {},
     "output_type": "execute_result"
    }
   ],
   "source": [
    "# YOU ARE REQUIRED TO INSERT YOUR CODES IN THIS CELL\n",
    "\n",
    "lr.fit(X_train,Y_train)"
   ]
  },
  {
   "cell_type": "markdown",
   "metadata": {},
   "source": [
    "**Instruction 1.6** Predict the output of the test set.\n",
    "\n",
    "[**Total marks: 5**]"
   ]
  },
  {
   "cell_type": "code",
   "execution_count": 112,
   "metadata": {
    "scrolled": true
   },
   "outputs": [
    {
     "name": "stdout",
     "output_type": "stream",
     "text": [
      "predicted response:\n",
      "[[39.1280724 ]\n",
      " [32.60660856]\n",
      " [39.59389124]\n",
      " [31.67497087]\n",
      " [31.90788029]\n",
      " [37.26479701]]\n"
     ]
    }
   ],
   "source": [
    "# INSERT YOUR CODE HERE\n",
    "Y_pred = lr.predict(X_test)\n",
    "print('predicted response:', Y_pred, sep='\\n')"
   ]
  },
  {
   "cell_type": "markdown",
   "metadata": {},
   "source": [
    "**Instruction 1.7** Construct a plot, where you will show the regression line for `Waist` vs `Situps`, the training data (use blue colour), the testing data (use green colour), and the residuals for the testing data.\n",
    "\n",
    "[**Total marks: 5**]"
   ]
  },
  {
   "cell_type": "code",
   "execution_count": 113,
   "metadata": {},
   "outputs": [
    {
     "data": {
      "image/png": "[encoded data removed]",
      "text/plain": [
       "<Figure size 432x288 with 1 Axes>"
      ]
     },
     "metadata": {},
     "output_type": "display_data"
    }
   ],
   "source": [
    "# YOU ARE REQUIRED TO INSERT YOUR CODES IN THIS CELL\n",
    "# Construct a plot, where you will show the regression line for Waist vs Situps, the training data (use blue colour), \n",
    "# the testing data (use green colour), and the residuals for the testing data.\n",
    "# INSERT YOUR CODE HERE\n",
    "plt.scatter(X_test, Y_test,  color='blue')\n",
    "plt.plot(X_test, Y_pred, color='green', linewidth=3)\n",
    "\n",
    "plt.xticks(())\n",
    "plt.yticks(())\n",
    "\n",
    "plt.show()"
   ]
  },
  {
   "cell_type": "markdown",
   "metadata": {
    "collapsed": true
   },
   "source": [
    "## Part 1C. Results"
   ]
  },
  {
   "cell_type": "markdown",
   "metadata": {},
   "source": [
    "**Note:** To evaluate the performance of a Linear Regression model, two commonly used measures are **mean absolute error** and **root mean squared error**.\n",
    "\n",
    "**mean absolute error** is defined by:\n",
    "\n",
    "$$mean\\_absolute\\_error(Y_{test}, Y_{pred}) = \\frac{1}{n_{samples}}\\sum_{i=1}^{n_{samples}}|y_{test}^i - y_{pred}^i|$$\n",
    "\n",
    "**root mean squared error** is defined by:\n",
    "\n",
    "$$root\\_mean\\_squared\\_error(Y_{test}, Y_{pred}) = \\sqrt{\\frac{1}{n_{samples}}\\sum_{i=1}^{n_{samples}}(y_{test}^i - y_{pred}^i)^2}$$\n"
   ]
  },
  {
   "cell_type": "markdown",
   "metadata": {},
   "source": [
    "**Instruction 1.8.** Compute **mean absolute error** and **root mean squared error** between the correct labels and the predictions of the test set and print these two values.\n",
    "\n",
    "[**Total marks: 8**]\n",
    "\n",
    "**Hint:** You might need to use [Regression metrics](http://scikit-learn.org/stable/modules/model_evaluation.html#regression-metrics) from sklearn."
   ]
  },
  {
   "cell_type": "code",
   "execution_count": 117,
   "metadata": {},
   "outputs": [
    {
     "name": "stdout",
     "output_type": "stream",
     "text": [
      "Mean Absolute Error: 2.6328834897177003\n",
      "Root Mean Squared Error: 3.035947409287648\n"
     ]
    }
   ],
   "source": [
    "# YOU ARE REQUIRED TO INSERT YOUR CODES IN THIS CELL\n",
    "\n",
    "# Compute the mean absolute error between Y_test and Y_pred\n",
    "# Then, print the value\n",
    "print(\"Mean Absolute Error: \" + str(metrics.mean_absolute_error(Y_test, Y_pred)))\n",
    "\n",
    "\n",
    "# Compute the root mean squared error between Y_test and Y_pred\n",
    "# Then, print the value\n",
    "print(\"Root Mean Squared Error: \" + str(math.sqrt(metrics.mean_squared_error(Y_test, Y_pred))))\n"
   ]
  },
  {
   "cell_type": "markdown",
   "metadata": {},
   "source": [
    "## Part 1D. More advanced modelling"
   ]
  },
  {
   "cell_type": "markdown",
   "metadata": {},
   "source": [
    "**Instruction 1.9 (D, HD)** As we can see, the dataset has multi-dimensional feature vector. Previously we used only one feature to do one-dimensional linear regression model. In this task, we want to create a **two**-dimensional linear regression model for the label `Weight`. First of all, **using Pearson correlation**, we need to decide, which two of three independent variables would be best to use for Y vector in linear regression. Therefore, your tasks are:\n",
    "1. Write your code to find out which two out of three variables you will be using for linear regression. (5 marks)\n",
    "2. Explain your choice. (5 marks)\n",
    "\n",
    "[**Total marks: 10**]"
   ]
  },
  {
   "cell_type": "code",
   "execution_count": null,
   "metadata": {},
   "outputs": [],
   "source": [
    "# YOU ARE REQUIRED TO INSERT YOUR CODES IN THIS CELL\n",
    "# Write your code to find out which two out of three variable you will be using for linear regression.\n",
    "# INSERT YOUR CODE HERE\n"
   ]
  },
  {
   "cell_type": "code",
   "execution_count": null,
   "metadata": {},
   "outputs": [],
   "source": [
    "# YOU ARE REQUIRED TO INSERT YOUR COMMENT IN THIS CELL\n",
    "# INSERT YOUR COMMENT HERE\n"
   ]
  },
  {
   "cell_type": "markdown",
   "metadata": {},
   "source": [
    "**Instruction 1.10 (D, HD)** After we have decided, which features are best to use for linear regression, we need to create training and testing data, where the feature vector is two-dimensional and the label is `Weight`. Also, we will need to compare the two-dimensional linear regression (based on two best independent variables) with on-dimensional linear regression (based on the best independent variable). Therefore, we will need to create a dataset with one-dimensional feature vector for comparison.\n",
    "\n",
    "Your task is:\n",
    "1. Create the training and testing datasets for two-dimensional linear regression. (4 marks)\n",
    "2. Create the one-dimensional training and testing dataset for comparison with 2D linear regression. (1 mark)\n",
    "\n",
    "[**Total marks: 5**]"
   ]
  },
  {
   "cell_type": "code",
   "execution_count": null,
   "metadata": {},
   "outputs": [],
   "source": [
    "# YOU ARE REQUIRED TO INSERT YOUR CODES IN THIS CELL\n",
    "# INSERT YOUR CODE HERE\n",
    "# INSERT YOUR CODE HERE\n",
    "\n",
    "# first, compute the number of samples in the training set:\n",
    "# INSERT YOUR CODE HERE\n",
    "\n",
    "# The training set is the first n_train samples in the dataset\n",
    "# INSERT YOUR CODE HERE\n",
    "# INSERT YOUR CODE HERE\n",
    "\n",
    "# The test set is the remaining samples in the dataset\n",
    "# INSERT YOUR CODE HERE\n",
    "# INSERT YOUR CODE HERE\n",
    "\n",
    "# The 1D comparison dataset\n",
    "# INSERT YOUR CODE HERE\n",
    "# INSERT YOUR CODE HERE\n",
    "# INSERT YOUR CODE HERE\n",
    "\n"
   ]
  },
  {
   "cell_type": "markdown",
   "metadata": {},
   "source": [
    "**Instruction 1.11 (D, HD)** We have the training and testing data now. Therefore, your tasks are:\n",
    "1. Create a linear regression model named `lr2d`. (1 mark)\n",
    "2. Fit the training data to the model. (1 mark)\n",
    "3. Predict the output on the test set. (1 mark)\n",
    "4. Compute **mean absolute error** and **root mean squared error** between the correct labels and the predictions of the test set and print these two values. (1 mark)\n",
    "\n",
    "[**Total marks: 4**]"
   ]
  },
  {
   "cell_type": "code",
   "execution_count": null,
   "metadata": {},
   "outputs": [],
   "source": [
    "# YOU ARE REQUIRED TO INSERT YOUR CODES IN THIS CELL\n",
    "# INSERT YOUR CODE HERE\n",
    "lr2d = "
   ]
  },
  {
   "cell_type": "code",
   "execution_count": null,
   "metadata": {},
   "outputs": [],
   "source": [
    "# YOU ARE REQUIRED TO INSERT YOUR CODES IN THIS CELL\n",
    "# INSERT YOUR CODE HERE\n"
   ]
  },
  {
   "cell_type": "code",
   "execution_count": null,
   "metadata": {},
   "outputs": [],
   "source": [
    "# YOU ARE REQUIRED TO INSERT YOUR CODES IN THIS CELL\n",
    "# INSERT YOUR CODE HERE\n"
   ]
  },
  {
   "cell_type": "code",
   "execution_count": null,
   "metadata": {},
   "outputs": [],
   "source": [
    "# YOU ARE REQUIRED TO INSERT YOUR CODES IN THIS CELL\n",
    "# INSERT YOUR CODE HERE"
   ]
  },
  {
   "cell_type": "markdown",
   "metadata": {},
   "source": [
    "**Instruction 1.12 (D, HD)** Now we can compare the errors for two-dimensional linear regression with one-dimensional linear regression. Your tasks are:\n",
    "1. Create a linear regression model named `lr1d_compare`. Fit the one-dimensional training data and the same labels to the model. Predict the output on the comparison dataset. (1 mark)\n",
    "2. Compute **mean absolute error** and **root mean squared error** between the correct labels and the predictions of the comparison set and print these two values. (1 mark)\n",
    "3. Discuss the findings and explain the result. In discussion, consider the relationships between the size of the dataset, the Pearson correlation coefficients you have calculated above, the `Weight` values and the values of errors. (4 marks)\n",
    "\n",
    "[**Total marks: 6**]"
   ]
  },
  {
   "cell_type": "code",
   "execution_count": null,
   "metadata": {},
   "outputs": [],
   "source": [
    "# YOU ARE REQUIRED TO INSERT YOUR CODES IN THIS CELL\n",
    "# INSERT YOUR CODE HERE\n"
   ]
  },
  {
   "cell_type": "code",
   "execution_count": null,
   "metadata": {},
   "outputs": [],
   "source": [
    "# YOU ARE REQUIRED TO INSERT YOUR CODES IN THIS CELL\n",
    "# INSERT YOUR CODE HERE\n"
   ]
  },
  {
   "cell_type": "code",
   "execution_count": null,
   "metadata": {},
   "outputs": [],
   "source": [
    "# YOU ARE REQUIRED TO INSERT YOUR COMMENT IN THIS CELL\n",
    "# INSERT YOUR COMMENT HERE\n"
   ]
  },
  {
   "cell_type": "markdown",
   "metadata": {},
   "source": [
    "# <span style=\"color:#0b486b\">Part 2: Classification</span>\n",
    "\n",
    "In this part, you will be required to apply Naive Bayes algorithm for the classification task on the **breast cancer** dataset from sklearn. More about the dataset can be found [here](http://scikit-learn.org/stable/modules/generated/sklearn.datasets.load_breast_cancer.html#sklearn.datasets.load_breast_cancer). \n",
    "\n",
    "Here, we apply Multinomial Naive Bayes for discrete features. We can construct a Multinomial Naive Bayes model by calling **naive_bayes.MultinomialNB()** from sklearn package. More about the model can be found [here](http://scikit-learn.org/stable/modules/generated/sklearn.naive_bayes.MultinomialNB.html#sklearn.naive_bayes.MultinomialNB)\n"
   ]
  },
  {
   "cell_type": "markdown",
   "metadata": {},
   "source": [
    "## Part 2A: Load and examine the dataset"
   ]
  },
  {
   "cell_type": "markdown",
   "metadata": {},
   "source": [
    "**Instruction 2.1.** Write your code to load the **breast cancer** dataset from sklearn and assign it to a variable called `cancer`.\n",
    "\n",
    "[**Total mark: 1**]"
   ]
  },
  {
   "cell_type": "code",
   "execution_count": 119,
   "metadata": {},
   "outputs": [
    {
     "name": "stdout",
     "output_type": "stream",
     "text": [
      "dict_keys(['data', 'target', 'target_names', 'DESCR', 'feature_names', 'filename'])\n"
     ]
    }
   ],
   "source": [
    "# YOU ARE REQUIRED TO INSERT YOUR CODES IN THIS CELL\n",
    "'''\n",
    "1. Write your code to load the dataset from sklearn and assign it to a variable called `cancer`.\n",
    "'''\n",
    "cancer = datasets.load_breast_cancer()\n",
    "\n",
    "print(cancer.keys())"
   ]
  },
  {
   "cell_type": "markdown",
   "metadata": {},
   "source": [
    "**Note:** The cell code below assigns the data to variable `X` and the labels to variable `Y`. Run the cell and use `X` and `Y` for later tasks."
   ]
  },
  {
   "cell_type": "code",
   "execution_count": 120,
   "metadata": {},
   "outputs": [],
   "source": [
    "X = cancer['data']\n",
    "Y = cancer['target']"
   ]
  },
  {
   "cell_type": "markdown",
   "metadata": {},
   "source": [
    "**Instruction 2.2.** Now you need to examine the size of data. Write your code to find and print out the number of **samples** and the number of **features** in the dataset.\n",
    "\n",
    "[**Total mark: 1**]"
   ]
  },
  {
   "cell_type": "code",
   "execution_count": 129,
   "metadata": {},
   "outputs": [
    {
     "name": "stdout",
     "output_type": "stream",
     "text": [
      "The number of samples:\n",
      "17070\n",
      "The number of features:\n",
      "30\n"
     ]
    }
   ],
   "source": [
    "# YOU ARE REQUIRED TO INSERT YOUR CODES IN THIS CELL\n",
    "'''\n",
    "2. Write your code to find and print out the number of **samples** \n",
    "    and the number of **features** in the dataset.\n",
    "    Using variable X.\n",
    "'''\n",
    "print('The number of samples:')\n",
    "print(np.size(X))\n",
    "\n",
    "\n",
    "print('The number of features:')\n",
    "print(np.size(X,1))\n"
   ]
  },
  {
   "cell_type": "markdown",
   "metadata": {},
   "source": [
    "**Instruction 2.3.** The following code segment is designed to do some statistics on the labels to get a brief understanding about the prediction task. This is a classication task, it is important to know the number of categories (or number of classes) in the dataset and their frequencies.\n",
    "\n",
    "**Your tasks are:**\n",
    "\n",
    "1. Write your code to compute and print the number of classes in the dataset. (1 marks)\n",
    "2. Write your code to compute and print the number of occurrences of each class. (3 marks)\n",
    "\n",
    "[**Total marks: 4**]"
   ]
  },
  {
   "cell_type": "code",
   "execution_count": 140,
   "metadata": {},
   "outputs": [
    {
     "name": "stdout",
     "output_type": "stream",
     "text": [
      "The number of classes: \n"
     ]
    },
    {
     "ename": "AttributeError",
     "evalue": "'numpy.ndarray' object has no attribute 'count'",
     "output_type": "error",
     "traceback": [
      "\u001b[1;31m---------------------------------------------------------------------------\u001b[0m",
      "\u001b[1;31mAttributeError\u001b[0m                            Traceback (most recent call last)",
      "\u001b[1;32m<ipython-input-140-8b2c7348b3dd>\u001b[0m in \u001b[0;36m<module>\u001b[1;34m\u001b[0m\n\u001b[0;32m      7\u001b[0m \u001b[1;31m# compute and print the number of classes.\u001b[0m\u001b[1;33m\u001b[0m\u001b[1;33m\u001b[0m\u001b[1;33m\u001b[0m\u001b[0m\n\u001b[0;32m      8\u001b[0m \u001b[0mprint\u001b[0m\u001b[1;33m(\u001b[0m\u001b[1;34m\"The number of classes: \"\u001b[0m\u001b[1;33m)\u001b[0m\u001b[1;33m\u001b[0m\u001b[1;33m\u001b[0m\u001b[0m\n\u001b[1;32m----> 9\u001b[1;33m \u001b[0mprint\u001b[0m\u001b[1;33m(\u001b[0m\u001b[0mY\u001b[0m\u001b[1;33m.\u001b[0m\u001b[0mcount\u001b[0m\u001b[1;33m(\u001b[0m\u001b[1;33m)\u001b[0m\u001b[1;33m)\u001b[0m\u001b[1;33m\u001b[0m\u001b[1;33m\u001b[0m\u001b[0m\n\u001b[0m",
      "\u001b[1;31mAttributeError\u001b[0m: 'numpy.ndarray' object has no attribute 'count'"
     ]
    }
   ],
   "source": [
    "# YOU ARE REQUIRED TO INSERT YOUR CODES IN THIS CELL\n",
    "'''\n",
    "1. Write your code to compute and print the number of classes in the dataset.\n",
    "    Using variable Y.\n",
    "'''\n",
    "\n",
    "# compute and print the number of classes.\n",
    "print(\"The number of classes: \")\n",
    "print()\n"
   ]
  },
  {
   "cell_type": "code",
   "execution_count": 143,
   "metadata": {},
   "outputs": [
    {
     "name": "stdout",
     "output_type": "stream",
     "text": [
      "Number of occurences: \n"
     ]
    },
    {
     "ename": "AttributeError",
     "evalue": "'numpy.ndarray' object has no attribute 'count'",
     "output_type": "error",
     "traceback": [
      "\u001b[1;31m---------------------------------------------------------------------------\u001b[0m",
      "\u001b[1;31mAttributeError\u001b[0m                            Traceback (most recent call last)",
      "\u001b[1;32m<ipython-input-143-48400a76f289>\u001b[0m in \u001b[0;36m<module>\u001b[1;34m\u001b[0m\n\u001b[0;32m      6\u001b[0m \u001b[1;31m# compute and print the number of occurrences of each class\u001b[0m\u001b[1;33m\u001b[0m\u001b[1;33m\u001b[0m\u001b[1;33m\u001b[0m\u001b[0m\n\u001b[0;32m      7\u001b[0m \u001b[0mprint\u001b[0m\u001b[1;33m(\u001b[0m\u001b[1;34m\"Number of occurences: \"\u001b[0m\u001b[1;33m)\u001b[0m\u001b[1;33m\u001b[0m\u001b[1;33m\u001b[0m\u001b[0m\n\u001b[1;32m----> 8\u001b[1;33m \u001b[0mprint\u001b[0m\u001b[1;33m(\u001b[0m\u001b[0mY\u001b[0m\u001b[1;33m.\u001b[0m\u001b[0mcount\u001b[0m\u001b[1;33m(\u001b[0m\u001b[1;36m0\u001b[0m\u001b[1;33m)\u001b[0m\u001b[1;33m)\u001b[0m\u001b[1;33m\u001b[0m\u001b[1;33m\u001b[0m\u001b[0m\n\u001b[0m",
      "\u001b[1;31mAttributeError\u001b[0m: 'numpy.ndarray' object has no attribute 'count'"
     ]
    }
   ],
   "source": [
    "# YOU ARE REQUIRED TO INSERT YOUR CODES IN THIS CELL\n",
    "'''\n",
    "2. Write your code to compute and print the number of occurrences of each class.\n",
    "'''\n",
    "\n",
    "# compute and print the number of occurrences of each class\n",
    "print(\"Number of occurences: \")\n",
    "print(Y.count(0))\n"
   ]
  },
  {
   "cell_type": "markdown",
   "metadata": {},
   "source": [
    "## Part 2B. Classification with Naive Bayes\n",
    "\n",
    "You are required to apply Naive Bayes to train and make predictions on the **breast cancer** dataset."
   ]
  },
  {
   "cell_type": "markdown",
   "metadata": {},
   "source": [
    "Multinomial Naive Bayes classifier is used for discrete data. The features of the breast cancer dataset are however real values. The function below discretise the features in to 0 (low), 1 (middle) and 2 (high). Run the cell below."
   ]
  },
  {
   "cell_type": "code",
   "execution_count": null,
   "metadata": {},
   "outputs": [],
   "source": [
    "def discretise(X):\n",
    "    # for each feature, values smaller than 33% percentile are set by 0 (low), \n",
    "    # from 33% to 67% percentile are set by 1 (middle) and other are set by 2 (high).\n",
    "    \n",
    "    n_feats = X.shape[-1]\n",
    "    X_discrete = np.zeros(X.shape)\n",
    "    \n",
    "    for i in range(n_feats):\n",
    "        # compute val1 and val2 as the percentile of 33% and 67%, respectively of the column i\n",
    "        val1, val2 = np.percentile(X[:, i], 33), np.percentile(X[:, i], 67)   \n",
    "        \n",
    "        # increase all discrete values by 1 for all values in X that larger than val1\n",
    "        ids = np.where(X[:, i] > val1)[0]\n",
    "        X_discrete[ids, i] += 1\n",
    "        \n",
    "        # increase all discrete values by 1 for all values in X that larger than val2\n",
    "        ids = np.where(X[:, i] > val2)[0]\n",
    "        X_discrete[ids, i] += 1\n",
    "        \n",
    "    return X_discrete\n"
   ]
  },
  {
   "cell_type": "markdown",
   "metadata": {},
   "source": [
    "Then we call the discretise function for the feature X. Run the cell below and your data are ready for classification."
   ]
  },
  {
   "cell_type": "code",
   "execution_count": null,
   "metadata": {},
   "outputs": [],
   "source": [
    "X = discretise(X)"
   ]
  },
  {
   "cell_type": "markdown",
   "metadata": {},
   "source": [
    "**Instruction 2.4.** Similar to **Part 1**, you need to split the dataset into a training set and a test set. We will use 70% samples for training and 30% for testing. Print the number of samples in each set.\n",
    "\n",
    "[**Total marks: 2**]"
   ]
  },
  {
   "cell_type": "code",
   "execution_count": null,
   "metadata": {},
   "outputs": [],
   "source": [
    "# YOU ARE REQUIRED TO INSERT YOUR CODES IN THIS CELL\n",
    "\n",
    "# first, compute the number of samples in the training set:\n",
    "n_train = int(len(Y) * 0.7)\n",
    "\n",
    "# The training set is the first n_train samples in the dataset\n",
    "# INSERT YOUR CODE HERE\n",
    "# INSERT YOUR CODE HERE\n",
    "\n",
    "# The test set is the remaining samples in the dataset\n",
    "# INSERT YOUR CODE HERE\n",
    "# INSERT YOUR CODE HERE\n",
    "\n",
    "# Print the number of samples in the training set\n",
    "print('The number of samples in the training set:')\n",
    "# INSERT YOUR CODE HERE\n",
    "\n",
    "\n",
    "# Print the number of samples in the test set\n",
    "print('The number of samples in the test set:')\n",
    "# INSERT YOUR CODE HERE"
   ]
  },
  {
   "cell_type": "markdown",
   "metadata": {},
   "source": [
    "**Instruction 2.5.** Create a Multinomial Naive Bayes model called `mnb`.\n",
    "\n",
    "[**Total marks: 2**]"
   ]
  },
  {
   "cell_type": "code",
   "execution_count": null,
   "metadata": {},
   "outputs": [],
   "source": [
    "# YOU ARE REQUIRED TO INSERT YOUR CODES IN THIS CELL\n",
    "# INSERT YOUR CODE HERE"
   ]
  },
  {
   "cell_type": "markdown",
   "metadata": {},
   "source": [
    "**Instruction 2.6.** Fit the training data to the model.\n",
    "\n",
    "[**Total marks: 2**]"
   ]
  },
  {
   "cell_type": "code",
   "execution_count": null,
   "metadata": {},
   "outputs": [],
   "source": [
    "# YOU ARE REQUIRED TO INSERT YOUR CODES IN THIS CELL\n",
    "# INSERT YOUR CODE HERE"
   ]
  },
  {
   "cell_type": "markdown",
   "metadata": {},
   "source": [
    "**Instruction 2.7** Predict the output of the test set.\n",
    "\n",
    "[**Total marks: 2**]"
   ]
  },
  {
   "cell_type": "code",
   "execution_count": null,
   "metadata": {},
   "outputs": [],
   "source": [
    "# INSERT YOUR CODE HERE"
   ]
  },
  {
   "cell_type": "markdown",
   "metadata": {
    "collapsed": true
   },
   "source": [
    "## Part 2C. Results and Visualization"
   ]
  },
  {
   "cell_type": "markdown",
   "metadata": {},
   "source": [
    "**Note:** To evaluate the performance of a classification task, commonly used measures are **accuracy**, **precision**, **recall** and **f1-score**."
   ]
  },
  {
   "cell_type": "markdown",
   "metadata": {},
   "source": [
    "**Instruction 2.8.** Compute the **accuracy**, **precision**, **recall** and **f1-score** of the predictions on the test set and print these values.\n",
    "\n",
    "[**Total marks: 8**]\n",
    "\n",
    "**Hint:** You might need to see [Classification metrics](http://scikit-learn.org/stable/modules/model_evaluation.html#classification-metrics) from sklearn."
   ]
  },
  {
   "cell_type": "code",
   "execution_count": null,
   "metadata": {},
   "outputs": [],
   "source": [
    "# YOU ARE REQUIRED TO INSERT YOUR CODES IN THIS CELL\n",
    "\n",
    "# Compute and print the accuracy of predictions on the test set\n",
    "# INSERT YOUR CODE HERE\n",
    "\n",
    "\n",
    "# Compute and print the precision of predictions on the test set\n",
    "# INSERT YOUR CODE HERE\n",
    "\n",
    "\n",
    "# Compute and print the recall of predictions on the test set\n",
    "# INSERT YOUR CODE HERE\n",
    "\n",
    "\n",
    "# Compute and print the f1-score of predictions on the test set\n",
    "# INSERT YOUR CODE HERE"
   ]
  },
  {
   "cell_type": "markdown",
   "metadata": {},
   "source": [
    "**Note:** We have evaluated the performance of the classification task by different measures. Now, we want to visualise the data as well as the predicted labels. [t-SNE](http://scikit-learn.org/stable/modules/generated/sklearn.manifold.TSNE.html) is a tool to convert high-dimensional data into low-dimensional ones. To visualise the data, we can use t-SNE to reduce the data dimension to 2D.\n",
    "\n",
    "The following function `reduce_to_2D` takes the matrix X of size (n_samples, n_features) and returns a matrix of size (n_samples, 2), which is a dimension-reduced version of X. **You will need this function for a subsequent task**."
   ]
  },
  {
   "cell_type": "code",
   "execution_count": null,
   "metadata": {},
   "outputs": [],
   "source": [
    "def reduce_to_2D(X):\n",
    "    tsne = TSNE(n_components=2, random_state=1)\n",
    "    new_X = tsne.fit_transform(X)\n",
    "    return new_X"
   ]
  },
  {
   "cell_type": "markdown",
   "metadata": {},
   "source": [
    "**Instruction 2.9**. Visualisation.\n",
    "\n",
    "**Your tasks are:**\n",
    "\n",
    "1. Create a variable named `X_test_2D` that is the dimension-reduced version of X_test using function `reduce_to_2D`. (4 marks)\n",
    "\n",
    "2. Visualise `X_test_2D` using scatter() with the colors being the corresponding predicted labels. (4 marks)\n",
    "\n",
    "\n",
    "[**Total mark: 8**]"
   ]
  },
  {
   "cell_type": "code",
   "execution_count": null,
   "metadata": {},
   "outputs": [],
   "source": [
    "# YOU ARE REQUIRED TO INSERT YOUR CODES IN THIS CELL\n",
    "'''\n",
    "1. Create a variable named `X_test_2D` \n",
    "    that is the dimension-reduced version of X_test using function `reduce_to_2D`.\n",
    "'''\n",
    "\n",
    "# INSERT YOUR CODE HERE\n"
   ]
  },
  {
   "cell_type": "code",
   "execution_count": null,
   "metadata": {},
   "outputs": [],
   "source": [
    "# YOU ARE REQUIRED TO INSERT YOUR CODES IN THIS CELL\n",
    "'''\n",
    "2. Visualise `X_test_2D` by scatters with the colors being the corresponding predicted labels.\n",
    "'''\n",
    "\n",
    "# INSERT YOUR CODE HERE\n"
   ]
  },
  {
   "cell_type": "code",
   "execution_count": null,
   "metadata": {},
   "outputs": [],
   "source": []
  },
  {
   "cell_type": "code",
   "execution_count": null,
   "metadata": {},
   "outputs": [],
   "source": []
  }
 ],
 "metadata": {
  "kernelspec": {
   "display_name": "Python 3",
   "language": "python",
   "name": "python3"
  },
  "language_info": {
   "codemirror_mode": {
    "name": "ipython",
    "version": 3
   },
   "file_extension": ".py",
   "mimetype": "text/x-python",
   "name": "python",
   "nbconvert_exporter": "python",
   "pygments_lexer": "ipython3",
   "version": "3.7.6"
  },
  "latex_envs": {
   "LaTeX_envs_menu_present": true,
   "autoclose": false,
   "autocomplete": true,
   "bibliofile": "biblio.bib",
   "cite_by": "apalike",
   "current_citInitial": 1,
   "eqLabelWithNumbers": true,
   "eqNumInitial": 1,
   "hotkeys": {
    "equation": "Ctrl-E",
    "itemize": "Ctrl-I"
   },
   "labels_anchors": false,
   "latex_user_defs": false,
   "report_style_numbering": false,
   "user_envs_cfg": false
  },
  "toc": {
   "base_numbering": 1,
   "nav_menu": {},
   "number_sections": true,
   "sideBar": true,
   "skip_h1_title": false,
   "title_cell": "Table of Contents",
   "title_sidebar": "Contents",
   "toc_cell": false,
   "toc_position": {},
   "toc_section_display": true,
   "toc_window_display": false
  }
 },
 "nbformat": 4,
 "nbformat_minor": 1
}
